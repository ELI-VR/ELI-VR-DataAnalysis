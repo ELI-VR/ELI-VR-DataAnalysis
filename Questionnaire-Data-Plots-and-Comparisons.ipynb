{
 "cells": [
  {
   "cell_type": "markdown",
   "id": "732f185a",
   "metadata": {},
   "source": [
    "# Analysis of ELI-VR and BA Questionnaire Data\n",
    "\n",
    "Author: Zora Nolte\n",
    "\n",
    "Last updated: 12.02.2022"
   ]
  },
  {
   "cell_type": "code",
   "execution_count": null,
   "id": "c30e0f79",
   "metadata": {},
   "outputs": [],
   "source": [
    "import os\n",
    "import pandas as pd\n",
    "import matplotlib.pyplot as plt\n",
    "import matplotlib.ticker as ticker\n",
    "from scipy import stats\n",
    "import seaborn as sns"
   ]
  },
  {
   "cell_type": "markdown",
   "id": "a675a818",
   "metadata": {},
   "source": [
    "# ELI-VR Questionnaire Data"
   ]
  },
  {
   "cell_type": "code",
   "execution_count": null,
   "id": "77697990",
   "metadata": {},
   "outputs": [],
   "source": [
    "df = pd.read_csv(\"data/data_questionnaires_preprocessed.csv\")"
   ]
  },
  {
   "cell_type": "code",
   "execution_count": null,
   "id": "84304b4d",
   "metadata": {
    "scrolled": true
   },
   "outputs": [],
   "source": [
    "list(df[df[\"blob\"] == 1][\"ID\"])"
   ]
  },
  {
   "cell_type": "code",
   "execution_count": null,
   "id": "3babd021",
   "metadata": {
    "scrolled": true
   },
   "outputs": [],
   "source": [
    "print(\"In total, there were {} participants.\".format(len(df)))"
   ]
  },
  {
   "cell_type": "code",
   "execution_count": null,
   "id": "ea1f5fc4",
   "metadata": {
    "scrolled": true
   },
   "outputs": [],
   "source": [
    "print(\"{} participants were in the blob condition, {} in the avatar condition.\".format(df[\"blob\"].value_counts()[1], df[\"blob\"].value_counts()[0]))"
   ]
  },
  {
   "cell_type": "code",
   "execution_count": null,
   "id": "017b2fb8",
   "metadata": {},
   "outputs": [],
   "source": [
    "def createBoxplot(data, ax, title, labels=None, xlabel='', fontsize=16):\n",
    "    sns.boxplot(data=data, ax=ax, showmeans=True, meanprops={\"marker\":\"d\",\"markerfacecolor\":\"white\", \"markeredgecolor\":\"black\"})\n",
    "    if labels:\n",
    "        ax.set_xticks(range(len(labels)))\n",
    "        ax.set_xticklabels(labels) \n",
    "    ax.set_title(title, pad=20, fontsize=fontsize)\n",
    "    ax.set_xlabel(xlabel)\n",
    "    ax.set_ylabel('')"
   ]
  },
  {
   "cell_type": "code",
   "execution_count": null,
   "id": "70e4c317",
   "metadata": {},
   "outputs": [],
   "source": [
    "def secondXAxis(originalaxis, xticks, minorlocations, minorlabels):\n",
    "    # Second X-axis\n",
    "    ax2 = originalaxis.twiny()\n",
    "\n",
    "    ax2.spines[\"bottom\"].set_position((\"axes\", -0.1))\n",
    "    ax2.tick_params('both', length=0, width=0, which='minor')\n",
    "    ax2.tick_params('both', direction='in', which='major')\n",
    "    ax2.xaxis.set_ticks_position(\"bottom\")\n",
    "    ax2.xaxis.set_label_position(\"bottom\")\n",
    "\n",
    "    ax2.set_xticks(xticks)\n",
    "    ax2.xaxis.set_major_formatter(ticker.NullFormatter())\n",
    "    ax2.xaxis.set_minor_locator(ticker.FixedLocator(minorlocations))\n",
    "    ax2.xaxis.set_minor_formatter(ticker.FixedFormatter(minorlabels))"
   ]
  },
  {
   "cell_type": "markdown",
   "id": "69318c05",
   "metadata": {},
   "source": [
    "### Questionnaires overview"
   ]
  },
  {
   "cell_type": "code",
   "execution_count": null,
   "id": "3472168f",
   "metadata": {
    "scrolled": true
   },
   "outputs": [],
   "source": [
    "fig, axes = plt.subplots(nrows=1, ncols=4, figsize=(14,3))\n",
    "plt.subplots_adjust(wspace=0.4)\n",
    "fig.suptitle('Questionnaire data', fontsize=16, y=1.15)\n",
    "\n",
    "axes = axes.ravel()\n",
    "\n",
    "sns.set_palette(\"tab10\")\n",
    "\n",
    "createBoxplot(df[[\"SSQ_TS_FP\", \"SSQ_TS_H\"]], axes[0], \"Simulator Sickness\", [\"First Person\", \"Hybrid\"])\n",
    "createBoxplot(df[[\"EB_EB_FP\", \"EB_EB_H\"]], axes[1], \"Embodiment\", [\"First Person\", \"Hybrid\"])\n",
    "createBoxplot(df[[\"EB_SP_FP\", \"EB_SP_H\"]], axes[2], \"Spatial Presence\", [\"First Person\", \"Hybrid\"])\n",
    "createBoxplot(df[[\"P_FP\", \"P_H\"]], axes[3], \"Presence\", [\"First Person\", \"Hybrid\"])\n",
    "\n",
    "sns.despine()"
   ]
  },
  {
   "cell_type": "markdown",
   "id": "1580d472",
   "metadata": {},
   "source": [
    "### Questionnaires subscales"
   ]
  },
  {
   "cell_type": "code",
   "execution_count": null,
   "id": "afee9f89",
   "metadata": {
    "scrolled": true
   },
   "outputs": [],
   "source": [
    "fig, axes = plt.subplots(nrows=2, ncols=2, figsize=(20,15))\n",
    "fig.suptitle(\"Questionnaires - Subscales\", y=0.95, fontsize=20)\n",
    "plt.subplots_adjust(hspace=0.4)\n",
    "sns.set_palette(\"Paired\")\n",
    "axes = axes.ravel()\n",
    "\n",
    "createBoxplot(df[['SSQ_N_FP', 'SSQ_N_H', \n",
    "                  'SSQ_O_FP', 'SSQ_O_H',\n",
    "                  'SSQ_D_FP', 'SSQ_D_H']], \n",
    "              axes[0], \n",
    "              \"Simulator Sickness\",\n",
    "             [\"First Person\", \"Hybrid\"]*3,\n",
    "             fontsize=16)\n",
    "secondXAxis(axes[0], [0.0, 0.33, 0.66, 1.0], [0.15, 0.5, 0.85], ['Nausea', 'Oculomotor', 'Disorientation'])\n",
    "\n",
    "createBoxplot(df[['EB_SL_FP', 'EB_SL_H',\n",
    "                  'EB_A_FP', 'EB_A_H',\n",
    "                  'EB_O_FP', 'EB_O_H']], \n",
    "              axes[1], \n",
    "              \"Embodiment\",\n",
    "             [\"First Person\", \"Hybrid\"]*3,\n",
    "             fontsize=16)\n",
    "secondXAxis(axes[1], [0.0, 0.33, 0.66, 1.0], [0.15, 0.5, 0.85], ['Self-location', 'Agency', 'Ownership'])\n",
    "\n",
    "createBoxplot(df[['EB_EL_FP', 'EB_EL_H',\n",
    "                  'EB_PA_FP', 'EB_PA_H']], \n",
    "              axes[2], \n",
    "              \"Spatial Presence\",\n",
    "             [\"First Person\", \"Hybrid\"]*2,\n",
    "             fontsize=16)\n",
    "\n",
    "secondXAxis(axes[2], [0.0,0.5, 1.0], [0.25, 0.75], ['Environmental location', 'Possible Actions'])\n",
    "\n",
    "''' Presence doesnt have subscales\n",
    "createBoxplot(df[['P_FP', 'P_H']], \n",
    "              axes[3], \n",
    "              \"Presence\",\n",
    "             [\"First Person\", \"Hybrid\"],\n",
    "             fontsize=16)\n",
    "'''\n",
    "axes[3].axis(\"off\")\n",
    "              \n",
    "sns.despine()"
   ]
  },
  {
   "cell_type": "markdown",
   "id": "e1ab1cc9",
   "metadata": {},
   "source": [
    "### In-game motion sickness ratings"
   ]
  },
  {
   "cell_type": "code",
   "execution_count": null,
   "id": "9abcfc8f",
   "metadata": {
    "scrolled": true
   },
   "outputs": [],
   "source": [
    "fig, axes = plt.subplots(nrows=1, ncols=1, figsize=(12,5))\n",
    "sns.set_palette(\"Paired\")\n",
    "\n",
    "createBoxplot(df[[\"FP_0_MS\", \"H_0_MS\",\n",
    "                  \"FP_1_MS\", \"H_1_MS\", \n",
    "                  \"FP_2_MS\", \"H_2_MS\",\n",
    "                  \"FP_3_MS\", \"H_3_MS\",\n",
    "                  \"FP_4_MS\", \"H_4_MS\",]], \n",
    "              axes, \n",
    "              \"Motion Sickness Ratings per Area and Condition\", \n",
    "              [\"First Person\", \"Hybrid\"]*5)\n",
    "\n",
    "secondXAxis(axes, [0.0, 0.185, 0.385, 0.585, 0.785, 1.0], [0.1, 0.3, 0.5, 0.7, 0.9], ['Tutorial', 'Area 1', 'Area 2', 'Area 3', 'Area 4'])\n",
    "\n",
    "sns.despine()\n"
   ]
  },
  {
   "cell_type": "markdown",
   "id": "a68468c8",
   "metadata": {},
   "source": [
    "### Correlation between in-game MS ratings and SSQ"
   ]
  },
  {
   "cell_type": "code",
   "execution_count": null,
   "id": "79f4d073",
   "metadata": {},
   "outputs": [],
   "source": [
    "fig, ax = plt.subplots(figsize=(4,4))\n",
    "x = df[[\"H_AVG_MS\", \"FP_AVG_MS\"]].mean(axis=1)\n",
    "y = df[\"SSQ_TS_AVG\"]\n",
    "corr = stats.pearsonr(x, y)\n",
    "sns.regplot(x=x, y=y, ax=ax, marker='o', color='navy')\n",
    "\n",
    "fig.suptitle(\"Relationship Between SSQ and MS Ratings\", fontsize=16, y=1.03)\n",
    "ax.set_title(\"Pearsonr = {}, p-val = {}\".format(corr[0].round(3), corr[1].round(3)), fontsize=13)\n",
    "ax.set_ylabel(\"SSQ average\",fontsize=16)\n",
    "ax.set_xlabel(\"In-game MS average\",fontsize=16)\n",
    "\n",
    "sns.despine()\n",
    "plt.show()\n",
    "\n",
    "eff = None\n",
    "if 0.1 <= corr[0] <= 0.3:\n",
    "    eff = \"small\"\n",
    "elif 0.3 < corr[0] <= 0.5:\n",
    "    eff = \"medium\"\n",
    "elif 0.5 < corr[0] <= 1.0:\n",
    "    eff = \"large\"\n",
    "\n",
    "if eff is not None:\n",
    "    print(\"Effect size according to Cohen: \" + eff)\n",
    "else:\n",
    "    print(\"The correlation is not significant.\")"
   ]
  },
  {
   "cell_type": "markdown",
   "id": "5cd2d9d0",
   "metadata": {},
   "source": [
    "### Descriptives"
   ]
  },
  {
   "cell_type": "code",
   "execution_count": null,
   "id": "4e081ecd",
   "metadata": {},
   "outputs": [],
   "source": [
    "print(\"\\033[1mDescriptives SSQ ELI-VR:\\033[0m\")\n",
    "df[['SSQ_N_FP', 'SSQ_O_FP', 'SSQ_D_FP', 'SSQ_TS_FP','SSQ_N_H', 'SSQ_O_H', 'SSQ_D_H', 'SSQ_TS_H','SSQ_N_AVG', 'SSQ_O_AVG', 'SSQ_D_AVG', 'SSQ_TS_AVG']].describe().round(decimals=2)"
   ]
  },
  {
   "cell_type": "code",
   "execution_count": null,
   "id": "1d1abc75",
   "metadata": {},
   "outputs": [],
   "source": [
    "print(\"\\033[1mDescriptives Presence ELI-VR:\\033[0m\")\n",
    "df[['P_FP', 'P_H', 'P_AVG']].describe().round(decimals=2).rename(columns={'P_FP': 'Presence First Person', 'P_H': 'Hybrid', 'P_AVG': 'Average'})"
   ]
  },
  {
   "cell_type": "code",
   "execution_count": null,
   "id": "283e9977",
   "metadata": {},
   "outputs": [],
   "source": [
    "# Embodiment subscales + total\n",
    "print(\"\\033[1mDescriptives Embodiment ELI-VR:\\033[0m\")\n",
    "cols = {'EB_SL_FP': 'Self-Location First Person', 'EB_A_FP': 'Agency First Person', 'EB_O_FP': 'Ownership First Person',\n",
    "       'EB_SL_H': 'Self-Location Hybrid', 'EB_A_H': 'Agency Hybrid', 'EB_O_H': 'Ownership Hybrid',\n",
    "       'EB_EB_FP': 'Average First Person', 'EB_EB_H': 'Averagel Hybrid', 'EB_EB_AVG' : 'Total Average'}\n",
    "df[['EB_SL_FP', 'EB_A_FP', 'EB_O_FP', 'EB_EB_FP', 'EB_SL_H', 'EB_A_H', 'EB_O_H', 'EB_EB_H', 'EB_EB_AVG']].describe().round(decimals=2).rename(columns=cols)"
   ]
  },
  {
   "cell_type": "code",
   "execution_count": null,
   "id": "ee6656e6",
   "metadata": {
    "scrolled": false
   },
   "outputs": [],
   "source": [
    "# Spatial Presence subscales + total\n",
    "print(\"\\033[1mDescriptives Spatial Presence ELI-VR:\\033[0m\")\n",
    "cols = {'EB_EL_FP': 'Environmental Location First Person', 'EB_PA_FP': 'Possible Actions First Person',\n",
    "       'EB_EL_H': 'Environmental Location Hybrid', 'EB_PA_H': 'Possible Actions Hybrid',\n",
    "       'EB_SP_FP': 'Average First Person', 'EB_SP_H': 'Averagel Hybrid', 'EB_SP_AVG' : 'Total Average'}\n",
    "\n",
    "df[['EB_EL_FP', 'EB_PA_FP', 'EB_SP_FP', 'EB_EL_H', 'EB_PA_H', 'EB_SP_H', 'EB_SP_AVG']].describe().round(decimals=2).rename(columns=cols)"
   ]
  },
  {
   "cell_type": "markdown",
   "id": "21bb041d",
   "metadata": {},
   "source": [
    "# Questionnaire Data from Linus' BA"
   ]
  },
  {
   "cell_type": "markdown",
   "id": "0e9ad587",
   "metadata": {},
   "source": [
    "From the BA, only the first person and the hybrid condition are used for comparisons."
   ]
  },
  {
   "cell_type": "markdown",
   "id": "1413ccc9",
   "metadata": {},
   "source": [
    "### Preprocessing"
   ]
  },
  {
   "cell_type": "code",
   "execution_count": null,
   "id": "e86fd441",
   "metadata": {},
   "outputs": [],
   "source": [
    "search_path = os.getcwd() + '\\\\data\\\\'\n",
    "df_BA = pd.read_excel(search_path + \"data_BA.xlsx\", converters={'id':str})"
   ]
  },
  {
   "cell_type": "code",
   "execution_count": null,
   "id": "f6b276d6",
   "metadata": {},
   "outputs": [],
   "source": [
    "# items of the SSQ\n",
    "items_SSQ = {'SQ_N_FP': [\"first_cs1\", \"first_cs6\", \"first_cs7\", \"first_cs8\", \"first_cs9\", \"first_cs15\", \"first_cs16\"],\n",
    "            'SQ_O_FP': ['first_cs1', \"first_cs2\", \"first_cs3\", \"first_cs4\", \"first_cs5\", \"first_cs9\", \"first_cs11\"],\n",
    "            'SQ_D_FP': ['first_cs5', 'first_cs8', 'first_cs10', 'first_cs11', 'first_cs12', 'first_cs13', 'first_cs14'],\n",
    "            'SQ_N_H': [\"hybrid_cs1\", \"hybrid_cs6\", \"hybrid_cs7\", \"hybrid_cs8\", \"hybrid_cs9\", \"hybrid_cs15\", \"hybrid_cs16\"],\n",
    "            'SQ_O_H': ['hybrid_cs1', \"hybrid_cs2\", \"hybrid_cs3\", \"hybrid_cs4\", \"hybrid_cs5\", \"hybrid_cs9\", \"hybrid_cs11\"],\n",
    "            'SQ_D_H': ['hybrid_cs5', 'hybrid_cs8', 'hybrid_cs10', 'hybrid_cs11', 'hybrid_cs12', 'hybrid_cs13', 'hybrid_cs14']}\n",
    "\n",
    "weights_SSQ = {'N': 9.54, 'O': 7.58, 'D': 13.92, 'TS': 3.74} # subscale weights\n",
    "\n",
    "# items of the presence questionnaire\n",
    "items_P_FP = []\n",
    "items_P_H = []\n",
    "rel_cols = [\"id\"] # all relevant columns (ssq + presence)\n",
    "for i in range(1,20):\n",
    "    rel_cols.append(\"first_p\" + str(i))\n",
    "    items_P_FP.append(\"first_p\" + str(i))\n",
    "for i in range(1,17):\n",
    "    rel_cols.append(\"first_cs\" + str(i))\n",
    "for i in range(1,20):\n",
    "    rel_cols.append(\"hybrid_p\" + str(i))\n",
    "    items_P_H.append(\"hybrid_p\" + str(i))\n",
    "for i in range(1,17):\n",
    "    rel_cols.append(\"hybrid_cs\" + str(i))\n",
    "\n",
    "df_BA = df_BA[rel_cols]\n",
    "del rel_cols"
   ]
  },
  {
   "cell_type": "code",
   "execution_count": null,
   "id": "f21d21db",
   "metadata": {},
   "outputs": [],
   "source": [
    "### PRESENCE \n",
    "# invert items 14, 17, 18\n",
    "idx = [13,16,17] # -1 because indexing starts at 0\n",
    "inverted_items = [items_P_FP[i] for i in idx]\n",
    "for column in inverted_items:\n",
    "        df_BA[column] = df_BA[column].apply(lambda x: 7 - x + 1)\n",
    "\n",
    "        inverted_items = [items_P_H[i] for i in idx]\n",
    "for column in inverted_items:\n",
    "        df_BA[column] = df_BA[column].apply(lambda x: 7 - x + 1) \n",
    "\n",
    "# calculate total (subscale) scores\n",
    "df_BA['P_FP'] = df_BA.loc[:, items_P_FP].sum(axis=1, skipna=True)\n",
    "df_BA['P_H'] = df_BA.loc[:, items_P_H].sum(axis=1, skipna=True)\n",
    "df_BA[\"P_AVG\"] = df_BA[['P_H', 'P_FP']].mean(axis=1)"
   ]
  },
  {
   "cell_type": "code",
   "execution_count": null,
   "id": "25ddeb85",
   "metadata": {},
   "outputs": [],
   "source": [
    "### SSQ\n",
    "df_BA['SSQ_N_FP'] = (df_BA[items_SSQ['SQ_N_FP']].sum(axis=1, skipna=True).astype(float) - 7) * weights_SSQ['N']\n",
    "df_BA['SSQ_O_FP'] = (df_BA[items_SSQ['SQ_O_FP']].sum(axis=1, skipna=True).astype(float) - 7) * weights_SSQ['O']\n",
    "df_BA['SSQ_D_FP'] = (df_BA[items_SSQ['SQ_D_FP']].sum(axis=1, skipna=True).astype(float) - 7) * weights_SSQ['D']\n",
    "\n",
    "df_BA['SSQ_N_H'] = (df_BA[items_SSQ['SQ_N_H']].sum(axis=1, skipna=True).astype(float) - 7) * weights_SSQ['N']\n",
    "df_BA['SSQ_O_H'] = (df_BA[items_SSQ['SQ_O_H']].sum(axis=1, skipna=True).astype(float) - 7) * weights_SSQ['O']\n",
    "df_BA['SSQ_D_H'] = (df_BA[items_SSQ['SQ_D_H']].sum(axis=1, skipna=True).astype(float) - 7) * weights_SSQ['D']\n",
    "\n",
    "# total score per condition\n",
    "df_BA[\"SSQ_TS_FP\"] = df_BA.loc[:, ['SSQ_N_FP', 'SSQ_O_FP', 'SSQ_D_FP']].sum(axis=1, skipna=True).astype(float) * weights_SSQ['TS']\n",
    "df_BA[\"SSQ_TS_H\"] = df_BA.loc[:, ['SSQ_N_H', 'SSQ_O_H', 'SSQ_D_H']].sum(axis=1, skipna=True).astype(float) * weights_SSQ['TS']\n",
    "\n",
    "# averages\n",
    "df_BA[\"SSQ_N_AVG\"] = df_BA[['SSQ_N_FP', 'SSQ_N_H']].mean(axis=1)\n",
    "df_BA[\"SSQ_O_AVG\"] = df_BA[['SSQ_O_FP', 'SSQ_O_H']].mean(axis=1)\n",
    "df_BA[\"SSQ_D_AVG\"] = df_BA[['SSQ_D_FP', 'SSQ_D_H']].mean(axis=1)\n",
    "df_BA[\"SSQ_TS_AVG\"] = df_BA[['SSQ_TS_FP', 'SSQ_TS_H']].mean(axis=1)"
   ]
  },
  {
   "cell_type": "code",
   "execution_count": null,
   "id": "f18c8953",
   "metadata": {},
   "outputs": [],
   "source": [
    "### list of columns to keep in the new df\n",
    "relevant_cols = [\"id\", # general info\n",
    "                 # data from simulator sickness questionnaire\n",
    "                'SSQ_N_FP', 'SSQ_O_FP', 'SSQ_D_FP', 'SSQ_TS_FP',\n",
    "                'SSQ_N_H', 'SSQ_O_H', 'SSQ_D_H', 'SSQ_TS_H',\n",
    "                'SSQ_N_AVG', 'SSQ_O_AVG', 'SSQ_D_AVG', 'SSQ_TS_AVG',\n",
    "                # data from presence questionnaire\n",
    "                'P_FP', 'P_H', 'P_AVG']\n",
    "\n",
    "df_BA = df_BA[relevant_cols]"
   ]
  },
  {
   "cell_type": "markdown",
   "id": "5761208a",
   "metadata": {},
   "source": [
    "### Descriptives"
   ]
  },
  {
   "cell_type": "code",
   "execution_count": null,
   "id": "e4381e78",
   "metadata": {},
   "outputs": [],
   "source": [
    "print(\"\\033[1mDescriptives SSQ BA:\\033[0m\")\n",
    "df_BA[['SSQ_N_FP', 'SSQ_O_FP', 'SSQ_D_FP', 'SSQ_TS_FP','SSQ_N_H', 'SSQ_O_H', 'SSQ_D_H', 'SSQ_TS_H','SSQ_N_AVG', 'SSQ_O_AVG', 'SSQ_D_AVG', 'SSQ_TS_AVG']].describe().round(decimals=2)"
   ]
  },
  {
   "cell_type": "code",
   "execution_count": null,
   "id": "5e65b0a6",
   "metadata": {},
   "outputs": [],
   "source": [
    "print(\"\\033[1mDescriptives Presence BA:\\033[0m\")\n",
    "df_BA[['P_FP', 'P_H', 'P_AVG']].describe().round(decimals=2).rename(columns={'P_FP': 'Presence First Person', 'P_H': 'Hybrid', 'P_AVG': 'Average'})"
   ]
  },
  {
   "cell_type": "markdown",
   "id": "2bb924cf",
   "metadata": {},
   "source": [
    "### Plots"
   ]
  },
  {
   "cell_type": "code",
   "execution_count": null,
   "id": "eb9152b2",
   "metadata": {},
   "outputs": [],
   "source": [
    "fig, axes = plt.subplots(nrows=1, ncols=2, figsize=(6,3))\n",
    "plt.subplots_adjust(wspace=0.4)\n",
    "fig.suptitle('Questionnaire Data (BA)', fontsize=16, y=1.15)\n",
    "\n",
    "axes = axes.ravel()\n",
    "\n",
    "sns.set_palette(\"tab10\")\n",
    "\n",
    "createBoxplot(df[[\"SSQ_TS_FP\", \"SSQ_TS_H\"]], axes[0], \"Simulator Sickness\", [\"First Person\", \"Hybrid\"])\n",
    "createBoxplot(df[[\"P_FP\", \"P_H\"]], axes[1], \"Presence\", [\"First Person\", \"Hybrid\"])\n",
    "\n",
    "sns.despine()"
   ]
  },
  {
   "cell_type": "code",
   "execution_count": null,
   "id": "4727a951",
   "metadata": {},
   "outputs": [],
   "source": [
    "fig, ax = plt.subplots(nrows=1, ncols=1, figsize=(8,4))\n",
    "fig.suptitle(\"Simulator Sickness Subscales (BA)\", y=0.97, fontsize=20)\n",
    "plt.subplots_adjust(hspace=0.4)\n",
    "sns.set_palette(\"Paired\")\n",
    "\n",
    "createBoxplot(df_BA[['SSQ_N_FP', 'SSQ_N_H', \n",
    "                  'SSQ_O_FP', 'SSQ_O_H',\n",
    "                  'SSQ_D_FP', 'SSQ_D_H']], \n",
    "              ax, \n",
    "              \"\",\n",
    "             [\"First Person\", \"Hybrid\"]*3,\n",
    "             fontsize=16)\n",
    "secondXAxis(ax, [0.0, 0.33, 0.66, 1.0], [0.15, 0.5, 0.85], ['Nausea', 'Oculomotor', 'Disorientation'])\n",
    "              \n",
    "sns.despine()"
   ]
  },
  {
   "cell_type": "markdown",
   "id": "056d4383",
   "metadata": {},
   "source": [
    "# Comparisons between ELI-VR data and Linus' BA"
   ]
  },
  {
   "cell_type": "markdown",
   "id": "49a0da5b",
   "metadata": {},
   "source": [
    "- From Linus' BA only the data from the avatar conditions (i.e. hybrid and first person) are used.\n",
    "- From ELI-VR, only the data from the avatar condition is used (i.e. excluding blob participants)."
   ]
  },
  {
   "cell_type": "markdown",
   "id": "006b7f8f",
   "metadata": {},
   "source": [
    "### Presence\n",
    "\n",
    "**Hypothesis:** Higher presence in ELI-VR than in BA."
   ]
  },
  {
   "cell_type": "code",
   "execution_count": null,
   "id": "6bfd256a",
   "metadata": {},
   "outputs": [],
   "source": [
    "def independent_ttest(sample_greater, sample_less, effect=\"greater\"):\n",
    "    if stats.levene(sample_greater, sample_less)[1] > 0.05: # check for equal population variances\n",
    "        return stats.ttest_ind(sample_greater, sample_less, equal_var=True, alternative=effect)\n",
    "    else:\n",
    "        return stats.ttest_ind(sample_greater, sample_less, equal_var=False)"
   ]
  },
  {
   "cell_type": "code",
   "execution_count": null,
   "id": "3fe1187b",
   "metadata": {
    "scrolled": true
   },
   "outputs": [],
   "source": [
    "# calculate p-values, test statistics, degrees of freedom, and save titles of comparisóns\n",
    "pvals_presence = []\n",
    "test_statistics_presence = []\n",
    "degrees = [] # degrees of freedom\n",
    "titles_presence = []\n",
    "\n",
    "res = independent_ttest(df[df[\"blob\"]==0][\"P_AVG\"], df_BA[\"P_AVG\"])\n",
    "pvals_presence.append(res[1])\n",
    "test_statistics_presence.append(res[0])\n",
    "titles_presence.append(\"Average presence score\")\n",
    "degrees.append(len(df[df[\"blob\"]==0][\"P_AVG\"]) + len(df_BA[\"P_AVG\"]) - 2)\n",
    "\n",
    "res = independent_ttest(df[df[\"blob\"]==0][\"P_FP\"], df_BA[\"P_FP\"])\n",
    "pvals_presence.append(res[1])\n",
    "test_statistics_presence.append(res[0])\n",
    "titles_presence.append(\"First person presence score\")\n",
    "degrees.append(len(df[df[\"blob\"]==0][\"P_FP\"]) + len(df_BA[\"P_FP\"]) - 2)\n",
    "\n",
    "res = independent_ttest(df[df[\"blob\"]==0][\"P_H\"], df_BA[\"P_H\"])\n",
    "pvals_presence.append(res[1])\n",
    "test_statistics_presence.append(res[0])\n",
    "titles_presence.append(\"Hybrid presence score\")\n",
    "degrees.append(len(df[df[\"blob\"]==0][\"P_H\"]) + len(df_BA[\"P_H\"]) - 2)\n",
    "\n",
    "corrected_alpha = 0.05 / 3 # we have 3 tests"
   ]
  },
  {
   "cell_type": "code",
   "execution_count": null,
   "id": "596b7d8c",
   "metadata": {
    "scrolled": false
   },
   "outputs": [],
   "source": [
    "print(\"Corrected alpha for presence t-tests: \" + str(round(corrected_alpha, 4)))\n",
    "print(\"Results:\")\n",
    "for i in range(len(titles_presence)):\n",
    "    sig = \"significant\" if pvals_presence[i]<=corrected_alpha else \"not significant\"\n",
    "    print(\"   \" + titles_presence[i] + \": \")\n",
    "    print(\"      t(\" + str(degrees[i]) + \") = \" + str(round(test_statistics_presence[i], 3)) + \", p = \" + str(round(pvals_presence[i], 3)) + \" -> \" + sig)"
   ]
  },
  {
   "cell_type": "code",
   "execution_count": null,
   "id": "cbfb5234",
   "metadata": {},
   "outputs": [],
   "source": [
    "fig, ax = plt.subplots(nrows=1, ncols=1, figsize=(5,5))\n",
    "fig.suptitle(\"Presence in Avatar Conditions: \\nELI-VR vs. BA\", y=1, fontsize=16)\n",
    "plt.subplots_adjust(hspace=0.4)\n",
    "sns.set_palette(\"Paired\")\n",
    "\n",
    "createBoxplot([df[df[\"blob\"]==0][\"P_AVG\"].tolist(),  df_BA[\"P_AVG\"].tolist(),\n",
    "               df[df[\"blob\"]==0][\"P_FP\"].tolist(), df_BA[\"P_FP\"].tolist(),\n",
    "               df[df[\"blob\"]==0][\"P_H\"].tolist(), df_BA[\"P_H\"].tolist()], \n",
    "              ax, \n",
    "              \"\",\n",
    "             [\"ELI-VR\", \"BA\"]*3)\n",
    "secondXAxis(ax, [0.0, 0.33, 0.66, 1.0], [0.15, 0.5, 0.85], ['Average', 'First Person', 'Hybrid'])\n",
    "              \n",
    "sns.despine()"
   ]
  },
  {
   "cell_type": "markdown",
   "id": "8ee67dc2",
   "metadata": {},
   "source": [
    "### Motion sickness (SSQ)\n",
    "\n",
    "**Hypothesis:** Lower motion sickness in ELI-VR than in BA."
   ]
  },
  {
   "cell_type": "code",
   "execution_count": null,
   "id": "7d79e5f8",
   "metadata": {},
   "outputs": [],
   "source": [
    "# calculate p-values, test statistics, and save titles of comparisóns\n",
    "pvals_ssq = []\n",
    "titles_ssq = []\n",
    "test_statistics_ssq = []\n",
    "\n",
    "res = independent_ttest(df[df[\"blob\"]==0]['SSQ_TS_AVG'], df_BA['SSQ_TS_AVG'], effect=\"less\")\n",
    "pvals_ssq.append(res[1])\n",
    "test_statistics_ssq.append(res[0])\n",
    "titles_ssq.append(\"Average SSQ score\")\n",
    "\n",
    "res = independent_ttest(df[df[\"blob\"]==0]['SSQ_TS_FP'], df_BA['SSQ_TS_FP'], effect=\"less\")\n",
    "pvals_ssq.append(res[1])\n",
    "test_statistics_ssq.append(res[0])\n",
    "titles_ssq.append(\"First person SSQ score\")\n",
    "\n",
    "res = independent_ttest(df[df[\"blob\"]==0]['SSQ_TS_H'], df_BA[\"SSQ_TS_H\"], effect=\"less\")\n",
    "pvals_ssq.append(res[1])\n",
    "test_statistics_ssq.append(res[0])\n",
    "titles_ssq.append(\"Hybrid SSQ score\")\n",
    "\n",
    "corrected_alpha = 0.05 / 3 # we have 3 tests"
   ]
  },
  {
   "cell_type": "code",
   "execution_count": null,
   "id": "e22c5b75",
   "metadata": {
    "scrolled": false
   },
   "outputs": [],
   "source": [
    "print(\"Corrected alpha for SSQ t-tests: \" + str(round(corrected_alpha, 4)))\n",
    "print(\"Results:\")\n",
    "for i in range(len(titles_ssq)):\n",
    "    sig = \"significant\" if pvals_ssq[i]<=corrected_alpha else \"not significant\"\n",
    "    print(\"   \" + titles_ssq[i] + \": \")\n",
    "    print(\"      t(\" + str(degrees[i]) + \") = \" + str(round(test_statistics_ssq[i], 3)) + \", p = \" + str(round(pvals_ssq[i], 3)) + \" -> \" + sig)"
   ]
  },
  {
   "cell_type": "code",
   "execution_count": null,
   "id": "30012333",
   "metadata": {},
   "outputs": [],
   "source": [
    "df[df[\"blob\"]==0]['SSQ_TS_AVG'].mean()"
   ]
  },
  {
   "cell_type": "code",
   "execution_count": null,
   "id": "1399a68d",
   "metadata": {},
   "outputs": [],
   "source": [
    "fig, ax = plt.subplots(nrows=1, ncols=1, figsize=(6,6))\n",
    "fig.suptitle(\"SSQ Scores in Avatar Conditions: \\nELI-VR vs. BA\", y=0.98, fontsize=16)\n",
    "plt.subplots_adjust(hspace=0.4)\n",
    "sns.set_palette(\"Paired\")\n",
    "\n",
    "createBoxplot([df[df[\"blob\"]==0]['SSQ_TS_AVG'].tolist(),  df_BA[\"SSQ_TS_AVG\"].tolist(),\n",
    "               df[df[\"blob\"]==0][\"SSQ_TS_FP\"].tolist(), df_BA[\"SSQ_TS_FP\"].tolist(),\n",
    "               df[df[\"blob\"]==0][\"SSQ_TS_H\"].tolist(), df_BA[\"SSQ_TS_H\"].tolist()], \n",
    "              ax, \n",
    "              \"\",\n",
    "             [\"ELI-VR\", \"BA\"]*3)\n",
    "secondXAxis(ax, [0.0, 0.33, 0.66, 1.0], [0.15, 0.5, 0.85], ['Average', 'First Person', 'Hybrid'])\n",
    "\n",
    "sns.despine()\n"
   ]
  }
 ],
 "metadata": {
  "kernelspec": {
   "display_name": "Python 3",
   "language": "python",
   "name": "python3"
  },
  "language_info": {
   "codemirror_mode": {
    "name": "ipython",
    "version": 3
   },
   "file_extension": ".py",
   "mimetype": "text/x-python",
   "name": "python",
   "nbconvert_exporter": "python",
   "pygments_lexer": "ipython3",
   "version": "3.8.8"
  }
 },
 "nbformat": 4,
 "nbformat_minor": 5
}
