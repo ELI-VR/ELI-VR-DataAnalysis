{
 "cells": [
  {
   "cell_type": "code",
   "execution_count": null,
   "id": "1eb8aeb8",
   "metadata": {},
   "outputs": [],
   "source": [
    "import os\n",
    "import pandas as pd\n",
    "import pingouin as pg\n",
    "import matplotlib.pyplot as plt\n",
    "import seaborn as sns\n",
    "from statsmodels.graphics.factorplots import interaction_plot\n",
    "import numpy as np\n",
    "from scipy import stats"
   ]
  },
  {
   "cell_type": "code",
   "execution_count": null,
   "id": "dc446a2e",
   "metadata": {},
   "outputs": [],
   "source": [
    "# load the data\n",
    "search_path = os.getcwd() + '\\\\data\\\\' # location of the data files\n",
    "df = pd.read_csv(search_path + \"data_questionnaires_preprocessed.csv\", converters={'BE04_01':str, 'BE04_02':str, 'BE04_03':str})\n",
    "df = df.rename(columns={\"blob\" : 'condition'})"
   ]
  },
  {
   "cell_type": "code",
   "execution_count": null,
   "id": "8476bbc1",
   "metadata": {},
   "outputs": [],
   "source": [
    "sig_level = 0.05 # p value to be used as threshold"
   ]
  },
  {
   "cell_type": "markdown",
   "id": "ecf9a3cf",
   "metadata": {},
   "source": [
    "## Notes on Mixed ANOVA"
   ]
  },
  {
   "cell_type": "markdown",
   "id": "2920a369",
   "metadata": {},
   "source": [
    "**Independent variables:** two categorical independent variables (factors)\n",
    "- one of which is between-subject (each subjects assigned only once to treatment): blob vs. avatar\n",
    "- the other is within-subject (each subject assigned multiple treatments): hybrid vs. first-person\n",
    "\n",
    "**Assumptions:**\n",
    "- The responses from subjects (dependent variable) should be continuous\n",
    "- Residuals (experimental error) are approximately normally distributed for each combination of between-subject and within-subject variable (Shapiro-Wilks Test or histogram)\n",
    "- Homogeneity of variances or homoscedasticity: There should be equal variance for every level of within-subject factor (Levene’s test)\n",
    "- Assumption of sphericity: the variances of differences in responses between any two levels of the independent variable (within-subjects factor) should be equal (Mauchly’s test of sphericity). This assumptionn is also known as homogeneity-of-variance-of-differences assumption.\n",
    "- Homogeneity of the variance-covariance matrices: the pattern of intercorrelation for each level of within-subject variable across between-subject variable should be equal. This is a multivariate version of the Homogeneity of variances. It can be tested using Box’s M test. Box’s M-test has little power and uses a lower alpha level such as 0.001 to assess the p value for significance.\n",
    "- There should be no significant outlier (this can be checked by boxplot)\n",
    " \n",
    "**Results:**\n",
    "- Two-way mixed ANOVA estimates the three effects - two main effects and one interaction effect - for statistical significance\n",
    "- Generally, it is not appropriate to interpret main effects when interaction is significant.\n",
    "\n",
    "(Source: https://www.reneshbedre.com/blog/mixed-anova.html)\n"
   ]
  },
  {
   "cell_type": "markdown",
   "id": "52997674",
   "metadata": {},
   "source": [
    "## Naming conventions\n",
    "\n",
    "- condition: blob vs. avatar (1: blob, 0: avatar)\n",
    "- mode: first-person vs. hybrid"
   ]
  },
  {
   "cell_type": "markdown",
   "id": "f50205ab",
   "metadata": {},
   "source": [
    "## Functions"
   ]
  },
  {
   "cell_type": "code",
   "execution_count": null,
   "id": "c9cda8fd",
   "metadata": {},
   "outputs": [],
   "source": [
    "def summarize(df, var):\n",
    "    '''\n",
    "    Groups the df by the independent factors, and prints the variable's count, mean, and std.\n",
    "    \n",
    "    df (pd.DataFrame)\n",
    "    var (str): the column to summarize\n",
    "    '''\n",
    "    return df.groupby([\"condition\", \"mode\"]).describe()[var][[\"count\", \"mean\", \"std\"]]"
   ]
  },
  {
   "cell_type": "code",
   "execution_count": null,
   "id": "e4bd0764",
   "metadata": {},
   "outputs": [],
   "source": [
    "def boxplot(df, var, title, ax=None):\n",
    "    '''\n",
    "    Creates a boxplot of the variable, separated by condition and mode.\n",
    "    \n",
    "    df (pd.DataFrame)\n",
    "    var (str): the column to plot\n",
    "    title (str): title of the boxplot\n",
    "    '''\n",
    "    if not ax:\n",
    "        sns.boxplot(x='condition', y=var, hue='mode', data=df)\n",
    "        plt.suptitle(title)\n",
    "    else:\n",
    "        sns.boxplot(x='condition', y=var, hue='mode', data=df, ax=ax)\n",
    "        ax.set_title(title, fontsize=14)\n",
    "    sns.despine()"
   ]
  },
  {
   "cell_type": "code",
   "execution_count": null,
   "id": "9d601530",
   "metadata": {},
   "outputs": [],
   "source": [
    "def interact_plot(df, var, title, ax=None):\n",
    "    '''\n",
    "    Plots the interaction of condition and mode for the variable.\n",
    "    \n",
    "    df (pd.DataFrame)\n",
    "    var (str):  dependent variable column name\n",
    "    title (str): title of the plot\n",
    "    '''\n",
    "    if not ax: \n",
    "        fig = interaction_plot(x=df['condition'], trace=df['mode'], response=df[var], colors=['#4c061d','#d17a22'])\n",
    "        fig.suptitle(title)\n",
    "    else:\n",
    "        interaction_plot(x=df['condition'], trace=df['mode'], response=df[var], colors=['#4c061d','#d17a22'], ax=ax)\n",
    "        ax.set_title(title, fontsize=14)\n",
    "    sns.despine()\n",
    "    plt.show()"
   ]
  },
  {
   "cell_type": "code",
   "execution_count": null,
   "id": "b212ffdf",
   "metadata": {},
   "outputs": [],
   "source": [
    "def check_assumptions(df, dv, dv_name):\n",
    "    '''\n",
    "    Checks the assumptions of a mixed ANOVA.\n",
    "    \n",
    "    df (pd.DataFrame)\n",
    "    dv (str): dependent variable column name\n",
    "    dv_name (str): name of the dependent variable (to be printed)\n",
    "    '''\n",
    "    \n",
    "    print(\"Checking the assumptions for the dependent variable {}...\\n\".format(dv_name))\n",
    "    all_assumptions = []\n",
    "    \n",
    "    # Assumption of the residuals being normally distributed\n",
    "    df['factor_comb'] = df[\"condition\"] + '-'+ df[\"mode\"]\n",
    "    normal = pg.normality(data=df, dv=dv, group='factor_comb')\n",
    "    if normal[\"normal\"].all():\n",
    "        print(\"The residuals are approximately normally distributed for each level of the within-subjects factor (tested using the Shapiro-Wilks Test)\")\n",
    "        all_assumptions.append(True)\n",
    "    else:\n",
    "        print(\"The residuals are NOT approximately normally distributed for each level of the within-subjects factor! (tested using the Shapiro-Wilks Test)\")\n",
    "        all_assumptions.append(False)\n",
    "    \n",
    "    print()\n",
    "    # Assumption of homoscedasticity\n",
    "    print(\"There should be equal variance for every level of within-subject factor:\")\n",
    "    hybrid = df[df[\"mode\"]==\"Hybrid\"].reset_index(drop=True)\n",
    "    homo_hybrid = pg.homoscedasticity(data=hybrid, dv=dv, group='condition')\n",
    "    all_assumptions.append(homo_hybrid[\"equal_var\"][0])\n",
    "    print(\"For the level Hybrid, Levene's test resulted in a p-value of {}, indicating that the assumption of equal variances is {}.\".format(homo_hybrid[\"pval\"][0].round(3), homo_hybrid[\"equal_var\"][0]))\n",
    "    \n",
    "    fp = df[df[\"mode\"]==\"First Person\"].reset_index(drop=True)\n",
    "    homo_fp = pg.homoscedasticity(data=fp, dv=dv, group='condition')\n",
    "    all_assumptions.append(homo_fp[\"equal_var\"][0])\n",
    "    print(\"For the level First Person, Levene's test resulted in a p-value of {}, indicating that the assumption of equal variances is {}.\".format(homo_fp[\"pval\"][0].round(3), homo_fp[\"equal_var\"][0]))\n",
    "    \n",
    "    print()    \n",
    "    # Assumption of sphericity\n",
    "    sphericity = pg.sphericity(data=df, dv=dv, subject='ID', within='condition')\n",
    "    all_assumptions.append(sphericity[0])\n",
    "    print(\"Mauchly’s test of sphericity resulted in a p-value of {}, indicating that the assumption is {}.\".format(sphericity[-1], sphericity[0]))\n",
    "    \n",
    "    print()\n",
    "    # Assumption of homogeneity of the variance-covariance matrices:\n",
    "    print(\"The homogeneity of variance-covariance matrices formed by the between-subject factor for each level of the within-subject factor should be equal:\")\n",
    "    box_fp = pg.box_m(data=fp, dvs=[dv], group='condition', alpha=0.001)\n",
    "    all_assumptions.append(box_fp[\"equal_cov\"][0])    \n",
    "    print(\"For the level First Person, Box’s M test resulted in a p-value of {}, indicating that the assumption is {}.\".format(box_fp[\"pval\"][0].round(3), box_fp[\"equal_cov\"][0]))\n",
    "    \n",
    "    box_hybrid = pg.box_m(data=hybrid, dvs=[dv], group='condition', alpha=0.001)\n",
    "    all_assumptions.append(box_hybrid[\"equal_cov\"][0])    \n",
    "    print(\"For the level Hybrid, Box’s M test resulted in a p-value of {}, indicating that the assumption is {}.\".format(box_hybrid[\"pval\"][0].round(3), box_hybrid[\"equal_cov\"][0]))\n",
    "\n",
    "    print()\n",
    "    # Assumption of no outliers\n",
    "    outliers = df[df[dv] > df[dv].mean() + 3 * df[dv].std()]\n",
    "    if outliers.empty:\n",
    "        print(\"There are no outliers!\")\n",
    "        all_assumptions.append(True)\n",
    "    else: \n",
    "        print(\"There are outliers! The outliers are the participants {}\".format(outliers[\"ID\"].values))\n",
    "        all_assumptions.append(False)\n",
    "    \n",
    "    \n",
    "    if all(x == True for x in all_assumptions):\n",
    "        print()\n",
    "        print(\"ALL ASSUMPTIONS ARE TRUE!\")"
   ]
  },
  {
   "cell_type": "markdown",
   "id": "02636a4b",
   "metadata": {},
   "source": [
    "## Effect of condition and mode on in-game MS ratings (total score)"
   ]
  },
  {
   "cell_type": "code",
   "execution_count": null,
   "id": "a94fe369",
   "metadata": {},
   "outputs": [],
   "source": [
    "ms = pd.melt(df.reset_index(), id_vars=['ID', 'condition'], value_vars=['H_AVG_MS', 'FP_AVG_MS'])\n",
    "ms = ms.rename(columns={\"variable\" : 'mode', \"value\" : \"rating\"})\n",
    "ms.replace({'mode': {'H_AVG_MS': 'Hybrid', 'FP_AVG_MS': 'First Person'},\n",
    "               'condition': {1: 'Blob', 0: 'Avatar'}}, inplace=True)\n",
    "\n",
    "ms_anova = pg.mixed_anova(dv='rating', between='condition', within='mode', subject='ID', data=ms)\n",
    "ms_anova"
   ]
  },
  {
   "cell_type": "code",
   "execution_count": null,
   "id": "07661225",
   "metadata": {},
   "outputs": [],
   "source": [
    "summarize(ms, \"rating\")"
   ]
  },
  {
   "cell_type": "code",
   "execution_count": null,
   "id": "1e9eb1c3",
   "metadata": {
    "scrolled": false
   },
   "outputs": [],
   "source": [
    "boxplot(ms, \"rating\", \"MS total score\")"
   ]
  },
  {
   "cell_type": "code",
   "execution_count": null,
   "id": "0069411c",
   "metadata": {},
   "outputs": [],
   "source": [
    "# if interaction is significant, create interaction plot\n",
    "if ms_anova[\"p-unc\"].tolist()[-1] < sig_level:\n",
    "    interact_plot(ms, \"rating\", \"MS Total Score\")"
   ]
  },
  {
   "cell_type": "markdown",
   "id": "3dfc32ec",
   "metadata": {},
   "source": [
    "## Effect of condition and mode on SSQ (total score)"
   ]
  },
  {
   "cell_type": "code",
   "execution_count": null,
   "id": "76d28b1f",
   "metadata": {},
   "outputs": [],
   "source": [
    "ssq = pd.melt(df.reset_index(), id_vars=['ID', 'condition'], value_vars=['SSQ_TS_H', 'SSQ_TS_FP'])\n",
    "ssq = ssq.rename(columns={\"variable\" : 'mode', \"value\" : \"score\"})\n",
    "ssq.replace({'mode': {'SSQ_TS_H': 'Hybrid', 'SSQ_TS_FP': 'First Person'},\n",
    "               'condition': {1: 'Blob', 0: 'Avatar'}}, inplace=True)\n",
    "\n",
    "ssq_anova = pg.mixed_anova(dv='score', between='condition', within='mode', subject='ID', data=ssq)\n",
    "ssq_anova"
   ]
  },
  {
   "cell_type": "code",
   "execution_count": null,
   "id": "821a940a",
   "metadata": {},
   "outputs": [],
   "source": [
    "summarize(ssq, \"score\")"
   ]
  },
  {
   "cell_type": "code",
   "execution_count": null,
   "id": "f67b3f18",
   "metadata": {
    "scrolled": true
   },
   "outputs": [],
   "source": [
    "boxplot(ssq, \"score\", \"SSQ total score\")"
   ]
  },
  {
   "cell_type": "code",
   "execution_count": null,
   "id": "ba24c40d",
   "metadata": {},
   "outputs": [],
   "source": [
    "# if interaction is significant, create interaction plot\n",
    "if ssq_anova[\"p-unc\"].tolist()[-1] < sig_level:\n",
    "    interact_plot(ms, \"rating\", \"MS Total Score\")"
   ]
  },
  {
   "cell_type": "markdown",
   "id": "2bb9432f",
   "metadata": {},
   "source": [
    "## Effect of condition and mode on in-game MS ratings (per area)"
   ]
  },
  {
   "cell_type": "markdown",
   "id": "de6404ef",
   "metadata": {},
   "source": [
    "### Area 1"
   ]
  },
  {
   "cell_type": "code",
   "execution_count": null,
   "id": "2f65463c",
   "metadata": {},
   "outputs": [],
   "source": [
    "area_one = pd.melt(df.reset_index(), id_vars=['ID', 'condition'], value_vars=['H_1_MS', 'FP_1_MS'])\n",
    "area_one = area_one.rename(columns={\"variable\" : 'mode', \"value\" : \"rating\"})\n",
    "area_one.replace({'mode': {'H_1_MS': 'Hybrid', 'FP_1_MS': 'First Person'},\n",
    "               'condition': {1: 'Blob', 0: 'Avatar'}}, inplace=True)\n",
    "\n",
    "area_one_anova = pg.mixed_anova(dv='rating', between='condition', within='mode', subject='ID', data=area_one)\n",
    "area_one_anova"
   ]
  },
  {
   "cell_type": "code",
   "execution_count": null,
   "id": "61c809b2",
   "metadata": {
    "scrolled": true
   },
   "outputs": [],
   "source": [
    "summarize(area_one, \"rating\")"
   ]
  },
  {
   "cell_type": "code",
   "execution_count": null,
   "id": "eb7bacdd",
   "metadata": {},
   "outputs": [],
   "source": [
    "# if interaction is significant, create interaction plot\n",
    "if area_one_anova[\"p-unc\"].tolist()[-1] < sig_level:\n",
    "    interact_plot(area_one, \"rating\", \"Interaction Condition x Mode (Area 1)\")"
   ]
  },
  {
   "cell_type": "markdown",
   "id": "0c384b0e",
   "metadata": {},
   "source": [
    "### Area 2"
   ]
  },
  {
   "cell_type": "code",
   "execution_count": null,
   "id": "b9edd52d",
   "metadata": {},
   "outputs": [],
   "source": [
    "area_two = pd.melt(df.reset_index(), id_vars=['ID', 'condition'], value_vars=['H_2_MS', 'FP_2_MS'])\n",
    "area_two = area_two.rename(columns={\"variable\" : 'mode', \"value\" : \"rating\"})\n",
    "area_two.replace({'mode': {'H_2_MS': 'Hybrid', 'FP_2_MS': 'First Person'},\n",
    "               'condition': {1: 'Blob', 0: 'Avatar'}}, inplace=True)\n",
    "\n",
    "area_two_anova = pg.mixed_anova(dv='rating', between='condition', within='mode', subject='ID', data=area_two)\n",
    "area_two_anova"
   ]
  },
  {
   "cell_type": "code",
   "execution_count": null,
   "id": "e83b0471",
   "metadata": {
    "scrolled": false
   },
   "outputs": [],
   "source": [
    "summarize(area_two, \"rating\")"
   ]
  },
  {
   "cell_type": "code",
   "execution_count": null,
   "id": "262f15c1",
   "metadata": {},
   "outputs": [],
   "source": [
    "# if interaction is significant, create interaction plot\n",
    "if area_two_anova[\"p-unc\"].tolist()[-1] < sig_level:\n",
    "    interact_plot(area_two, \"rating\", \"Interaction Condition x Mode (Area 2)\")"
   ]
  },
  {
   "cell_type": "markdown",
   "id": "c97bd9b8",
   "metadata": {},
   "source": [
    "### Area 3"
   ]
  },
  {
   "cell_type": "code",
   "execution_count": null,
   "id": "9efecd62",
   "metadata": {},
   "outputs": [],
   "source": [
    "area_three = pd.melt(df.reset_index(), id_vars=['ID', 'condition'], value_vars=['H_3_MS', 'FP_3_MS'])\n",
    "area_three = area_three.rename(columns={\"variable\" : 'mode', \"value\" : \"rating\"})\n",
    "area_three.replace({'mode': {'H_3_MS': 'Hybrid', 'FP_3_MS': 'First Person'},\n",
    "               'condition': {1: 'Blob', 0: 'Avatar'}}, inplace=True)\n",
    "\n",
    "area_three_anova = pg.mixed_anova(dv='rating', between='condition', within='mode', subject='ID', data=area_three)\n",
    "area_three_anova"
   ]
  },
  {
   "cell_type": "code",
   "execution_count": null,
   "id": "2c72b9f1",
   "metadata": {
    "scrolled": true
   },
   "outputs": [],
   "source": [
    "summarize(area_three, \"rating\")"
   ]
  },
  {
   "cell_type": "code",
   "execution_count": null,
   "id": "5ee23c0a",
   "metadata": {},
   "outputs": [],
   "source": [
    "# if interaction is significant, create interaction plot\n",
    "if area_three_anova[\"p-unc\"].tolist()[-1] < sig_level:\n",
    "    interact_plot(area_three, \"rating\", \"Interaction Condition x Mode (Area 3)\")"
   ]
  },
  {
   "cell_type": "markdown",
   "id": "eb3baaad",
   "metadata": {},
   "source": [
    "### Area 4"
   ]
  },
  {
   "cell_type": "code",
   "execution_count": null,
   "id": "8700951f",
   "metadata": {},
   "outputs": [],
   "source": [
    "area_four = pd.melt(df.reset_index(), id_vars=['ID', 'condition'], value_vars=['H_4_MS', 'FP_4_MS'])\n",
    "area_four = area_four.rename(columns={\"variable\" : 'mode', \"value\" : \"rating\"})\n",
    "area_four.replace({'mode': {'H_4_MS': 'Hybrid', 'FP_4_MS': 'First Person'},\n",
    "               'condition': {1: 'Blob', 0: 'Avatar'}}, inplace=True)\n",
    "\n",
    "area_four_anova = pg.mixed_anova(dv='rating', between='condition', within='mode', subject='ID', data=area_four)\n",
    "area_four_anova"
   ]
  },
  {
   "cell_type": "code",
   "execution_count": null,
   "id": "8ad7caa6",
   "metadata": {
    "scrolled": true
   },
   "outputs": [],
   "source": [
    "summarize(area_four, \"rating\")"
   ]
  },
  {
   "cell_type": "code",
   "execution_count": null,
   "id": "795a5f53",
   "metadata": {},
   "outputs": [],
   "source": [
    "# if interaction is significant, create interaction plot\n",
    "if area_four_anova[\"p-unc\"].tolist()[-1] < sig_level:\n",
    "    interact_plot(area_four, \"rating\", \"Interaction Condition x Mode (Area 4)\")"
   ]
  },
  {
   "cell_type": "markdown",
   "id": "312ef6f9",
   "metadata": {},
   "source": [
    "### Plot ratings for each area"
   ]
  },
  {
   "cell_type": "code",
   "execution_count": null,
   "id": "021d0a51",
   "metadata": {},
   "outputs": [],
   "source": [
    "fig, ax = plt.subplots(nrows=2, ncols=2, figsize=(15,10), sharey=True)\n",
    "plt.subplots_adjust(hspace=0.4)\n",
    "fig.suptitle('Motion Sickness Ratings', fontsize=16)\n",
    "\n",
    "ax = ax.ravel()\n",
    "\n",
    "boxplot(area_one, \"rating\", \"Area 1\", ax[0])\n",
    "boxplot(area_two, \"rating\", \"Area 2\", ax[1])\n",
    "boxplot(area_three, \"rating\", \"Area 3\", ax[2])\n",
    "boxplot(area_four, \"rating\", \"Area 4\", ax[3])"
   ]
  },
  {
   "cell_type": "markdown",
   "id": "74acf39a",
   "metadata": {},
   "source": [
    "## Effect of condition and mode on SSQ (subscales)\n",
    "### Ocolumotor Subscale"
   ]
  },
  {
   "cell_type": "code",
   "execution_count": null,
   "id": "91b33b4c",
   "metadata": {},
   "outputs": [],
   "source": [
    "ocolumotor = pd.melt(df.reset_index(), id_vars=['ID', 'condition'], value_vars=['SSQ_O_H', 'SSQ_O_FP'])\n",
    "ocolumotor = ocolumotor.rename(columns={\"variable\" : 'mode', \"value\" : \"score\"})\n",
    "ocolumotor.replace({'mode': {'SSQ_O_H': 'Hybrid', 'SSQ_O_FP': 'First Person'},\n",
    "               'condition': {1: 'Blob', 0: 'Avatar'}}, inplace=True)\n",
    "\n",
    "ocolumotor_anova = pg.mixed_anova(dv='score', between='condition', within='mode', subject='ID', data=ocolumotor)\n",
    "ocolumotor_anova"
   ]
  },
  {
   "cell_type": "code",
   "execution_count": null,
   "id": "29851a49",
   "metadata": {},
   "outputs": [],
   "source": [
    "summarize(ocolumotor, \"score\")"
   ]
  },
  {
   "cell_type": "code",
   "execution_count": null,
   "id": "f1baa2cf",
   "metadata": {},
   "outputs": [],
   "source": [
    "# if interaction is significant, create interaction plot\n",
    "if ocolumotor_anova[\"p-unc\"].tolist()[-1] < sig_level:\n",
    "    interact_plot(ocolumotor, \"score\", \"Interaction Condition x Mode (SSQ Ocolumotor Subscale)\")"
   ]
  },
  {
   "cell_type": "markdown",
   "id": "6f3ed164",
   "metadata": {},
   "source": [
    "### Disorientation Subscale"
   ]
  },
  {
   "cell_type": "code",
   "execution_count": null,
   "id": "1fed4f2f",
   "metadata": {},
   "outputs": [],
   "source": [
    "disorientation = pd.melt(df.reset_index(), id_vars=['ID', 'condition'], value_vars=['SSQ_D_H', 'SSQ_D_FP'])\n",
    "disorientation = disorientation.rename(columns={\"variable\" : 'mode', \"value\" : \"score\"})\n",
    "disorientation.replace({'mode': {'SSQ_D_H': 'Hybrid', 'SSQ_D_FP': 'First Person'},\n",
    "               'condition': {1: 'Blob', 0: 'Avatar'}}, inplace=True)\n",
    "\n",
    "disorientation_anova = pg.mixed_anova(dv='score', between='condition', within='mode', subject='ID', data=disorientation)\n",
    "disorientation_anova"
   ]
  },
  {
   "cell_type": "code",
   "execution_count": null,
   "id": "530e6ba1",
   "metadata": {},
   "outputs": [],
   "source": [
    "summarize(disorientation, \"score\")"
   ]
  },
  {
   "cell_type": "code",
   "execution_count": null,
   "id": "c362a511",
   "metadata": {},
   "outputs": [],
   "source": [
    "# if interaction is significant, create interaction plot\n",
    "if disorientation_anova[\"p-unc\"].tolist()[-1] < sig_level:\n",
    "    interact_plot(disorientation, \"score\", \"Interaction Condition x Mode (SSQ Disorientation Subscale)\")"
   ]
  },
  {
   "cell_type": "markdown",
   "id": "94a788cb",
   "metadata": {},
   "source": [
    "### Nausea Subscale"
   ]
  },
  {
   "cell_type": "code",
   "execution_count": null,
   "id": "ec423ffb",
   "metadata": {},
   "outputs": [],
   "source": [
    "nausea = pd.melt(df.reset_index(), id_vars=['ID', 'condition'], value_vars=['SSQ_N_H', 'SSQ_N_FP'])\n",
    "nausea = nausea.rename(columns={\"variable\" : 'mode', \"value\" : \"score\"})\n",
    "nausea.replace({'mode': {'SSQ_N_H': 'Hybrid', 'SSQ_N_FP': 'First Person'},\n",
    "               'condition': {1: 'Blob', 0: 'Avatar'}}, inplace=True)\n",
    "\n",
    "nausea_anova = pg.mixed_anova(dv='score', between='condition', within='mode', subject='ID', data=nausea)\n",
    "nausea_anova"
   ]
  },
  {
   "cell_type": "code",
   "execution_count": null,
   "id": "f704b820",
   "metadata": {
    "scrolled": true
   },
   "outputs": [],
   "source": [
    "summarize(nausea, \"score\")"
   ]
  },
  {
   "cell_type": "code",
   "execution_count": null,
   "id": "a0c1f998",
   "metadata": {},
   "outputs": [],
   "source": [
    "# if interaction is significant, create interaction plot\n",
    "if nausea_anova[\"p-unc\"].tolist()[-1] < sig_level:\n",
    "    interact_plot(nausea, \"score\", \"Interaction Condition x Mode (SSQ Nausea Subscale)\")"
   ]
  },
  {
   "cell_type": "markdown",
   "id": "2e40c4fa",
   "metadata": {},
   "source": [
    "### Plot scores for each subscale"
   ]
  },
  {
   "cell_type": "code",
   "execution_count": null,
   "id": "2660b720",
   "metadata": {
    "scrolled": true
   },
   "outputs": [],
   "source": [
    "fig, ax = plt.subplots(nrows=1, ncols=3, figsize=(15,4), sharey=True)\n",
    "plt.subplots_adjust(wspace=0.4)\n",
    "fig.suptitle('SSQ Subscale Scores', fontsize=16, y=1.05)\n",
    "\n",
    "ax = ax.ravel()\n",
    "\n",
    "boxplot(ocolumotor, \"score\", \"Ocolumotor\", ax[0])\n",
    "boxplot(disorientation, \"score\", \"Disorientation\", ax[1])\n",
    "boxplot(nausea, \"score\", \"Nausea\", ax[2])"
   ]
  },
  {
   "cell_type": "markdown",
   "id": "37095a6d",
   "metadata": {},
   "source": [
    "## Assumption check"
   ]
  },
  {
   "cell_type": "code",
   "execution_count": null,
   "id": "96c48c5a",
   "metadata": {},
   "outputs": [],
   "source": [
    "check_assumptions(ms, 'rating', \"MS Total Score\")"
   ]
  },
  {
   "cell_type": "code",
   "execution_count": null,
   "id": "2f24d88a",
   "metadata": {},
   "outputs": [],
   "source": [
    "check_assumptions(area_one, 'rating', \"MS ratings Area 1\")"
   ]
  },
  {
   "cell_type": "code",
   "execution_count": null,
   "id": "fc905116",
   "metadata": {},
   "outputs": [],
   "source": [
    "check_assumptions(area_two, 'rating', \"MS ratings Area 2\")"
   ]
  },
  {
   "cell_type": "code",
   "execution_count": null,
   "id": "1098baa8",
   "metadata": {},
   "outputs": [],
   "source": [
    "check_assumptions(area_three, 'rating', \"MS ratings Area 3\")"
   ]
  },
  {
   "cell_type": "code",
   "execution_count": null,
   "id": "dea51f28",
   "metadata": {},
   "outputs": [],
   "source": [
    "check_assumptions(area_four, 'rating', \"MS ratings Area 4\")"
   ]
  },
  {
   "cell_type": "code",
   "execution_count": null,
   "id": "5d8b5f8e",
   "metadata": {
    "scrolled": true
   },
   "outputs": [],
   "source": [
    "check_assumptions(ssq, 'score', \"SSQ Total Score\")"
   ]
  },
  {
   "cell_type": "code",
   "execution_count": null,
   "id": "35079846",
   "metadata": {},
   "outputs": [],
   "source": [
    "check_assumptions(ocolumotor, 'score', \"SSQ Ocolumotor Subscale\")"
   ]
  },
  {
   "cell_type": "code",
   "execution_count": null,
   "id": "d8af29c9",
   "metadata": {},
   "outputs": [],
   "source": [
    "check_assumptions(disorientation, 'score', \"SSQ Disorientation Subscale\")"
   ]
  },
  {
   "cell_type": "code",
   "execution_count": null,
   "id": "3a74fb46",
   "metadata": {},
   "outputs": [],
   "source": [
    "check_assumptions(nausea, 'score', \"SSQ Nausea Subscale\")"
   ]
  },
  {
   "cell_type": "markdown",
   "id": "4cee47fd",
   "metadata": {},
   "source": [
    "## Correlations of the motion sickness variables"
   ]
  },
  {
   "cell_type": "code",
   "execution_count": null,
   "id": "e5010639",
   "metadata": {},
   "outputs": [],
   "source": [
    "def corr_sig(df):\n",
    "    '''\n",
    "    Creates and returns a matrix containing the p-values of the spearman correlations within the df.\n",
    "    '''\n",
    "    p_matrix = np.zeros(shape=(df.shape[1],df.shape[1]))\n",
    "    for col in df.columns:\n",
    "        for col2 in df.drop(col,axis=1).columns:\n",
    "            _ , p = stats.spearmanr(df[col],df[col2])\n",
    "            p_matrix[df.columns.to_list().index(col),df.columns.to_list().index(col2)] = p\n",
    "    return p_matrix"
   ]
  },
  {
   "cell_type": "code",
   "execution_count": null,
   "id": "3c7619f4",
   "metadata": {},
   "outputs": [],
   "source": [
    "df_corr = df[['SSQ_N_FP', 'SSQ_O_FP', 'SSQ_D_FP', 'SSQ_TS_FP',\n",
    "              'SSQ_N_H', 'SSQ_O_H', 'SSQ_D_H', 'SSQ_TS_H', \n",
    "              'H_0_MS', 'H_1_MS', 'H_2_MS', 'H_3_MS', 'H_4_MS', 'H_AVG_MS', \n",
    "              'FP_0_MS', 'FP_1_MS', 'FP_2_MS', 'FP_3_MS', 'FP_4_MS', 'FP_AVG_MS']]\n",
    "\n",
    "corrMatrix = df_corr.corr(method='spearman') # spearman because we have ordinal data\n",
    "sigMatrix = corr_sig(df_corr)\n",
    "\n",
    "\n",
    "# generate a custom diverging colormap\n",
    "cmap = sns.diverging_palette(230, 20, as_cmap=True)\n",
    "sns.set_theme(style=\"white\")"
   ]
  },
  {
   "cell_type": "markdown",
   "id": "0618af08",
   "metadata": {},
   "source": [
    "### All correlations"
   ]
  },
  {
   "cell_type": "code",
   "execution_count": null,
   "id": "cb25eb81",
   "metadata": {},
   "outputs": [],
   "source": [
    "# generate a mask for the upper triangle\n",
    "mask = np.zeros_like(corrMatrix, dtype=bool)\n",
    "mask[np.triu_indices_from(mask)] = True\n",
    "\n",
    "# draw the heatmap\n",
    "f, ax = plt.subplots(figsize=(11, 9))\n",
    "sns.heatmap(corrMatrix, mask=mask, cmap=cmap, vmin =0, vmax=1, center=0, \n",
    "              square=True, linewidths=.5, cbar_kws={\"shrink\": .5}, ax=ax,\n",
    "              annot=True)"
   ]
  },
  {
   "cell_type": "markdown",
   "id": "8c749565",
   "metadata": {},
   "source": [
    "### Signficiant correlations"
   ]
  },
  {
   "cell_type": "code",
   "execution_count": null,
   "id": "bee870ed",
   "metadata": {},
   "outputs": [],
   "source": [
    "# heatmap containing ONLY the significant correlations\n",
    "mask = np.invert(np.tril(sigMatrix<0.05)) \n",
    "\n",
    "# draw the heatmap\n",
    "f, ax = plt.subplots(figsize=(11, 9))\n",
    "sns.heatmap(corrMatrix, mask=mask, cmap=cmap, vmin =0, vmax=1, center=0, \n",
    "              square=True, linewidths=.5, cbar_kws={\"shrink\": .5}, ax=ax,\n",
    "              annot=True)"
   ]
  }
 ],
 "metadata": {
  "kernelspec": {
   "display_name": "Python 3",
   "language": "python",
   "name": "python3"
  },
  "language_info": {
   "codemirror_mode": {
    "name": "ipython",
    "version": 3
   },
   "file_extension": ".py",
   "mimetype": "text/x-python",
   "name": "python",
   "nbconvert_exporter": "python",
   "pygments_lexer": "ipython3",
   "version": "3.8.8"
  }
 },
 "nbformat": 4,
 "nbformat_minor": 5
}
