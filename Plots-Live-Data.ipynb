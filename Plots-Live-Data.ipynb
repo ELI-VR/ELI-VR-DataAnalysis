{
 "cells": [
  {
   "cell_type": "code",
   "execution_count": null,
   "id": "0718ae82",
   "metadata": {},
   "outputs": [],
   "source": [
    "import json\n",
    "import matplotlib.pyplot as plt\n",
    "import os\n",
    "import pandas as pd\n",
    "from parameters_preprocessing import *\n",
    "import random\n",
    "import re\n",
    "import seaborn as sns"
   ]
  },
  {
   "cell_type": "markdown",
   "id": "5cf36606",
   "metadata": {},
   "source": [
    "# Plot duration of each area (per condition and mode)"
   ]
  },
  {
   "cell_type": "code",
   "execution_count": null,
   "id": "355cb0b7",
   "metadata": {},
   "outputs": [],
   "source": [
    "search_path = os.getcwd() + '\\\\data\\\\' # location of the data files\n",
    "\n",
    "# get overview filenames\n",
    "overview_avatar_fp = [x for x in os.listdir(path=search_path) if re.match(\"\\d+_AvatarFirstperson_\\d+.json\", x)]\n",
    "overview_avatar_h = [x for x in os.listdir(path=search_path) if re.match(\"\\d+_AvatarHybrid_\\d+.json\", x)]\n",
    "overview_blob_fp = [x for x in os.listdir(path=search_path) if re.match(\"\\d+_BlobFirstperson_\\d+.json\", x)]\n",
    "overview_blob_h = [x for x in os.listdir(path=search_path) if re.match(\"\\d+_BlobHybrid_\\d+.json\", x)]"
   ]
  },
  {
   "cell_type": "code",
   "execution_count": null,
   "id": "23b61696",
   "metadata": {},
   "outputs": [],
   "source": [
    "# create dicitionaries containing the parkour duration of each area\n",
    "avatar_fp = {\"0\" : [], \"1\" : [], \"2\" : [], \"3\" : [], \"4\" : []}\n",
    "avatar_h = {\"0\" : [], \"1\" : [], \"2\" : [], \"3\" : [], \"4\" : []}\n",
    "blob_fp = {\"0\" : [], \"1\" : [], \"2\" : [], \"3\" : [], \"4\" : []}\n",
    "blob_h = {\"0\" : [], \"1\" : [], \"2\" : [], \"3\" : [], \"4\" : []}\n",
    "\n",
    "def getDuration(fnames, datadict):\n",
    "    for fname in fnames:\n",
    "        data = json.load(open(search_path + fname))\n",
    "        for station in data['_stationDataFrames']:\n",
    "            if station[\"stationID\"] != '':\n",
    "                datadict[station[\"stationID\"]].append(station['PakourDuration'])\n",
    "                \n",
    "getDuration(overview_avatar_fp, avatar_fp)\n",
    "getDuration(overview_avatar_h, avatar_h)\n",
    "getDuration(overview_blob_fp, blob_fp)\n",
    "getDuration(overview_blob_h, blob_h)"
   ]
  },
  {
   "cell_type": "code",
   "execution_count": null,
   "id": "39ecd6c3",
   "metadata": {},
   "outputs": [],
   "source": [
    "def swarmBoxDuration(fp, hybrid, condition):\n",
    "    '''\n",
    "    fp (dict): dictionary containing the parkour duration per first person area (fp[\"area\"])\n",
    "    hybrid (dict): dictionary containing the x and z coordinates per hybrid area (hybrid[\"area\"])\n",
    "    condition (str): condition name to be put in the figure title\n",
    "    subjects (list of str): list of the plotted subjects' ids\n",
    "    '''\n",
    "    \n",
    "    colors = [\"#b30000\", \"#4421af\", \"#00b7c7\", \"#8be04e\", \"#ffa300\"]\n",
    "    \n",
    "    sns.set_style(\"white\")\n",
    "\n",
    "    fig, ax = plt.subplots(nrows=5, ncols=2, figsize=(5,20), sharey='row')\n",
    "    fig.suptitle(\"Parkour Duration: \" + condition + \" Condition\", fontweight='bold', fontsize=18, y=0.93)  \n",
    "    plt.subplots_adjust(wspace=0.5, hspace=0.5)\n",
    "    ax = ax.ravel()\n",
    "    '''\n",
    "    OLD CODE FOR 2 ROWS with 5 COLUMNS\n",
    "    for i, j in zip(range(0, 5), range(5,10)):\n",
    "        ax[i] = sns.boxplot(data = fp[str(i)], ax = ax[i], color = colors[i],\n",
    "                           showcaps=False,boxprops={'facecolor':'None'},\n",
    "                            showfliers=False,whiskerprops={'linewidth':0})\n",
    "        ax[i] = sns.swarmplot(data = fp[str(i)], ax = ax[i], color = colors[i], edgecolor=\"black\", linewidth=1, s=8)        \n",
    "        ax[i].set_title(\"First Person Area \" + str(i), fontsize=14, pad=15)\n",
    "        ax[i].set_xticks([])\n",
    "\n",
    "        #ax[j] = sns.boxplot(data = hybrid[str(i)], ax = ax[j], color = colors[i])\n",
    "        #ax[j] = sns.swarmplot(data = hybrid[str(i)], ax = ax[j], color = \"0.2\", s=8)    \n",
    "        ax[j] = sns.boxplot(data = hybrid[str(i)], ax = ax[j], color = colors[i],\n",
    "                           showcaps=False,boxprops={'facecolor':'None'},\n",
    "                            showfliers=False,whiskerprops={'linewidth':0})\n",
    "        ax[j] = sns.swarmplot(data = hybrid[str(i)], ax = ax[j], color = colors[i], edgecolor=\"black\", linewidth=1, s=8)\n",
    "        ax[j].set_title(\"Hybrid Area \" + str(i), fontsize=14, pad=15)\n",
    "        ax[j].set_xticks([])\n",
    "    '''\n",
    "\n",
    "    for i, j in zip(range(0, 10, 2), range(0,5)):\n",
    "        ax[i] = sns.boxplot(data = fp[str(j)],\n",
    "                            ax = ax[i],\n",
    "                            color = colors[j],\n",
    "                            showcaps=False,boxprops={'facecolor':'None'},\n",
    "                            showfliers=False,whiskerprops={'linewidth':0},\n",
    "                            medianprops=dict(color=colors[j], alpha=0.8))\n",
    "        ax[i] = sns.swarmplot(data = fp[str(j)], ax = ax[i], color = colors[j], edgecolor=\"black\", linewidth=1, s=8)        \n",
    "        ax[i].set_title(\"First Person Area \" + str(j), fontsize=14, pad=18, fontweight='bold')\n",
    "        ax[i].set_xticks([])\n",
    "        ax[i].set_ylabel(\"Duration in s\", fontsize=14)\n",
    "\n",
    "        #ax[j] = sns.boxplot(data = hybrid[str(i)], ax = ax[j], color = colors[i])\n",
    "        #ax[j] = sns.swarmplot(data = hybrid[str(i)], ax = ax[j], color = \"0.2\", s=8)    \n",
    "        ax[i+1] = sns.boxplot(data = hybrid[str(j)], ax = ax[i+1], color = colors[j],\n",
    "                              showcaps=False,boxprops={'facecolor':'None'},\n",
    "                              showfliers=False,whiskerprops={'linewidth':0},\n",
    "                              medianprops=dict(color=colors[j], alpha=0.8))\n",
    "        ax[i+1] = sns.swarmplot(data = hybrid[str(j)], ax = ax[i+1], color = colors[j], edgecolor=\"black\", linewidth=1, s=8)\n",
    "        ax[i+1].set_title(\"Hybrid Area \" + str(j), fontsize=14, pad=18, fontweight='bold')\n",
    "        ax[i+1].set_xticks([])\n",
    "\n",
    "    sns.despine()"
   ]
  },
  {
   "cell_type": "code",
   "execution_count": null,
   "id": "d9f5c1e2",
   "metadata": {},
   "outputs": [],
   "source": [
    "swarmBoxDuration(blob_fp, blob_h, \"Blob\")"
   ]
  },
  {
   "cell_type": "code",
   "execution_count": null,
   "id": "2cdf89fa",
   "metadata": {},
   "outputs": [],
   "source": [
    "swarmBoxDuration(avatar_fp, avatar_h, \"Avatar\")"
   ]
  },
  {
   "cell_type": "markdown",
   "id": "1fc0a6d8",
   "metadata": {},
   "source": [
    "# Plot trajectory of each area (per condition and mode)"
   ]
  },
  {
   "cell_type": "code",
   "execution_count": null,
   "id": "5478fe59",
   "metadata": {},
   "outputs": [],
   "source": [
    "nsubjects = 5 # how many subjects to plot on top of each other "
   ]
  },
  {
   "cell_type": "code",
   "execution_count": null,
   "id": "da8de2dc",
   "metadata": {},
   "outputs": [],
   "source": [
    "df = pd.read_csv(\"data/data_questionnaires_preprocessed.csv\")\n",
    "\n",
    "# pick random blob subjects\n",
    "blobsubjects = random.sample(list(df[df[\"blob\"] == 1][\"ID\"]), nsubjects)\n",
    "blobsubjects = [str(x).zfill(3) for x in blobsubjects]\n",
    "print(\"Blob subjects: \")\n",
    "print(blobsubjects)\n",
    "\n",
    "# pick random avatar subjects\n",
    "avatarsubjects = random.sample(list(df[df[\"blob\"] == 0][\"ID\"]), nsubjects)\n",
    "avatarsubjects = [str(x).zfill(3) for x in avatarsubjects]\n",
    "print(\"Avatar subjects: \")\n",
    "print(avatarsubjects)"
   ]
  },
  {
   "cell_type": "code",
   "execution_count": null,
   "id": "606d5dd7",
   "metadata": {},
   "outputs": [],
   "source": [
    "search_path = os.getcwd() + '\\\\data\\\\' # location of the data files\n",
    "\n",
    "live_avatar_fp = []\n",
    "live_avatar_h = []\n",
    "live_blob_fp = []\n",
    "live_blob_h = []\n",
    "\n",
    "# get the live filenames of those subjects\n",
    "for subject in avatarsubjects:\n",
    "    live_avatar_fp += [x for x in os.listdir(path=search_path) if re.match(subject + \"_AvatarFirstperson_S\\d+_I\\d+_lv.json\", x)]\n",
    "    live_avatar_h += [x for x in os.listdir(path=search_path) if re.match(subject + \"_AvatarHybrid_S\\d+_I\\d+_lv.json\", x)]\n",
    "\n",
    "for subject in blobsubjects:\n",
    "    live_blob_fp += [x for x in os.listdir(path=search_path) if re.match(subject + \"_BlobFirstperson_S\\d+_I\\d+_lv.json\", x)]\n",
    "    live_blob_h += [x for x in os.listdir(path=search_path) if re.match(subject + \"_BlobHybrid_S\\d+_I\\d+_lv.json\", x)]"
   ]
  },
  {
   "cell_type": "code",
   "execution_count": null,
   "id": "1624d940",
   "metadata": {},
   "outputs": [],
   "source": [
    "# create dictionaries to save the x and z coordinates of each area, for each subject\n",
    "livedata_avatar_fp = {\"0\": {\"x\": [], \"z\": []}, \"1\": {\"x\": [], \"z\": []}, \"2\": {\"x\": [], \"z\": []}, \"3\": {\"x\": [], \"z\": []}, \"4\": {\"x\": [], \"z\": []}}\n",
    "livedata_avatar_h = {\"0\": {\"x\": [], \"z\": []}, \"1\": {\"x\": [], \"z\": []}, \"2\": {\"x\": [], \"z\": []}, \"3\": {\"x\": [], \"z\": []}, \"4\": {\"x\": [], \"z\": []}}\n",
    "livedata_blob_fp = {\"0\": {\"x\": [], \"z\": []}, \"1\": {\"x\": [], \"z\": []}, \"2\": {\"x\": [], \"z\": []}, \"3\": {\"x\": [], \"z\": []}, \"4\": {\"x\": [], \"z\": []}}\n",
    "livedata_blob_h = {\"0\": {\"x\": [], \"z\": []}, \"1\": {\"x\": [], \"z\": []}, \"2\": {\"x\": [], \"z\": []}, \"3\": {\"x\": [], \"z\": []}, \"4\": {\"x\": [], \"z\": []}}\n",
    "\n",
    "def getXandZ(fnames, datadict):\n",
    "    # get the x and z coordinates and save them to the dictionary\n",
    "    for fname in fnames:\n",
    "        data = json.load(open(search_path + fname))\n",
    "        area = re.findall(\"S\\d+\", fname)[0][1] # extract area id (0-4)\n",
    "        x = []\n",
    "        z = []\n",
    "        for frame in data:\n",
    "            x.append(frame[\"HMDPositionGlobal\"][\"x\"])\n",
    "            z.append(frame[\"HMDPositionGlobal\"][\"z\"])\n",
    "        datadict[area][\"x\"].append(x)\n",
    "        datadict[area][\"z\"].append(z)\n",
    "\n",
    "getXandZ(live_avatar_fp, livedata_avatar_fp)\n",
    "getXandZ(live_avatar_h, livedata_avatar_h)\n",
    "getXandZ(live_blob_fp, livedata_blob_fp)\n",
    "getXandZ(live_blob_h, livedata_blob_h)"
   ]
  },
  {
   "cell_type": "code",
   "execution_count": null,
   "id": "bd77704f",
   "metadata": {},
   "outputs": [],
   "source": [
    "'''\n",
    "condition = re.findall(\"(?:Blob|Avatar)\", live_avatar_fp[0]) # Blob or Avatar\n",
    "mode = re.findall(\"(?:Firstperson|Hybrid)\", live_avatar_fp[0]) # Firstperson or Hybrid\n",
    "area = re.findall(\"S\\d+\", live_avatar_fp[0])[0][1] # area number (0-4)\n",
    "'''"
   ]
  },
  {
   "cell_type": "code",
   "execution_count": null,
   "id": "a0b136f2",
   "metadata": {},
   "outputs": [],
   "source": [
    "def trajectoryPlot(fp, hybrid, condition, subjects):\n",
    "    '''\n",
    "    fp (dict): dictionary containing the x and z coordinates per first person area (fp[\"area\"][\"x\"][idx subject])\n",
    "    hybrid (dict): dictionary containing the x and z coordinates per hybrid area (hybrid[\"area\"][\"x\"][idx subject])\n",
    "    condition (str): condition name to be put in the figure title\n",
    "    subjects (list of str): list of the plotted subjects' ids\n",
    "    '''\n",
    "    sns.set_style(\"white\")\n",
    "\n",
    "    fig, ax = plt.subplots(nrows=nsubjects, ncols=2, figsize=(10,4*nsubjects), sharey='row')\n",
    "    fig.suptitle(\"Trajectory Plot: \" + condition + \" Condition\", fontweight='bold', fontsize=18, y=0.93)\n",
    "    plt.subplots_adjust(wspace=0.5, hspace=0.5)\n",
    "    ax = ax.ravel()\n",
    "\n",
    "    for axis, area in zip(range(0, nsubjects*2, 2), range(0,5)):\n",
    "        for subject in range(0,nsubjects): # plot nsubjects on top of each other\n",
    "            ax[axis].plot(fp[str(area)][\"x\"][subject], fp[str(area)][\"z\"][subject]) # plot first person in left column\n",
    "            ax[axis+1].plot(hybrid[str(area)][\"x\"][subject], hybrid[str(area)][\"z\"][subject]) # plot hybrid in right column\n",
    "            \n",
    "        ax[axis].set_title(\"First Person Area \" + str(area), fontsize=14, pad=18, fontweight='bold')\n",
    "        ax[axis].set_xticks([])\n",
    "        ax[axis].set_yticks([])        \n",
    "        ax[axis].set_ylabel(\"z\", fontsize=16)\n",
    "        ax[axis].set_xlabel(\"x\", fontsize=16)\n",
    "         \n",
    "        ax[axis+1].set_title(\"Hybrid Area \" + str(area), fontsize=14, pad=18, fontweight='bold')\n",
    "        ax[axis+1].set_xticks([])\n",
    "        ax[axis+1].set_yticks([])  \n",
    "        ax[axis+1].set_ylabel(\"z\", fontsize=16)\n",
    "        ax[axis+1].set_xlabel(\"x\", fontsize=16)\n",
    "        ax[axis+1].legend(title=\"Participant\", labels=subjects, loc='center left', bbox_to_anchor=(1.1, 0.5)) \n",
    "     \n",
    "    sns.despine()"
   ]
  },
  {
   "cell_type": "code",
   "execution_count": null,
   "id": "9bc04103",
   "metadata": {
    "scrolled": true
   },
   "outputs": [],
   "source": [
    "trajectoryPlot(livedata_avatar_fp, livedata_avatar_h, \"Avatar\", avatarsubjects)"
   ]
  },
  {
   "cell_type": "code",
   "execution_count": null,
   "id": "c5f719da",
   "metadata": {},
   "outputs": [],
   "source": [
    "trajectoryPlot(livedata_blob_fp, livedata_blob_h, \"Blob\", blobsubjects)"
   ]
  }
 ],
 "metadata": {
  "kernelspec": {
   "display_name": "Python 3",
   "language": "python",
   "name": "python3"
  },
  "language_info": {
   "codemirror_mode": {
    "name": "ipython",
    "version": 3
   },
   "file_extension": ".py",
   "mimetype": "text/x-python",
   "name": "python",
   "nbconvert_exporter": "python",
   "pygments_lexer": "ipython3",
   "version": "3.8.8"
  }
 },
 "nbformat": 4,
 "nbformat_minor": 5
}
