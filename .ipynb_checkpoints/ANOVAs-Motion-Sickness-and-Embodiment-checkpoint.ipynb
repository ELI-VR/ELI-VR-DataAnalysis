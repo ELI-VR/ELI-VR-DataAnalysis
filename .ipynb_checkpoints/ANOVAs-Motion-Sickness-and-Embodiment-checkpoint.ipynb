{
 "cells": [
  {
   "cell_type": "markdown",
   "id": "42d085f9",
   "metadata": {},
   "source": [
    "# Analysis of Motion Sickness and Embodiment Data\n",
    "\n",
    "Author: Zora Nolte\n",
    "\n",
    "Last updated: 17.02.2022"
   ]
  },
  {
   "cell_type": "code",
   "execution_count": 1,
   "id": "1eb8aeb8",
   "metadata": {},
   "outputs": [
    {
     "name": "stderr",
     "output_type": "stream",
     "text": [
      "C:\\Users\\zoran\\anaconda3\\lib\\site-packages\\outdated\\utils.py:14: OutdatedPackageWarning: The package pingouin is out of date. Your version is 0.5.0, the latest is 0.5.1.\n",
      "Set the environment variable OUTDATED_IGNORE=1 to disable these warnings.\n",
      "  return warn(\n"
     ]
    }
   ],
   "source": [
    "import os\n",
    "import pandas as pd\n",
    "import pingouin as pg\n",
    "import matplotlib.pyplot as plt\n",
    "import seaborn as sns\n",
    "from statsmodels.graphics.factorplots import interaction_plot\n",
    "import numpy as np\n",
    "from scipy import stats"
   ]
  },
  {
   "cell_type": "code",
   "execution_count": 2,
   "id": "dc446a2e",
   "metadata": {},
   "outputs": [],
   "source": [
    "# load the data\n",
    "search_path = os.getcwd() + '\\\\data\\\\' # location of the data files\n",
    "df = pd.read_csv(search_path + \"data_questionnaires_preprocessed.csv\", converters={'BE04_01':str, 'BE04_02':str, 'BE04_03':str})\n",
    "df = df.rename(columns={\"blob\" : 'condition'})"
   ]
  },
  {
   "cell_type": "code",
   "execution_count": 3,
   "id": "8476bbc1",
   "metadata": {},
   "outputs": [],
   "source": [
    "sig_level = 0.05 # p value to be used as threshold"
   ]
  },
  {
   "cell_type": "markdown",
   "id": "ecf9a3cf",
   "metadata": {},
   "source": [
    "## Notes on Mixed ANOVA"
   ]
  },
  {
   "cell_type": "markdown",
   "id": "2920a369",
   "metadata": {},
   "source": [
    "**Independent variables:** two categorical independent variables (factors)\n",
    "- one of which is between-subject (each subjects assigned only once to treatment): blob vs. avatar\n",
    "- the other is within-subject (each subject assigned multiple treatments): hybrid vs. first-person\n",
    "\n",
    "**Assumptions:**\n",
    "- The responses from subjects (dependent variable) should be continuous\n",
    "- Residuals (experimental error) are approximately normally distributed for each combination of between-subject and within-subject variable (Shapiro-Wilks Test or histogram)\n",
    "- Homogeneity of variances or homoscedasticity: There should be equal variance for every level of within-subject factor (Levene’s test)\n",
    "- Assumption of sphericity: the variances of differences in responses between any two levels of the independent variable (within-subjects factor) should be equal (Mauchly’s test of sphericity). This assumptionn is also known as homogeneity-of-variance-of-differences assumption.\n",
    "- Homogeneity of the variance-covariance matrices: the pattern of intercorrelation for each level of within-subject variable across between-subject variable should be equal. This is a multivariate version of the Homogeneity of variances. It can be tested using Box’s M test. Box’s M-test has little power and uses a lower alpha level such as 0.001 to assess the p value for significance.\n",
    "- There should be no significant outlier (this can be checked by boxplot)\n",
    " \n",
    "**Results:**\n",
    "- Two-way mixed ANOVA estimates the three effects - two main effects and one interaction effect - for statistical significance\n",
    "- Generally, it is not appropriate to interpret main effects when interaction is significant.\n",
    "\n",
    "(Source: https://www.reneshbedre.com/blog/mixed-anova.html)\n"
   ]
  },
  {
   "cell_type": "markdown",
   "id": "52997674",
   "metadata": {},
   "source": [
    "## Naming conventions\n",
    "\n",
    "- condition: blob vs. avatar (1: blob, 0: avatar)\n",
    "- mode: first-person vs. hybrid"
   ]
  },
  {
   "cell_type": "markdown",
   "id": "7b7fbdd8",
   "metadata": {},
   "source": [
    "## Important Note\n",
    "\n",
    "**p-values are not corrected for multiple analyses in this notebook!**"
   ]
  },
  {
   "cell_type": "markdown",
   "id": "f50205ab",
   "metadata": {},
   "source": [
    "## Functions"
   ]
  },
  {
   "cell_type": "code",
   "execution_count": 4,
   "id": "c9cda8fd",
   "metadata": {},
   "outputs": [],
   "source": [
    "def summarize(df, var):\n",
    "    '''\n",
    "    Groups the df by the independent factors, and prints the variable's count, mean, and std.\n",
    "    \n",
    "    df (pd.DataFrame)\n",
    "    var (str): the column to summarize\n",
    "    '''\n",
    "    return df.groupby([\"condition\", \"mode\"]).describe()[var][[\"count\", \"mean\", \"std\"]]"
   ]
  },
  {
   "cell_type": "code",
   "execution_count": 5,
   "id": "e4bd0764",
   "metadata": {},
   "outputs": [],
   "source": [
    "def boxplot(df, var, title, ax, legend=True):\n",
    "    '''\n",
    "    Creates a boxplot of the variable, separated by condition and mode.\n",
    "    \n",
    "    df (pd.DataFrame)\n",
    "    var (str): the column to plot\n",
    "    title (str): title of the boxplot\n",
    "    ax (plt.axis): ax to be plotted on\n",
    "    \n",
    "    '''\n",
    "    my_palette = sns.color_palette([sns.color_palette(\"tab10\")[1], sns.color_palette(\"tab10\")[0]])\n",
    "    sns.boxplot(x='condition', y=var, hue='mode', data=df, ax=ax,\n",
    "                showmeans=True, meanprops={\"marker\":\"d\",\"markerfacecolor\":\"white\", \"markeredgecolor\":\"black\"},\n",
    "                palette=my_palette)\n",
    "    ax.set_title(title, fontsize=18)\n",
    "    if legend:\n",
    "        ax.legend(title=\"Viewing Mode\", fontsize=13, title_fontsize=13, loc='upper left', bbox_to_anchor=(1, 1))\n",
    "    else:\n",
    "        ax.get_legend().remove()\n",
    "    \n",
    "    ax.xaxis.label.set_size(16)\n",
    "    ax.xaxis.labelpad = 10\n",
    "    ax.yaxis.label.set_size(16)\n",
    "    ax.yaxis.labelpad = 10\n",
    "    ax.tick_params(axis='both', which='major', labelsize=14)\n",
    "    sns.despine()\n"
   ]
  },
  {
   "cell_type": "code",
   "execution_count": 6,
   "id": "9d601530",
   "metadata": {},
   "outputs": [],
   "source": [
    "def interact_plot(df, var, title, ax):\n",
    "    '''\n",
    "    Plots the interaction of condition and mode for the variable.\n",
    "    \n",
    "    df (pd.DataFrame)\n",
    "    var (str):  dependent variable column name\n",
    "    title (str): title of the plot\n",
    "    '''\n",
    "    interaction_plot(x=df['condition'], trace=df['mode'], response=df[var], ax=ax,\n",
    "                     colors=[sns.color_palette(\"tab10\")[0], sns.color_palette(\"tab10\")[1]], \n",
    "                     markers=['D','^'])\n",
    "    ax.set_title(title, fontsize=18)\n",
    "    ax.legend(title=\"Viewing Mode\", fontsize=13, title_fontsize=13, loc='upper left', bbox_to_anchor=(1, 1))\n",
    "    ax.set_ylabel(\"Mean\")\n",
    "    ax.set_xlabel(\"Condition\")\n",
    "    \n",
    "    ax.xaxis.label.set_size(16)\n",
    "    ax.xaxis.labelpad = 10\n",
    "    ax.yaxis.label.set_size(16)\n",
    "    ax.yaxis.labelpad = 10\n",
    "    ax.tick_params(axis='both', which='major', labelsize=14)\n",
    " \n",
    "    sns.despine()\n",
    "    plt.show()"
   ]
  },
  {
   "cell_type": "code",
   "execution_count": 7,
   "id": "b212ffdf",
   "metadata": {},
   "outputs": [],
   "source": [
    "def check_assumptions(df, dv, dv_name):\n",
    "    '''\n",
    "    Checks the assumptions of a mixed ANOVA.\n",
    "    \n",
    "    df (pd.DataFrame)\n",
    "    dv (str): dependent variable column name\n",
    "    dv_name (str): name of the dependent variable (to be printed)\n",
    "    '''\n",
    "    \n",
    "    print(\"Checking the assumptions for the dependent variable {}...\\n\".format(dv_name))\n",
    "    all_assumptions = []\n",
    "    \n",
    "    # Assumption of the residuals being normally distributed\n",
    "    df['factor_comb'] = df[\"condition\"] + '-'+ df[\"mode\"]\n",
    "    normal = pg.normality(data=df, dv=dv, group='factor_comb')\n",
    "    if normal[\"normal\"].all():\n",
    "        print(\"The residuals are approximately normally distributed for each level of the within-subjects factor (tested using the Shapiro-Wilks Test)\")\n",
    "        all_assumptions.append(True)\n",
    "    else:\n",
    "        print(\"The residuals are NOT approximately normally distributed for each level of the within-subjects factor! (tested using the Shapiro-Wilks Test)\")\n",
    "        all_assumptions.append(False)\n",
    "    \n",
    "    print()\n",
    "    # Assumption of homoscedasticity\n",
    "    print(\"There should be equal variance for every level of within-subject factor:\")\n",
    "    hybrid = df[df[\"mode\"]==\"Hybrid\"].reset_index(drop=True)\n",
    "    homo_hybrid = pg.homoscedasticity(data=hybrid, dv=dv, group='condition')\n",
    "    all_assumptions.append(homo_hybrid[\"equal_var\"][0])\n",
    "    print(\"For the level Hybrid, Levene's test resulted in a p-value of {}, indicating that the assumption of equal variances is {}.\".format(homo_hybrid[\"pval\"][0].round(3), homo_hybrid[\"equal_var\"][0]))\n",
    "    \n",
    "    fp = df[df[\"mode\"]==\"First Person\"].reset_index(drop=True)\n",
    "    homo_fp = pg.homoscedasticity(data=fp, dv=dv, group='condition')\n",
    "    all_assumptions.append(homo_fp[\"equal_var\"][0])\n",
    "    print(\"For the level First Person, Levene's test resulted in a p-value of {}, indicating that the assumption of equal variances is {}.\".format(homo_fp[\"pval\"][0].round(3), homo_fp[\"equal_var\"][0]))\n",
    "    \n",
    "    print()    \n",
    "    # Assumption of sphericity\n",
    "    sphericity = pg.sphericity(data=df, dv=dv, subject='ID', within='condition')\n",
    "    all_assumptions.append(sphericity[0])\n",
    "    print(\"Mauchly’s test of sphericity resulted in a p-value of {}, indicating that the assumption is {}.\".format(sphericity[-1], sphericity[0]))\n",
    "    \n",
    "    print()\n",
    "    # Assumption of homogeneity of the variance-covariance matrices:\n",
    "    print(\"The homogeneity of variance-covariance matrices formed by the between-subject factor for each level of the within-subject factor should be equal:\")\n",
    "    box_fp = pg.box_m(data=fp, dvs=[dv], group='condition', alpha=0.001)\n",
    "    all_assumptions.append(box_fp[\"equal_cov\"][0])    \n",
    "    print(\"For the level First Person, Box’s M test resulted in a p-value of {}, indicating that the assumption is {}.\".format(box_fp[\"pval\"][0].round(3), box_fp[\"equal_cov\"][0]))\n",
    "    \n",
    "    box_hybrid = pg.box_m(data=hybrid, dvs=[dv], group='condition', alpha=0.001)\n",
    "    all_assumptions.append(box_hybrid[\"equal_cov\"][0])    \n",
    "    print(\"For the level Hybrid, Box’s M test resulted in a p-value of {}, indicating that the assumption is {}.\".format(box_hybrid[\"pval\"][0].round(3), box_hybrid[\"equal_cov\"][0]))\n",
    "\n",
    "    print()\n",
    "    # Assumption of no outliers\n",
    "    #outliers = df[df[dv] > df[dv].mean() + 3 * df[dv].std()]\n",
    "    outliers = df[np.abs(df[dv] - df[dv].mean()) > (3 * df[dv].std())]\n",
    "    print(\"A data point is called an outlier if it > 3 sd away from the mean.\")\n",
    "    if outliers.empty:\n",
    "        print(\"There are no outliers!\")\n",
    "        all_assumptions.append(True)\n",
    "    else: \n",
    "        print(\"There are outliers! The outliers are the participants {}\".format(outliers[\"ID\"].values))\n",
    "        print(outliers)\n",
    "        all_assumptions.append(False)\n",
    "    \n",
    "    \n",
    "    if all(x == True for x in all_assumptions):\n",
    "        print()\n",
    "        print(\"ALL ASSUMPTIONS ARE TRUE!\")"
   ]
  },
  {
   "cell_type": "markdown",
   "id": "02636a4b",
   "metadata": {},
   "source": [
    "# Motion Sickness\n",
    "\n",
    "## Effect of condition and mode on in-game MS ratings (average)"
   ]
  },
  {
   "cell_type": "code",
   "execution_count": 8,
   "id": "a94fe369",
   "metadata": {},
   "outputs": [
    {
     "data": {
      "text/html": [
       "<div>\n",
       "<style scoped>\n",
       "    .dataframe tbody tr th:only-of-type {\n",
       "        vertical-align: middle;\n",
       "    }\n",
       "\n",
       "    .dataframe tbody tr th {\n",
       "        vertical-align: top;\n",
       "    }\n",
       "\n",
       "    .dataframe thead th {\n",
       "        text-align: right;\n",
       "    }\n",
       "</style>\n",
       "<table border=\"1\" class=\"dataframe\">\n",
       "  <thead>\n",
       "    <tr style=\"text-align: right;\">\n",
       "      <th></th>\n",
       "      <th>Source</th>\n",
       "      <th>SS</th>\n",
       "      <th>DF1</th>\n",
       "      <th>DF2</th>\n",
       "      <th>MS</th>\n",
       "      <th>F</th>\n",
       "      <th>p-unc</th>\n",
       "      <th>np2</th>\n",
       "      <th>eps</th>\n",
       "    </tr>\n",
       "  </thead>\n",
       "  <tbody>\n",
       "    <tr>\n",
       "      <th>0</th>\n",
       "      <td>condition</td>\n",
       "      <td>1.670385</td>\n",
       "      <td>1</td>\n",
       "      <td>81</td>\n",
       "      <td>1.670385</td>\n",
       "      <td>1.401606</td>\n",
       "      <td>0.239918</td>\n",
       "      <td>0.017009</td>\n",
       "      <td>NaN</td>\n",
       "    </tr>\n",
       "    <tr>\n",
       "      <th>1</th>\n",
       "      <td>mode</td>\n",
       "      <td>3.947952</td>\n",
       "      <td>1</td>\n",
       "      <td>81</td>\n",
       "      <td>3.947952</td>\n",
       "      <td>10.232417</td>\n",
       "      <td>0.001970</td>\n",
       "      <td>0.112158</td>\n",
       "      <td>1.0</td>\n",
       "    </tr>\n",
       "    <tr>\n",
       "      <th>2</th>\n",
       "      <td>Interaction</td>\n",
       "      <td>0.719990</td>\n",
       "      <td>1</td>\n",
       "      <td>81</td>\n",
       "      <td>0.719990</td>\n",
       "      <td>1.866091</td>\n",
       "      <td>0.175704</td>\n",
       "      <td>0.022519</td>\n",
       "      <td>NaN</td>\n",
       "    </tr>\n",
       "  </tbody>\n",
       "</table>\n",
       "</div>"
      ],
      "text/plain": [
       "        Source        SS  DF1  DF2        MS          F     p-unc       np2  \\\n",
       "0    condition  1.670385    1   81  1.670385   1.401606  0.239918  0.017009   \n",
       "1         mode  3.947952    1   81  3.947952  10.232417  0.001970  0.112158   \n",
       "2  Interaction  0.719990    1   81  0.719990   1.866091  0.175704  0.022519   \n",
       "\n",
       "   eps  \n",
       "0  NaN  \n",
       "1  1.0  \n",
       "2  NaN  "
      ]
     },
     "execution_count": 8,
     "metadata": {},
     "output_type": "execute_result"
    }
   ],
   "source": [
    "ms = pd.melt(df.reset_index(), id_vars=['ID', 'condition'], value_vars=['H_AVG_MS', 'FP_AVG_MS'])\n",
    "ms = ms.rename(columns={\"variable\" : 'mode', \"value\" : \"rating\"})\n",
    "ms.replace({'mode': {'H_AVG_MS': 'Hybrid', 'FP_AVG_MS': 'First Person'},\n",
    "               'condition': {1: 'Blob', 0: 'Avatar'}}, inplace=True)\n",
    "\n",
    "ms_anova = pg.mixed_anova(dv='rating', between='condition', within='mode', subject='ID', data=ms)\n",
    "ms_anova"
   ]
  },
  {
   "cell_type": "code",
   "execution_count": 9,
   "id": "27cb5a20",
   "metadata": {},
   "outputs": [
    {
     "data": {
      "text/html": [
       "<div>\n",
       "<style scoped>\n",
       "    .dataframe tbody tr th:only-of-type {\n",
       "        vertical-align: middle;\n",
       "    }\n",
       "\n",
       "    .dataframe tbody tr th {\n",
       "        vertical-align: top;\n",
       "    }\n",
       "\n",
       "    .dataframe thead th {\n",
       "        text-align: right;\n",
       "    }\n",
       "</style>\n",
       "<table border=\"1\" class=\"dataframe\">\n",
       "  <thead>\n",
       "    <tr style=\"text-align: right;\">\n",
       "      <th></th>\n",
       "      <th>Source</th>\n",
       "      <th>SS</th>\n",
       "      <th>DF1</th>\n",
       "      <th>DF2</th>\n",
       "      <th>MS</th>\n",
       "      <th>F</th>\n",
       "      <th>p-unc</th>\n",
       "      <th>np2</th>\n",
       "      <th>eps</th>\n",
       "    </tr>\n",
       "  </thead>\n",
       "  <tbody>\n",
       "    <tr>\n",
       "      <th>0</th>\n",
       "      <td>condition</td>\n",
       "      <td>1.036049</td>\n",
       "      <td>1</td>\n",
       "      <td>80</td>\n",
       "      <td>1.036049</td>\n",
       "      <td>0.909483</td>\n",
       "      <td>0.343124</td>\n",
       "      <td>0.011241</td>\n",
       "      <td>NaN</td>\n",
       "    </tr>\n",
       "    <tr>\n",
       "      <th>1</th>\n",
       "      <td>mode</td>\n",
       "      <td>2.897805</td>\n",
       "      <td>1</td>\n",
       "      <td>80</td>\n",
       "      <td>2.897805</td>\n",
       "      <td>9.098382</td>\n",
       "      <td>0.003429</td>\n",
       "      <td>0.102116</td>\n",
       "      <td>1.0</td>\n",
       "    </tr>\n",
       "    <tr>\n",
       "      <th>2</th>\n",
       "      <td>Interaction</td>\n",
       "      <td>0.322457</td>\n",
       "      <td>1</td>\n",
       "      <td>80</td>\n",
       "      <td>0.322457</td>\n",
       "      <td>1.012436</td>\n",
       "      <td>0.317354</td>\n",
       "      <td>0.012497</td>\n",
       "      <td>NaN</td>\n",
       "    </tr>\n",
       "  </tbody>\n",
       "</table>\n",
       "</div>"
      ],
      "text/plain": [
       "        Source        SS  DF1  DF2        MS         F     p-unc       np2  \\\n",
       "0    condition  1.036049    1   80  1.036049  0.909483  0.343124  0.011241   \n",
       "1         mode  2.897805    1   80  2.897805  9.098382  0.003429  0.102116   \n",
       "2  Interaction  0.322457    1   80  0.322457  1.012436  0.317354  0.012497   \n",
       "\n",
       "   eps  \n",
       "0  NaN  \n",
       "1  1.0  \n",
       "2  NaN  "
      ]
     },
     "execution_count": 9,
     "metadata": {},
     "output_type": "execute_result"
    }
   ],
   "source": [
    "# exclude outlier 59 -- STILL SIGNIFICANT\n",
    "ms_anova2 = pg.mixed_anova(dv='rating', between='condition', within='mode', subject='ID', data=ms[ms[\"ID\"]!=59])\n",
    "ms_anova2"
   ]
  },
  {
   "cell_type": "code",
   "execution_count": 10,
   "id": "07661225",
   "metadata": {
    "scrolled": true
   },
   "outputs": [
    {
     "data": {
      "text/html": [
       "<div>\n",
       "<style scoped>\n",
       "    .dataframe tbody tr th:only-of-type {\n",
       "        vertical-align: middle;\n",
       "    }\n",
       "\n",
       "    .dataframe tbody tr th {\n",
       "        vertical-align: top;\n",
       "    }\n",
       "\n",
       "    .dataframe thead th {\n",
       "        text-align: right;\n",
       "    }\n",
       "</style>\n",
       "<table border=\"1\" class=\"dataframe\">\n",
       "  <thead>\n",
       "    <tr style=\"text-align: right;\">\n",
       "      <th></th>\n",
       "      <th></th>\n",
       "      <th>count</th>\n",
       "      <th>mean</th>\n",
       "      <th>std</th>\n",
       "    </tr>\n",
       "    <tr>\n",
       "      <th>condition</th>\n",
       "      <th>mode</th>\n",
       "      <th></th>\n",
       "      <th></th>\n",
       "      <th></th>\n",
       "    </tr>\n",
       "  </thead>\n",
       "  <tbody>\n",
       "    <tr>\n",
       "      <th rowspan=\"2\" valign=\"top\">Avatar</th>\n",
       "      <th>First Person</th>\n",
       "      <td>43.0</td>\n",
       "      <td>0.767442</td>\n",
       "      <td>0.786711</td>\n",
       "    </tr>\n",
       "    <tr>\n",
       "      <th>Hybrid</th>\n",
       "      <td>43.0</td>\n",
       "      <td>0.586047</td>\n",
       "      <td>0.748834</td>\n",
       "    </tr>\n",
       "    <tr>\n",
       "      <th rowspan=\"2\" valign=\"top\">Blob</th>\n",
       "      <th>First Person</th>\n",
       "      <td>40.0</td>\n",
       "      <td>1.100000</td>\n",
       "      <td>1.168826</td>\n",
       "    </tr>\n",
       "    <tr>\n",
       "      <th>Hybrid</th>\n",
       "      <td>40.0</td>\n",
       "      <td>0.655000</td>\n",
       "      <td>0.799984</td>\n",
       "    </tr>\n",
       "  </tbody>\n",
       "</table>\n",
       "</div>"
      ],
      "text/plain": [
       "                        count      mean       std\n",
       "condition mode                                   \n",
       "Avatar    First Person   43.0  0.767442  0.786711\n",
       "          Hybrid         43.0  0.586047  0.748834\n",
       "Blob      First Person   40.0  1.100000  1.168826\n",
       "          Hybrid         40.0  0.655000  0.799984"
      ]
     },
     "execution_count": 10,
     "metadata": {},
     "output_type": "execute_result"
    }
   ],
   "source": [
    "summarize(ms, \"rating\")"
   ]
  },
  {
   "cell_type": "code",
   "execution_count": 11,
   "id": "1e9eb1c3",
   "metadata": {
    "scrolled": false
   },
   "outputs": [
    {
     "data": {
      "image/png": "[encoded data removed]",
      "text/plain": [
       "<Figure size 288x288 with 1 Axes>"
      ]
     },
     "metadata": {
      "needs_background": "light"
     },
     "output_type": "display_data"
    }
   ],
   "source": [
    "fig, ax = plt.subplots(figsize=(4,4))\n",
    "boxplot(ms, \"rating\", \"MS Average\", ax)"
   ]
  },
  {
   "cell_type": "code",
   "execution_count": 12,
   "id": "0069411c",
   "metadata": {},
   "outputs": [],
   "source": [
    "# if interaction is significant, create interaction plot\n",
    "if ms_anova[\"p-unc\"].tolist()[-1] < sig_level:\n",
    "    fig, ax = plt.subplots(figsize=(4,4))\n",
    "    interact_plot(ms, \"rating\", \"MS Total Score\", ax=ax)"
   ]
  },
  {
   "cell_type": "markdown",
   "id": "2bb9432f",
   "metadata": {},
   "source": [
    "## Effect of condition and mode on in-game MS ratings (per area)"
   ]
  },
  {
   "cell_type": "markdown",
   "id": "de6404ef",
   "metadata": {},
   "source": [
    "### Area 1"
   ]
  },
  {
   "cell_type": "code",
   "execution_count": 13,
   "id": "2f65463c",
   "metadata": {},
   "outputs": [
    {
     "data": {
      "text/html": [
       "<div>\n",
       "<style scoped>\n",
       "    .dataframe tbody tr th:only-of-type {\n",
       "        vertical-align: middle;\n",
       "    }\n",
       "\n",
       "    .dataframe tbody tr th {\n",
       "        vertical-align: top;\n",
       "    }\n",
       "\n",
       "    .dataframe thead th {\n",
       "        text-align: right;\n",
       "    }\n",
       "</style>\n",
       "<table border=\"1\" class=\"dataframe\">\n",
       "  <thead>\n",
       "    <tr style=\"text-align: right;\">\n",
       "      <th></th>\n",
       "      <th>Source</th>\n",
       "      <th>SS</th>\n",
       "      <th>DF1</th>\n",
       "      <th>DF2</th>\n",
       "      <th>MS</th>\n",
       "      <th>F</th>\n",
       "      <th>p-unc</th>\n",
       "      <th>np2</th>\n",
       "      <th>eps</th>\n",
       "    </tr>\n",
       "  </thead>\n",
       "  <tbody>\n",
       "    <tr>\n",
       "      <th>0</th>\n",
       "      <td>condition</td>\n",
       "      <td>0.958003</td>\n",
       "      <td>1</td>\n",
       "      <td>81</td>\n",
       "      <td>0.958003</td>\n",
       "      <td>0.507798</td>\n",
       "      <td>0.478141</td>\n",
       "      <td>0.006230</td>\n",
       "      <td>NaN</td>\n",
       "    </tr>\n",
       "    <tr>\n",
       "      <th>1</th>\n",
       "      <td>mode</td>\n",
       "      <td>6.560241</td>\n",
       "      <td>1</td>\n",
       "      <td>81</td>\n",
       "      <td>6.560241</td>\n",
       "      <td>8.666658</td>\n",
       "      <td>0.004228</td>\n",
       "      <td>0.096654</td>\n",
       "      <td>1.0</td>\n",
       "    </tr>\n",
       "    <tr>\n",
       "      <th>2</th>\n",
       "      <td>Interaction</td>\n",
       "      <td>0.626678</td>\n",
       "      <td>1</td>\n",
       "      <td>81</td>\n",
       "      <td>0.626678</td>\n",
       "      <td>0.827897</td>\n",
       "      <td>0.365581</td>\n",
       "      <td>0.010118</td>\n",
       "      <td>NaN</td>\n",
       "    </tr>\n",
       "  </tbody>\n",
       "</table>\n",
       "</div>"
      ],
      "text/plain": [
       "        Source        SS  DF1  DF2        MS         F     p-unc       np2  \\\n",
       "0    condition  0.958003    1   81  0.958003  0.507798  0.478141  0.006230   \n",
       "1         mode  6.560241    1   81  6.560241  8.666658  0.004228  0.096654   \n",
       "2  Interaction  0.626678    1   81  0.626678  0.827897  0.365581  0.010118   \n",
       "\n",
       "   eps  \n",
       "0  NaN  \n",
       "1  1.0  \n",
       "2  NaN  "
      ]
     },
     "execution_count": 13,
     "metadata": {},
     "output_type": "execute_result"
    }
   ],
   "source": [
    "area_one = pd.melt(df.reset_index(), id_vars=['ID', 'condition'], value_vars=['H_1_MS', 'FP_1_MS'])\n",
    "area_one = area_one.rename(columns={\"variable\" : 'mode', \"value\" : \"rating\"})\n",
    "area_one.replace({'mode': {'H_1_MS': 'Hybrid', 'FP_1_MS': 'First Person'},\n",
    "               'condition': {1: 'Blob', 0: 'Avatar'}}, inplace=True)\n",
    "\n",
    "area_one_anova = pg.mixed_anova(dv='rating', between='condition', within='mode', subject='ID', data=area_one)\n",
    "area_one_anova"
   ]
  },
  {
   "cell_type": "code",
   "execution_count": 14,
   "id": "92dbd3b2",
   "metadata": {},
   "outputs": [
    {
     "data": {
      "text/html": [
       "<div>\n",
       "<style scoped>\n",
       "    .dataframe tbody tr th:only-of-type {\n",
       "        vertical-align: middle;\n",
       "    }\n",
       "\n",
       "    .dataframe tbody tr th {\n",
       "        vertical-align: top;\n",
       "    }\n",
       "\n",
       "    .dataframe thead th {\n",
       "        text-align: right;\n",
       "    }\n",
       "</style>\n",
       "<table border=\"1\" class=\"dataframe\">\n",
       "  <thead>\n",
       "    <tr style=\"text-align: right;\">\n",
       "      <th></th>\n",
       "      <th>Source</th>\n",
       "      <th>SS</th>\n",
       "      <th>DF1</th>\n",
       "      <th>DF2</th>\n",
       "      <th>MS</th>\n",
       "      <th>F</th>\n",
       "      <th>p-unc</th>\n",
       "      <th>np2</th>\n",
       "      <th>eps</th>\n",
       "    </tr>\n",
       "  </thead>\n",
       "  <tbody>\n",
       "    <tr>\n",
       "      <th>0</th>\n",
       "      <td>condition</td>\n",
       "      <td>0.417852</td>\n",
       "      <td>1</td>\n",
       "      <td>80</td>\n",
       "      <td>0.417852</td>\n",
       "      <td>0.231001</td>\n",
       "      <td>0.632095</td>\n",
       "      <td>0.002879</td>\n",
       "      <td>NaN</td>\n",
       "    </tr>\n",
       "    <tr>\n",
       "      <th>1</th>\n",
       "      <td>mode</td>\n",
       "      <td>4.445122</td>\n",
       "      <td>1</td>\n",
       "      <td>80</td>\n",
       "      <td>4.445122</td>\n",
       "      <td>7.740581</td>\n",
       "      <td>0.006733</td>\n",
       "      <td>0.088221</td>\n",
       "      <td>1.0</td>\n",
       "    </tr>\n",
       "    <tr>\n",
       "      <th>2</th>\n",
       "      <td>Interaction</td>\n",
       "      <td>0.113912</td>\n",
       "      <td>1</td>\n",
       "      <td>80</td>\n",
       "      <td>0.113912</td>\n",
       "      <td>0.198362</td>\n",
       "      <td>0.657249</td>\n",
       "      <td>0.002473</td>\n",
       "      <td>NaN</td>\n",
       "    </tr>\n",
       "  </tbody>\n",
       "</table>\n",
       "</div>"
      ],
      "text/plain": [
       "        Source        SS  DF1  DF2        MS         F     p-unc       np2  \\\n",
       "0    condition  0.417852    1   80  0.417852  0.231001  0.632095  0.002879   \n",
       "1         mode  4.445122    1   80  4.445122  7.740581  0.006733  0.088221   \n",
       "2  Interaction  0.113912    1   80  0.113912  0.198362  0.657249  0.002473   \n",
       "\n",
       "   eps  \n",
       "0  NaN  \n",
       "1  1.0  \n",
       "2  NaN  "
      ]
     },
     "execution_count": 14,
     "metadata": {},
     "output_type": "execute_result"
    }
   ],
   "source": [
    "# exclude outlier 59 -- STILL SIGNIFICANT\n",
    "area_one_anova2 = pg.mixed_anova(dv='rating', between='condition', within='mode', subject='ID', data=area_one[area_one[\"ID\"]!=59])\n",
    "area_one_anova2"
   ]
  },
  {
   "cell_type": "code",
   "execution_count": 15,
   "id": "61c809b2",
   "metadata": {
    "scrolled": true
   },
   "outputs": [
    {
     "data": {
      "text/html": [
       "<div>\n",
       "<style scoped>\n",
       "    .dataframe tbody tr th:only-of-type {\n",
       "        vertical-align: middle;\n",
       "    }\n",
       "\n",
       "    .dataframe tbody tr th {\n",
       "        vertical-align: top;\n",
       "    }\n",
       "\n",
       "    .dataframe thead th {\n",
       "        text-align: right;\n",
       "    }\n",
       "</style>\n",
       "<table border=\"1\" class=\"dataframe\">\n",
       "  <thead>\n",
       "    <tr style=\"text-align: right;\">\n",
       "      <th></th>\n",
       "      <th></th>\n",
       "      <th>count</th>\n",
       "      <th>mean</th>\n",
       "      <th>std</th>\n",
       "    </tr>\n",
       "    <tr>\n",
       "      <th>condition</th>\n",
       "      <th>mode</th>\n",
       "      <th></th>\n",
       "      <th></th>\n",
       "      <th></th>\n",
       "    </tr>\n",
       "  </thead>\n",
       "  <tbody>\n",
       "    <tr>\n",
       "      <th rowspan=\"2\" valign=\"top\">Avatar</th>\n",
       "      <th>First Person</th>\n",
       "      <td>43.0</td>\n",
       "      <td>1.00000</td>\n",
       "      <td>1.133893</td>\n",
       "    </tr>\n",
       "    <tr>\n",
       "      <th>Hybrid</th>\n",
       "      <td>43.0</td>\n",
       "      <td>0.72093</td>\n",
       "      <td>0.934156</td>\n",
       "    </tr>\n",
       "    <tr>\n",
       "      <th rowspan=\"2\" valign=\"top\">Blob</th>\n",
       "      <th>First Person</th>\n",
       "      <td>40.0</td>\n",
       "      <td>1.27500</td>\n",
       "      <td>1.432006</td>\n",
       "    </tr>\n",
       "    <tr>\n",
       "      <th>Hybrid</th>\n",
       "      <td>40.0</td>\n",
       "      <td>0.75000</td>\n",
       "      <td>1.056118</td>\n",
       "    </tr>\n",
       "  </tbody>\n",
       "</table>\n",
       "</div>"
      ],
      "text/plain": [
       "                        count     mean       std\n",
       "condition mode                                  \n",
       "Avatar    First Person   43.0  1.00000  1.133893\n",
       "          Hybrid         43.0  0.72093  0.934156\n",
       "Blob      First Person   40.0  1.27500  1.432006\n",
       "          Hybrid         40.0  0.75000  1.056118"
      ]
     },
     "execution_count": 15,
     "metadata": {},
     "output_type": "execute_result"
    }
   ],
   "source": [
    "summarize(area_one, \"rating\")"
   ]
  },
  {
   "cell_type": "code",
   "execution_count": 16,
   "id": "eb7bacdd",
   "metadata": {},
   "outputs": [],
   "source": [
    "# if interaction is significant, create interaction plot\n",
    "if area_one_anova[\"p-unc\"].tolist()[-1] < sig_level:\n",
    "    fig, ax = plt.subplots(figsize=(4,4))\n",
    "    interact_plot(area_one, \"rating\", \"Interaction Condition x Mode (Area 1)\", ax=ax)"
   ]
  },
  {
   "cell_type": "markdown",
   "id": "0c384b0e",
   "metadata": {},
   "source": [
    "### Area 2"
   ]
  },
  {
   "cell_type": "code",
   "execution_count": 17,
   "id": "b9edd52d",
   "metadata": {
    "scrolled": true
   },
   "outputs": [
    {
     "data": {
      "text/html": [
       "<div>\n",
       "<style scoped>\n",
       "    .dataframe tbody tr th:only-of-type {\n",
       "        vertical-align: middle;\n",
       "    }\n",
       "\n",
       "    .dataframe tbody tr th {\n",
       "        vertical-align: top;\n",
       "    }\n",
       "\n",
       "    .dataframe thead th {\n",
       "        text-align: right;\n",
       "    }\n",
       "</style>\n",
       "<table border=\"1\" class=\"dataframe\">\n",
       "  <thead>\n",
       "    <tr style=\"text-align: right;\">\n",
       "      <th></th>\n",
       "      <th>Source</th>\n",
       "      <th>SS</th>\n",
       "      <th>DF1</th>\n",
       "      <th>DF2</th>\n",
       "      <th>MS</th>\n",
       "      <th>F</th>\n",
       "      <th>p-unc</th>\n",
       "      <th>np2</th>\n",
       "      <th>eps</th>\n",
       "    </tr>\n",
       "  </thead>\n",
       "  <tbody>\n",
       "    <tr>\n",
       "      <th>0</th>\n",
       "      <td>condition</td>\n",
       "      <td>2.372265</td>\n",
       "      <td>1</td>\n",
       "      <td>81</td>\n",
       "      <td>2.372265</td>\n",
       "      <td>1.615536</td>\n",
       "      <td>0.207353</td>\n",
       "      <td>0.019555</td>\n",
       "      <td>NaN</td>\n",
       "    </tr>\n",
       "    <tr>\n",
       "      <th>1</th>\n",
       "      <td>mode</td>\n",
       "      <td>4.072289</td>\n",
       "      <td>1</td>\n",
       "      <td>81</td>\n",
       "      <td>4.072289</td>\n",
       "      <td>4.129600</td>\n",
       "      <td>0.045417</td>\n",
       "      <td>0.048510</td>\n",
       "      <td>1.0</td>\n",
       "    </tr>\n",
       "    <tr>\n",
       "      <th>2</th>\n",
       "      <td>Interaction</td>\n",
       "      <td>5.051839</td>\n",
       "      <td>1</td>\n",
       "      <td>81</td>\n",
       "      <td>5.051839</td>\n",
       "      <td>5.122935</td>\n",
       "      <td>0.026287</td>\n",
       "      <td>0.059484</td>\n",
       "      <td>NaN</td>\n",
       "    </tr>\n",
       "  </tbody>\n",
       "</table>\n",
       "</div>"
      ],
      "text/plain": [
       "        Source        SS  DF1  DF2        MS         F     p-unc       np2  \\\n",
       "0    condition  2.372265    1   81  2.372265  1.615536  0.207353  0.019555   \n",
       "1         mode  4.072289    1   81  4.072289  4.129600  0.045417  0.048510   \n",
       "2  Interaction  5.051839    1   81  5.051839  5.122935  0.026287  0.059484   \n",
       "\n",
       "   eps  \n",
       "0  NaN  \n",
       "1  1.0  \n",
       "2  NaN  "
      ]
     },
     "execution_count": 17,
     "metadata": {},
     "output_type": "execute_result"
    }
   ],
   "source": [
    "area_two = pd.melt(df.reset_index(), id_vars=['ID', 'condition'], value_vars=['H_2_MS', 'FP_2_MS'])\n",
    "area_two = area_two.rename(columns={\"variable\" : 'mode', \"value\" : \"rating\"})\n",
    "area_two.replace({'mode': {'H_2_MS': 'Hybrid', 'FP_2_MS': 'First Person'},\n",
    "               'condition': {1: 'Blob', 0: 'Avatar'}}, inplace=True)\n",
    "\n",
    "area_two_anova = pg.mixed_anova(dv='rating', between='condition', within='mode', subject='ID', data=area_two)\n",
    "area_two_anova"
   ]
  },
  {
   "cell_type": "code",
   "execution_count": 18,
   "id": "0c3c043b",
   "metadata": {
    "scrolled": true
   },
   "outputs": [
    {
     "data": {
      "text/html": [
       "<div>\n",
       "<style scoped>\n",
       "    .dataframe tbody tr th:only-of-type {\n",
       "        vertical-align: middle;\n",
       "    }\n",
       "\n",
       "    .dataframe tbody tr th {\n",
       "        vertical-align: top;\n",
       "    }\n",
       "\n",
       "    .dataframe thead th {\n",
       "        text-align: right;\n",
       "    }\n",
       "</style>\n",
       "<table border=\"1\" class=\"dataframe\">\n",
       "  <thead>\n",
       "    <tr style=\"text-align: right;\">\n",
       "      <th></th>\n",
       "      <th>Source</th>\n",
       "      <th>SS</th>\n",
       "      <th>DF1</th>\n",
       "      <th>DF2</th>\n",
       "      <th>MS</th>\n",
       "      <th>F</th>\n",
       "      <th>p-unc</th>\n",
       "      <th>np2</th>\n",
       "      <th>eps</th>\n",
       "    </tr>\n",
       "  </thead>\n",
       "  <tbody>\n",
       "    <tr>\n",
       "      <th>0</th>\n",
       "      <td>condition</td>\n",
       "      <td>0.473412</td>\n",
       "      <td>1</td>\n",
       "      <td>79</td>\n",
       "      <td>0.473412</td>\n",
       "      <td>0.403719</td>\n",
       "      <td>0.527011</td>\n",
       "      <td>0.005084</td>\n",
       "      <td>NaN</td>\n",
       "    </tr>\n",
       "    <tr>\n",
       "      <th>1</th>\n",
       "      <td>mode</td>\n",
       "      <td>1.783951</td>\n",
       "      <td>1</td>\n",
       "      <td>79</td>\n",
       "      <td>1.783951</td>\n",
       "      <td>2.264871</td>\n",
       "      <td>0.136325</td>\n",
       "      <td>0.027870</td>\n",
       "      <td>1.0</td>\n",
       "    </tr>\n",
       "    <tr>\n",
       "      <th>2</th>\n",
       "      <td>Interaction</td>\n",
       "      <td>2.490835</td>\n",
       "      <td>1</td>\n",
       "      <td>79</td>\n",
       "      <td>2.490835</td>\n",
       "      <td>3.162319</td>\n",
       "      <td>0.079204</td>\n",
       "      <td>0.038489</td>\n",
       "      <td>NaN</td>\n",
       "    </tr>\n",
       "  </tbody>\n",
       "</table>\n",
       "</div>"
      ],
      "text/plain": [
       "        Source        SS  DF1  DF2        MS         F     p-unc       np2  \\\n",
       "0    condition  0.473412    1   79  0.473412  0.403719  0.527011  0.005084   \n",
       "1         mode  1.783951    1   79  1.783951  2.264871  0.136325  0.027870   \n",
       "2  Interaction  2.490835    1   79  2.490835  3.162319  0.079204  0.038489   \n",
       "\n",
       "   eps  \n",
       "0  NaN  \n",
       "1  1.0  \n",
       "2  NaN  "
      ]
     },
     "execution_count": 18,
     "metadata": {},
     "output_type": "execute_result"
    }
   ],
   "source": [
    "# remove outliers 59 and 63 --> NOT SIGNIFICANT ANYMORE\n",
    "pg.mixed_anova(dv='rating', between='condition', within='mode', subject='ID', data=area_two[~area_two[\"ID\"].isin([59,63])])"
   ]
  },
  {
   "cell_type": "code",
   "execution_count": 19,
   "id": "e83b0471",
   "metadata": {
    "scrolled": false
   },
   "outputs": [
    {
     "data": {
      "text/html": [
       "<div>\n",
       "<style scoped>\n",
       "    .dataframe tbody tr th:only-of-type {\n",
       "        vertical-align: middle;\n",
       "    }\n",
       "\n",
       "    .dataframe tbody tr th {\n",
       "        vertical-align: top;\n",
       "    }\n",
       "\n",
       "    .dataframe thead th {\n",
       "        text-align: right;\n",
       "    }\n",
       "</style>\n",
       "<table border=\"1\" class=\"dataframe\">\n",
       "  <thead>\n",
       "    <tr style=\"text-align: right;\">\n",
       "      <th></th>\n",
       "      <th></th>\n",
       "      <th>count</th>\n",
       "      <th>mean</th>\n",
       "      <th>std</th>\n",
       "    </tr>\n",
       "    <tr>\n",
       "      <th>condition</th>\n",
       "      <th>mode</th>\n",
       "      <th></th>\n",
       "      <th></th>\n",
       "      <th></th>\n",
       "    </tr>\n",
       "  </thead>\n",
       "  <tbody>\n",
       "    <tr>\n",
       "      <th rowspan=\"2\" valign=\"top\">Avatar</th>\n",
       "      <th>First Person</th>\n",
       "      <td>43.0</td>\n",
       "      <td>0.511628</td>\n",
       "      <td>0.855573</td>\n",
       "    </tr>\n",
       "    <tr>\n",
       "      <th>Hybrid</th>\n",
       "      <td>43.0</td>\n",
       "      <td>0.534884</td>\n",
       "      <td>1.008271</td>\n",
       "    </tr>\n",
       "    <tr>\n",
       "      <th rowspan=\"2\" valign=\"top\">Blob</th>\n",
       "      <th>First Person</th>\n",
       "      <td>40.0</td>\n",
       "      <td>1.100000</td>\n",
       "      <td>1.629850</td>\n",
       "    </tr>\n",
       "    <tr>\n",
       "      <th>Hybrid</th>\n",
       "      <td>40.0</td>\n",
       "      <td>0.425000</td>\n",
       "      <td>0.747217</td>\n",
       "    </tr>\n",
       "  </tbody>\n",
       "</table>\n",
       "</div>"
      ],
      "text/plain": [
       "                        count      mean       std\n",
       "condition mode                                   \n",
       "Avatar    First Person   43.0  0.511628  0.855573\n",
       "          Hybrid         43.0  0.534884  1.008271\n",
       "Blob      First Person   40.0  1.100000  1.629850\n",
       "          Hybrid         40.0  0.425000  0.747217"
      ]
     },
     "execution_count": 19,
     "metadata": {},
     "output_type": "execute_result"
    }
   ],
   "source": [
    "summarize(area_two, \"rating\")"
   ]
  },
  {
   "cell_type": "code",
   "execution_count": 20,
   "id": "262f15c1",
   "metadata": {},
   "outputs": [
    {
     "data": {
      "image/png": "[encoded data removed]",
      "text/plain": [
       "<Figure size 288x288 with 1 Axes>"
      ]
     },
     "metadata": {
      "needs_background": "light"
     },
     "output_type": "display_data"
    }
   ],
   "source": [
    "# if interaction is significant, create interaction plot\n",
    "if area_two_anova[\"p-unc\"].tolist()[-1] < sig_level:\n",
    "    fig, ax = plt.subplots(figsize=(4,4))\n",
    "    interact_plot(area_two, \"rating\", \"Interaction Condition x Mode \\n(MS rating Area 2)\", ax=ax)"
   ]
  },
  {
   "cell_type": "markdown",
   "id": "c97bd9b8",
   "metadata": {},
   "source": [
    "### Area 3"
   ]
  },
  {
   "cell_type": "code",
   "execution_count": 21,
   "id": "9efecd62",
   "metadata": {
    "scrolled": true
   },
   "outputs": [
    {
     "data": {
      "text/html": [
       "<div>\n",
       "<style scoped>\n",
       "    .dataframe tbody tr th:only-of-type {\n",
       "        vertical-align: middle;\n",
       "    }\n",
       "\n",
       "    .dataframe tbody tr th {\n",
       "        vertical-align: top;\n",
       "    }\n",
       "\n",
       "    .dataframe thead th {\n",
       "        text-align: right;\n",
       "    }\n",
       "</style>\n",
       "<table border=\"1\" class=\"dataframe\">\n",
       "  <thead>\n",
       "    <tr style=\"text-align: right;\">\n",
       "      <th></th>\n",
       "      <th>Source</th>\n",
       "      <th>SS</th>\n",
       "      <th>DF1</th>\n",
       "      <th>DF2</th>\n",
       "      <th>MS</th>\n",
       "      <th>F</th>\n",
       "      <th>p-unc</th>\n",
       "      <th>np2</th>\n",
       "      <th>eps</th>\n",
       "    </tr>\n",
       "  </thead>\n",
       "  <tbody>\n",
       "    <tr>\n",
       "      <th>0</th>\n",
       "      <td>condition</td>\n",
       "      <td>0.535448</td>\n",
       "      <td>1</td>\n",
       "      <td>81</td>\n",
       "      <td>0.535448</td>\n",
       "      <td>0.316758</td>\n",
       "      <td>0.575117</td>\n",
       "      <td>0.003895</td>\n",
       "      <td>NaN</td>\n",
       "    </tr>\n",
       "    <tr>\n",
       "      <th>1</th>\n",
       "      <td>mode</td>\n",
       "      <td>4.072289</td>\n",
       "      <td>1</td>\n",
       "      <td>81</td>\n",
       "      <td>4.072289</td>\n",
       "      <td>6.232815</td>\n",
       "      <td>0.014568</td>\n",
       "      <td>0.071450</td>\n",
       "      <td>1.0</td>\n",
       "    </tr>\n",
       "    <tr>\n",
       "      <th>2</th>\n",
       "      <td>Interaction</td>\n",
       "      <td>0.005327</td>\n",
       "      <td>1</td>\n",
       "      <td>81</td>\n",
       "      <td>0.005327</td>\n",
       "      <td>0.008153</td>\n",
       "      <td>0.928275</td>\n",
       "      <td>0.000101</td>\n",
       "      <td>NaN</td>\n",
       "    </tr>\n",
       "  </tbody>\n",
       "</table>\n",
       "</div>"
      ],
      "text/plain": [
       "        Source        SS  DF1  DF2        MS         F     p-unc       np2  \\\n",
       "0    condition  0.535448    1   81  0.535448  0.316758  0.575117  0.003895   \n",
       "1         mode  4.072289    1   81  4.072289  6.232815  0.014568  0.071450   \n",
       "2  Interaction  0.005327    1   81  0.005327  0.008153  0.928275  0.000101   \n",
       "\n",
       "   eps  \n",
       "0  NaN  \n",
       "1  1.0  \n",
       "2  NaN  "
      ]
     },
     "execution_count": 21,
     "metadata": {},
     "output_type": "execute_result"
    }
   ],
   "source": [
    "area_three = pd.melt(df.reset_index(), id_vars=['ID', 'condition'], value_vars=['H_3_MS', 'FP_3_MS'])\n",
    "area_three = area_three.rename(columns={\"variable\" : 'mode', \"value\" : \"rating\"})\n",
    "area_three.replace({'mode': {'H_3_MS': 'Hybrid', 'FP_3_MS': 'First Person'},\n",
    "               'condition': {1: 'Blob', 0: 'Avatar'}}, inplace=True)\n",
    "\n",
    "area_three_anova = pg.mixed_anova(dv='rating', between='condition', within='mode', subject='ID', data=area_three)\n",
    "area_three_anova"
   ]
  },
  {
   "cell_type": "code",
   "execution_count": 22,
   "id": "2c72b9f1",
   "metadata": {
    "scrolled": true
   },
   "outputs": [
    {
     "data": {
      "text/html": [
       "<div>\n",
       "<style scoped>\n",
       "    .dataframe tbody tr th:only-of-type {\n",
       "        vertical-align: middle;\n",
       "    }\n",
       "\n",
       "    .dataframe tbody tr th {\n",
       "        vertical-align: top;\n",
       "    }\n",
       "\n",
       "    .dataframe thead th {\n",
       "        text-align: right;\n",
       "    }\n",
       "</style>\n",
       "<table border=\"1\" class=\"dataframe\">\n",
       "  <thead>\n",
       "    <tr style=\"text-align: right;\">\n",
       "      <th></th>\n",
       "      <th></th>\n",
       "      <th>count</th>\n",
       "      <th>mean</th>\n",
       "      <th>std</th>\n",
       "    </tr>\n",
       "    <tr>\n",
       "      <th>condition</th>\n",
       "      <th>mode</th>\n",
       "      <th></th>\n",
       "      <th></th>\n",
       "      <th></th>\n",
       "    </tr>\n",
       "  </thead>\n",
       "  <tbody>\n",
       "    <tr>\n",
       "      <th rowspan=\"2\" valign=\"top\">Avatar</th>\n",
       "      <th>First Person</th>\n",
       "      <td>43.0</td>\n",
       "      <td>1.000000</td>\n",
       "      <td>1.214986</td>\n",
       "    </tr>\n",
       "    <tr>\n",
       "      <th>Hybrid</th>\n",
       "      <td>43.0</td>\n",
       "      <td>0.697674</td>\n",
       "      <td>0.939475</td>\n",
       "    </tr>\n",
       "    <tr>\n",
       "      <th rowspan=\"2\" valign=\"top\">Blob</th>\n",
       "      <th>First Person</th>\n",
       "      <td>40.0</td>\n",
       "      <td>1.125000</td>\n",
       "      <td>1.113726</td>\n",
       "    </tr>\n",
       "    <tr>\n",
       "      <th>Hybrid</th>\n",
       "      <td>40.0</td>\n",
       "      <td>0.800000</td>\n",
       "      <td>1.042679</td>\n",
       "    </tr>\n",
       "  </tbody>\n",
       "</table>\n",
       "</div>"
      ],
      "text/plain": [
       "                        count      mean       std\n",
       "condition mode                                   \n",
       "Avatar    First Person   43.0  1.000000  1.214986\n",
       "          Hybrid         43.0  0.697674  0.939475\n",
       "Blob      First Person   40.0  1.125000  1.113726\n",
       "          Hybrid         40.0  0.800000  1.042679"
      ]
     },
     "execution_count": 22,
     "metadata": {},
     "output_type": "execute_result"
    }
   ],
   "source": [
    "summarize(area_three, \"rating\")"
   ]
  },
  {
   "cell_type": "code",
   "execution_count": 23,
   "id": "5ee23c0a",
   "metadata": {},
   "outputs": [],
   "source": [
    "# if interaction is significant, create interaction plot\n",
    "if area_three_anova[\"p-unc\"].tolist()[-1] < sig_level:\n",
    "    fig, ax = plt.subplots(figsize=(4,4))\n",
    "    interact_plot(area_three, \"rating\", \"Interaction Condition x Mode (Area 3)\", ax=ax)"
   ]
  },
  {
   "cell_type": "markdown",
   "id": "eb3baaad",
   "metadata": {},
   "source": [
    "### Area 4"
   ]
  },
  {
   "cell_type": "code",
   "execution_count": 24,
   "id": "8700951f",
   "metadata": {
    "scrolled": true
   },
   "outputs": [
    {
     "data": {
      "text/html": [
       "<div>\n",
       "<style scoped>\n",
       "    .dataframe tbody tr th:only-of-type {\n",
       "        vertical-align: middle;\n",
       "    }\n",
       "\n",
       "    .dataframe tbody tr th {\n",
       "        vertical-align: top;\n",
       "    }\n",
       "\n",
       "    .dataframe thead th {\n",
       "        text-align: right;\n",
       "    }\n",
       "</style>\n",
       "<table border=\"1\" class=\"dataframe\">\n",
       "  <thead>\n",
       "    <tr style=\"text-align: right;\">\n",
       "      <th></th>\n",
       "      <th>Source</th>\n",
       "      <th>SS</th>\n",
       "      <th>DF1</th>\n",
       "      <th>DF2</th>\n",
       "      <th>MS</th>\n",
       "      <th>F</th>\n",
       "      <th>p-unc</th>\n",
       "      <th>np2</th>\n",
       "      <th>eps</th>\n",
       "    </tr>\n",
       "  </thead>\n",
       "  <tbody>\n",
       "    <tr>\n",
       "      <th>0</th>\n",
       "      <td>condition</td>\n",
       "      <td>6.757218</td>\n",
       "      <td>1</td>\n",
       "      <td>81</td>\n",
       "      <td>6.757218</td>\n",
       "      <td>2.414094</td>\n",
       "      <td>0.124146</td>\n",
       "      <td>0.028941</td>\n",
       "      <td>NaN</td>\n",
       "    </tr>\n",
       "    <tr>\n",
       "      <th>1</th>\n",
       "      <td>mode</td>\n",
       "      <td>6.560241</td>\n",
       "      <td>1</td>\n",
       "      <td>81</td>\n",
       "      <td>6.560241</td>\n",
       "      <td>6.817513</td>\n",
       "      <td>0.010753</td>\n",
       "      <td>0.077633</td>\n",
       "      <td>1.0</td>\n",
       "    </tr>\n",
       "    <tr>\n",
       "      <th>2</th>\n",
       "      <td>Interaction</td>\n",
       "      <td>1.996445</td>\n",
       "      <td>1</td>\n",
       "      <td>81</td>\n",
       "      <td>1.996445</td>\n",
       "      <td>2.074739</td>\n",
       "      <td>0.153610</td>\n",
       "      <td>0.024974</td>\n",
       "      <td>NaN</td>\n",
       "    </tr>\n",
       "  </tbody>\n",
       "</table>\n",
       "</div>"
      ],
      "text/plain": [
       "        Source        SS  DF1  DF2        MS         F     p-unc       np2  \\\n",
       "0    condition  6.757218    1   81  6.757218  2.414094  0.124146  0.028941   \n",
       "1         mode  6.560241    1   81  6.560241  6.817513  0.010753  0.077633   \n",
       "2  Interaction  1.996445    1   81  1.996445  2.074739  0.153610  0.024974   \n",
       "\n",
       "   eps  \n",
       "0  NaN  \n",
       "1  1.0  \n",
       "2  NaN  "
      ]
     },
     "execution_count": 24,
     "metadata": {},
     "output_type": "execute_result"
    }
   ],
   "source": [
    "area_four = pd.melt(df.reset_index(), id_vars=['ID', 'condition'], value_vars=['H_4_MS', 'FP_4_MS'])\n",
    "area_four = area_four.rename(columns={\"variable\" : 'mode', \"value\" : \"rating\"})\n",
    "area_four.replace({'mode': {'H_4_MS': 'Hybrid', 'FP_4_MS': 'First Person'},\n",
    "               'condition': {1: 'Blob', 0: 'Avatar'}}, inplace=True)\n",
    "\n",
    "area_four_anova = pg.mixed_anova(dv='rating', between='condition', within='mode', subject='ID', data=area_four)\n",
    "area_four_anova"
   ]
  },
  {
   "cell_type": "code",
   "execution_count": 25,
   "id": "bf08017f",
   "metadata": {},
   "outputs": [
    {
     "data": {
      "text/html": [
       "<div>\n",
       "<style scoped>\n",
       "    .dataframe tbody tr th:only-of-type {\n",
       "        vertical-align: middle;\n",
       "    }\n",
       "\n",
       "    .dataframe tbody tr th {\n",
       "        vertical-align: top;\n",
       "    }\n",
       "\n",
       "    .dataframe thead th {\n",
       "        text-align: right;\n",
       "    }\n",
       "</style>\n",
       "<table border=\"1\" class=\"dataframe\">\n",
       "  <thead>\n",
       "    <tr style=\"text-align: right;\">\n",
       "      <th></th>\n",
       "      <th>Source</th>\n",
       "      <th>SS</th>\n",
       "      <th>DF1</th>\n",
       "      <th>DF2</th>\n",
       "      <th>MS</th>\n",
       "      <th>F</th>\n",
       "      <th>p-unc</th>\n",
       "      <th>np2</th>\n",
       "      <th>eps</th>\n",
       "    </tr>\n",
       "  </thead>\n",
       "  <tbody>\n",
       "    <tr>\n",
       "      <th>0</th>\n",
       "      <td>condition</td>\n",
       "      <td>1.751972</td>\n",
       "      <td>1</td>\n",
       "      <td>79</td>\n",
       "      <td>1.751972</td>\n",
       "      <td>0.820462</td>\n",
       "      <td>0.367799</td>\n",
       "      <td>0.010279</td>\n",
       "      <td>NaN</td>\n",
       "    </tr>\n",
       "    <tr>\n",
       "      <th>1</th>\n",
       "      <td>mode</td>\n",
       "      <td>3.858025</td>\n",
       "      <td>1</td>\n",
       "      <td>79</td>\n",
       "      <td>3.858025</td>\n",
       "      <td>4.919585</td>\n",
       "      <td>0.029426</td>\n",
       "      <td>0.058623</td>\n",
       "      <td>1.0</td>\n",
       "    </tr>\n",
       "    <tr>\n",
       "      <th>2</th>\n",
       "      <td>Interaction</td>\n",
       "      <td>0.688793</td>\n",
       "      <td>1</td>\n",
       "      <td>79</td>\n",
       "      <td>0.688793</td>\n",
       "      <td>0.878319</td>\n",
       "      <td>0.351519</td>\n",
       "      <td>0.010996</td>\n",
       "      <td>NaN</td>\n",
       "    </tr>\n",
       "  </tbody>\n",
       "</table>\n",
       "</div>"
      ],
      "text/plain": [
       "        Source        SS  DF1  DF2        MS         F     p-unc       np2  \\\n",
       "0    condition  1.751972    1   79  1.751972  0.820462  0.367799  0.010279   \n",
       "1         mode  3.858025    1   79  3.858025  4.919585  0.029426  0.058623   \n",
       "2  Interaction  0.688793    1   79  0.688793  0.878319  0.351519  0.010996   \n",
       "\n",
       "   eps  \n",
       "0  NaN  \n",
       "1  1.0  \n",
       "2  NaN  "
      ]
     },
     "execution_count": 25,
     "metadata": {},
     "output_type": "execute_result"
    }
   ],
   "source": [
    "# remove outliers 11 and 59\n",
    "pg.mixed_anova(dv='rating', between='condition', within='mode', subject='ID', data=area_four[~area_four[\"ID\"].isin([11,59])])"
   ]
  },
  {
   "cell_type": "code",
   "execution_count": 26,
   "id": "8ad7caa6",
   "metadata": {
    "scrolled": true
   },
   "outputs": [
    {
     "data": {
      "text/html": [
       "<div>\n",
       "<style scoped>\n",
       "    .dataframe tbody tr th:only-of-type {\n",
       "        vertical-align: middle;\n",
       "    }\n",
       "\n",
       "    .dataframe tbody tr th {\n",
       "        vertical-align: top;\n",
       "    }\n",
       "\n",
       "    .dataframe thead th {\n",
       "        text-align: right;\n",
       "    }\n",
       "</style>\n",
       "<table border=\"1\" class=\"dataframe\">\n",
       "  <thead>\n",
       "    <tr style=\"text-align: right;\">\n",
       "      <th></th>\n",
       "      <th></th>\n",
       "      <th>count</th>\n",
       "      <th>mean</th>\n",
       "      <th>std</th>\n",
       "    </tr>\n",
       "    <tr>\n",
       "      <th>condition</th>\n",
       "      <th>mode</th>\n",
       "      <th></th>\n",
       "      <th></th>\n",
       "      <th></th>\n",
       "    </tr>\n",
       "  </thead>\n",
       "  <tbody>\n",
       "    <tr>\n",
       "      <th rowspan=\"2\" valign=\"top\">Avatar</th>\n",
       "      <th>First Person</th>\n",
       "      <td>43.0</td>\n",
       "      <td>0.976744</td>\n",
       "      <td>1.204918</td>\n",
       "    </tr>\n",
       "    <tr>\n",
       "      <th>Hybrid</th>\n",
       "      <td>43.0</td>\n",
       "      <td>0.790698</td>\n",
       "      <td>1.081404</td>\n",
       "    </tr>\n",
       "    <tr>\n",
       "      <th rowspan=\"2\" valign=\"top\">Blob</th>\n",
       "      <th>First Person</th>\n",
       "      <td>40.0</td>\n",
       "      <td>1.600000</td>\n",
       "      <td>1.891953</td>\n",
       "    </tr>\n",
       "    <tr>\n",
       "      <th>Hybrid</th>\n",
       "      <td>40.0</td>\n",
       "      <td>0.975000</td>\n",
       "      <td>1.187272</td>\n",
       "    </tr>\n",
       "  </tbody>\n",
       "</table>\n",
       "</div>"
      ],
      "text/plain": [
       "                        count      mean       std\n",
       "condition mode                                   \n",
       "Avatar    First Person   43.0  0.976744  1.204918\n",
       "          Hybrid         43.0  0.790698  1.081404\n",
       "Blob      First Person   40.0  1.600000  1.891953\n",
       "          Hybrid         40.0  0.975000  1.187272"
      ]
     },
     "execution_count": 26,
     "metadata": {},
     "output_type": "execute_result"
    }
   ],
   "source": [
    "summarize(area_four, \"rating\")"
   ]
  },
  {
   "cell_type": "code",
   "execution_count": 27,
   "id": "795a5f53",
   "metadata": {},
   "outputs": [],
   "source": [
    "# if interaction is significant, create interaction plot\n",
    "if area_four_anova[\"p-unc\"].tolist()[-1] < sig_level:\n",
    "    fig, ax = plt.subplots(figsize=(4,4))\n",
    "    interact_plot(area_four, \"rating\", \"Interaction Condition x Mode (Area 4)\", ax=ax)"
   ]
  },
  {
   "cell_type": "markdown",
   "id": "312ef6f9",
   "metadata": {},
   "source": [
    "### Plot ratings for each area"
   ]
  },
  {
   "cell_type": "code",
   "execution_count": 28,
   "id": "021d0a51",
   "metadata": {},
   "outputs": [
    {
     "data": {
      "image/png": "[encoded data removed]",
      "text/plain": [
       "<Figure size 864x576 with 4 Axes>"
      ]
     },
     "metadata": {
      "needs_background": "light"
     },
     "output_type": "display_data"
    }
   ],
   "source": [
    "fig, ax = plt.subplots(nrows=2, ncols=2, figsize=(12,8), sharey=True)\n",
    "plt.subplots_adjust(hspace=0.4)\n",
    "fig.suptitle('Motion Sickness Ratings', fontsize=20)\n",
    "\n",
    "ax = ax.ravel()\n",
    "\n",
    "boxplot(area_one, \"rating\", \"Area 1\", ax[0], legend=False)\n",
    "boxplot(area_two, \"rating\", \"Area 2\", ax[1])\n",
    "boxplot(area_three, \"rating\", \"Area 3\", ax[2], legend=False)\n",
    "boxplot(area_four, \"rating\", \"Area 4\", ax[3], legend=False)\n",
    "\n",
    "ax[0].set_xlabel(\"\")\n",
    "ax[1].set_xlabel(\"\")\n",
    "ax[1].set_ylabel(\"\")\n",
    "ax[3].set_ylabel(\"\")\n",
    "\n",
    "plt.draw()"
   ]
  },
  {
   "cell_type": "code",
   "execution_count": 29,
   "id": "e8ae57f2",
   "metadata": {},
   "outputs": [],
   "source": [
    "temp = pd.DataFrame({\"Area 1\": area_one[\"rating\"].values, \"Area 2\": area_two[\"rating\"].values, \n",
    "                     \"Area 3\": area_three[\"rating\"].values, \"Area 4\": area_four[\"rating\"].values})"
   ]
  },
  {
   "cell_type": "code",
   "execution_count": 30,
   "id": "70daa6ba",
   "metadata": {},
   "outputs": [
    {
     "data": {
      "image/png": "[encoded data removed]",
      "text/plain": [
       "<Figure size 432x288 with 1 Axes>"
      ]
     },
     "metadata": {
      "needs_background": "light"
     },
     "output_type": "display_data"
    }
   ],
   "source": [
    "fig, ax = plt.subplots(nrows=1, ncols=1, figsize=(6,4))\n",
    "fig.suptitle('Motion Sickness Ratings', fontsize=16)\n",
    "\n",
    "\n",
    "sns.boxplot(data=temp, ax=ax,\n",
    "            showmeans=True, meanprops={\"marker\":\"d\",\"markerfacecolor\":\"white\", \"markeredgecolor\":\"black\"},\n",
    "            palette=\"Set1\")\n",
    "ax.xaxis.label.set_size(16)\n",
    "ax.xaxis.labelpad = 10\n",
    "ax.yaxis.label.set_size(16)\n",
    "ax.yaxis.labelpad = 10\n",
    "ax.tick_params(axis='both', which='major', labelsize=14)\n",
    "sns.despine()"
   ]
  },
  {
   "cell_type": "markdown",
   "id": "3dfc32ec",
   "metadata": {},
   "source": [
    "## Simulator Sickness\n",
    "\n",
    "Subscales:\n",
    "- Oculomotor (O)\n",
    "- Disorientation (D)\n",
    "- Nausea (N)\n",
    "\n",
    "## Effect of condition and mode on SSQ (total score)"
   ]
  },
  {
   "cell_type": "code",
   "execution_count": 31,
   "id": "76d28b1f",
   "metadata": {
    "scrolled": true
   },
   "outputs": [
    {
     "data": {
      "text/html": [
       "<div>\n",
       "<style scoped>\n",
       "    .dataframe tbody tr th:only-of-type {\n",
       "        vertical-align: middle;\n",
       "    }\n",
       "\n",
       "    .dataframe tbody tr th {\n",
       "        vertical-align: top;\n",
       "    }\n",
       "\n",
       "    .dataframe thead th {\n",
       "        text-align: right;\n",
       "    }\n",
       "</style>\n",
       "<table border=\"1\" class=\"dataframe\">\n",
       "  <thead>\n",
       "    <tr style=\"text-align: right;\">\n",
       "      <th></th>\n",
       "      <th>Source</th>\n",
       "      <th>SS</th>\n",
       "      <th>DF1</th>\n",
       "      <th>DF2</th>\n",
       "      <th>MS</th>\n",
       "      <th>F</th>\n",
       "      <th>p-unc</th>\n",
       "      <th>np2</th>\n",
       "      <th>eps</th>\n",
       "    </tr>\n",
       "  </thead>\n",
       "  <tbody>\n",
       "    <tr>\n",
       "      <th>0</th>\n",
       "      <td>condition</td>\n",
       "      <td>285971.177296</td>\n",
       "      <td>1</td>\n",
       "      <td>81</td>\n",
       "      <td>285971.177296</td>\n",
       "      <td>2.693139</td>\n",
       "      <td>0.104659</td>\n",
       "      <td>0.032179</td>\n",
       "      <td>NaN</td>\n",
       "    </tr>\n",
       "    <tr>\n",
       "      <th>1</th>\n",
       "      <td>mode</td>\n",
       "      <td>360262.097586</td>\n",
       "      <td>1</td>\n",
       "      <td>81</td>\n",
       "      <td>360262.097586</td>\n",
       "      <td>17.240210</td>\n",
       "      <td>0.000081</td>\n",
       "      <td>0.175490</td>\n",
       "      <td>1.0</td>\n",
       "    </tr>\n",
       "    <tr>\n",
       "      <th>2</th>\n",
       "      <td>Interaction</td>\n",
       "      <td>69847.202687</td>\n",
       "      <td>1</td>\n",
       "      <td>81</td>\n",
       "      <td>69847.202687</td>\n",
       "      <td>3.342512</td>\n",
       "      <td>0.071193</td>\n",
       "      <td>0.039630</td>\n",
       "      <td>NaN</td>\n",
       "    </tr>\n",
       "  </tbody>\n",
       "</table>\n",
       "</div>"
      ],
      "text/plain": [
       "        Source             SS  DF1  DF2             MS          F     p-unc  \\\n",
       "0    condition  285971.177296    1   81  285971.177296   2.693139  0.104659   \n",
       "1         mode  360262.097586    1   81  360262.097586  17.240210  0.000081   \n",
       "2  Interaction   69847.202687    1   81   69847.202687   3.342512  0.071193   \n",
       "\n",
       "        np2  eps  \n",
       "0  0.032179  NaN  \n",
       "1  0.175490  1.0  \n",
       "2  0.039630  NaN  "
      ]
     },
     "execution_count": 31,
     "metadata": {},
     "output_type": "execute_result"
    }
   ],
   "source": [
    "ssq = pd.melt(df.reset_index(), id_vars=['ID', 'condition'], value_vars=['SSQ_TS_H', 'SSQ_TS_FP'])\n",
    "ssq = ssq.rename(columns={\"variable\" : 'mode', \"value\" : \"score\"})\n",
    "ssq.replace({'mode': {'SSQ_TS_H': 'Hybrid', 'SSQ_TS_FP': 'First Person'},\n",
    "               'condition': {1: 'Blob', 0: 'Avatar'}}, inplace=True)\n",
    "\n",
    "ssq_anova = pg.mixed_anova(dv='score', between='condition', within='mode', subject='ID', data=ssq)\n",
    "ssq_anova"
   ]
  },
  {
   "cell_type": "code",
   "execution_count": 32,
   "id": "e8b93edd",
   "metadata": {},
   "outputs": [
    {
     "data": {
      "text/html": [
       "<div>\n",
       "<style scoped>\n",
       "    .dataframe tbody tr th:only-of-type {\n",
       "        vertical-align: middle;\n",
       "    }\n",
       "\n",
       "    .dataframe tbody tr th {\n",
       "        vertical-align: top;\n",
       "    }\n",
       "\n",
       "    .dataframe thead th {\n",
       "        text-align: right;\n",
       "    }\n",
       "</style>\n",
       "<table border=\"1\" class=\"dataframe\">\n",
       "  <thead>\n",
       "    <tr style=\"text-align: right;\">\n",
       "      <th></th>\n",
       "      <th>Source</th>\n",
       "      <th>SS</th>\n",
       "      <th>DF1</th>\n",
       "      <th>DF2</th>\n",
       "      <th>MS</th>\n",
       "      <th>F</th>\n",
       "      <th>p-unc</th>\n",
       "      <th>np2</th>\n",
       "      <th>eps</th>\n",
       "    </tr>\n",
       "  </thead>\n",
       "  <tbody>\n",
       "    <tr>\n",
       "      <th>0</th>\n",
       "      <td>condition</td>\n",
       "      <td>141048.782361</td>\n",
       "      <td>1</td>\n",
       "      <td>79</td>\n",
       "      <td>141048.782361</td>\n",
       "      <td>1.459193</td>\n",
       "      <td>0.230662</td>\n",
       "      <td>0.018136</td>\n",
       "      <td>NaN</td>\n",
       "    </tr>\n",
       "    <tr>\n",
       "      <th>1</th>\n",
       "      <td>mode</td>\n",
       "      <td>225492.656080</td>\n",
       "      <td>1</td>\n",
       "      <td>79</td>\n",
       "      <td>225492.656080</td>\n",
       "      <td>16.000060</td>\n",
       "      <td>0.000142</td>\n",
       "      <td>0.168422</td>\n",
       "      <td>1.0</td>\n",
       "    </tr>\n",
       "    <tr>\n",
       "      <th>2</th>\n",
       "      <td>Interaction</td>\n",
       "      <td>20236.343657</td>\n",
       "      <td>1</td>\n",
       "      <td>79</td>\n",
       "      <td>20236.343657</td>\n",
       "      <td>1.435890</td>\n",
       "      <td>0.234388</td>\n",
       "      <td>0.017851</td>\n",
       "      <td>NaN</td>\n",
       "    </tr>\n",
       "  </tbody>\n",
       "</table>\n",
       "</div>"
      ],
      "text/plain": [
       "        Source             SS  DF1  DF2             MS          F     p-unc  \\\n",
       "0    condition  141048.782361    1   79  141048.782361   1.459193  0.230662   \n",
       "1         mode  225492.656080    1   79  225492.656080  16.000060  0.000142   \n",
       "2  Interaction   20236.343657    1   79   20236.343657   1.435890  0.234388   \n",
       "\n",
       "        np2  eps  \n",
       "0  0.018136  NaN  \n",
       "1  0.168422  1.0  \n",
       "2  0.017851  NaN  "
      ]
     },
     "execution_count": 32,
     "metadata": {},
     "output_type": "execute_result"
    }
   ],
   "source": [
    "# remove outliers - still significant\n",
    "pg.mixed_anova(dv='score', between='condition', within='mode', subject='ID', data=ssq[~ssq[\"ID\"].isin([53,65])])"
   ]
  },
  {
   "cell_type": "code",
   "execution_count": 33,
   "id": "821a940a",
   "metadata": {},
   "outputs": [
    {
     "data": {
      "text/html": [
       "<div>\n",
       "<style scoped>\n",
       "    .dataframe tbody tr th:only-of-type {\n",
       "        vertical-align: middle;\n",
       "    }\n",
       "\n",
       "    .dataframe tbody tr th {\n",
       "        vertical-align: top;\n",
       "    }\n",
       "\n",
       "    .dataframe thead th {\n",
       "        text-align: right;\n",
       "    }\n",
       "</style>\n",
       "<table border=\"1\" class=\"dataframe\">\n",
       "  <thead>\n",
       "    <tr style=\"text-align: right;\">\n",
       "      <th></th>\n",
       "      <th></th>\n",
       "      <th>count</th>\n",
       "      <th>mean</th>\n",
       "      <th>std</th>\n",
       "    </tr>\n",
       "    <tr>\n",
       "      <th>condition</th>\n",
       "      <th>mode</th>\n",
       "      <th></th>\n",
       "      <th></th>\n",
       "      <th></th>\n",
       "    </tr>\n",
       "  </thead>\n",
       "  <tbody>\n",
       "    <tr>\n",
       "      <th rowspan=\"2\" valign=\"top\">Avatar</th>\n",
       "      <th>First Person</th>\n",
       "      <td>43.0</td>\n",
       "      <td>292.368847</td>\n",
       "      <td>215.622696</td>\n",
       "    </tr>\n",
       "    <tr>\n",
       "      <th>Hybrid</th>\n",
       "      <td>43.0</td>\n",
       "      <td>238.765079</td>\n",
       "      <td>203.249333</td>\n",
       "    </tr>\n",
       "    <tr>\n",
       "      <th rowspan=\"2\" valign=\"top\">Blob</th>\n",
       "      <th>First Person</th>\n",
       "      <td>40.0</td>\n",
       "      <td>416.486400</td>\n",
       "      <td>326.581386</td>\n",
       "    </tr>\n",
       "    <tr>\n",
       "      <th>Hybrid</th>\n",
       "      <td>40.0</td>\n",
       "      <td>280.778630</td>\n",
       "      <td>250.451476</td>\n",
       "    </tr>\n",
       "  </tbody>\n",
       "</table>\n",
       "</div>"
      ],
      "text/plain": [
       "                        count        mean         std\n",
       "condition mode                                       \n",
       "Avatar    First Person   43.0  292.368847  215.622696\n",
       "          Hybrid         43.0  238.765079  203.249333\n",
       "Blob      First Person   40.0  416.486400  326.581386\n",
       "          Hybrid         40.0  280.778630  250.451476"
      ]
     },
     "execution_count": 33,
     "metadata": {},
     "output_type": "execute_result"
    }
   ],
   "source": [
    "summarize(ssq, \"score\")"
   ]
  },
  {
   "cell_type": "code",
   "execution_count": 34,
   "id": "f67b3f18",
   "metadata": {
    "scrolled": true
   },
   "outputs": [
    {
     "data": {
      "image/png": "[encoded data removed]",
      "text/plain": [
       "<Figure size 288x288 with 1 Axes>"
      ]
     },
     "metadata": {
      "needs_background": "light"
     },
     "output_type": "display_data"
    }
   ],
   "source": [
    "fig, ax = plt.subplots(figsize=(4,4))\n",
    "boxplot(ssq, \"score\", \"SSQ total score\", ax)"
   ]
  },
  {
   "cell_type": "code",
   "execution_count": 35,
   "id": "ba24c40d",
   "metadata": {},
   "outputs": [],
   "source": [
    "# if interaction is significant, create interaction plot\n",
    "if ssq_anova[\"p-unc\"].tolist()[-1] < sig_level:\n",
    "    fig, ax = plt.subplots(figsize=(4,4))\n",
    "    interact_plot(ssq, \"score\", \"Interaction Condition x Mode (SSQ Total Score)\", ax=ax)"
   ]
  },
  {
   "cell_type": "markdown",
   "id": "37095a6d",
   "metadata": {},
   "source": [
    "## Assumption Check Motion Sickness"
   ]
  },
  {
   "cell_type": "code",
   "execution_count": 36,
   "id": "96c48c5a",
   "metadata": {},
   "outputs": [
    {
     "name": "stdout",
     "output_type": "stream",
     "text": [
      "Checking the assumptions for the dependent variable MS Total Score...\n",
      "\n",
      "The residuals are NOT approximately normally distributed for each level of the within-subjects factor! (tested using the Shapiro-Wilks Test)\n",
      "\n",
      "There should be equal variance for every level of within-subject factor:\n",
      "For the level Hybrid, Levene's test resulted in a p-value of 0.499, indicating that the assumption of equal variances is True.\n",
      "For the level First Person, Levene's test resulted in a p-value of 0.071, indicating that the assumption of equal variances is True.\n",
      "\n",
      "Mauchly’s test of sphericity resulted in a p-value of 1.0, indicating that the assumption is True.\n",
      "\n",
      "The homogeneity of variance-covariance matrices formed by the between-subject factor for each level of the within-subject factor should be equal:\n",
      "For the level First Person, Box’s M test resulted in a p-value of 0.013, indicating that the assumption is True.\n",
      "For the level Hybrid, Box’s M test resulted in a p-value of 0.676, indicating that the assumption is True.\n",
      "\n",
      "A data point is called an outlier if it > 3 sd away from the mean.\n",
      "There are outliers! The outliers are the participants [59]\n",
      "     ID condition          mode  rating        factor_comb\n",
      "140  59      Blob  First Person     4.4  Blob-First Person\n"
     ]
    }
   ],
   "source": [
    "check_assumptions(ms, 'rating', \"MS Total Score\")"
   ]
  },
  {
   "cell_type": "code",
   "execution_count": 37,
   "id": "2f24d88a",
   "metadata": {},
   "outputs": [
    {
     "name": "stdout",
     "output_type": "stream",
     "text": [
      "Checking the assumptions for the dependent variable MS ratings Area 1...\n",
      "\n",
      "The residuals are NOT approximately normally distributed for each level of the within-subjects factor! (tested using the Shapiro-Wilks Test)\n",
      "\n",
      "There should be equal variance for every level of within-subject factor:\n",
      "For the level Hybrid, Levene's test resulted in a p-value of 0.894, indicating that the assumption of equal variances is True.\n",
      "For the level First Person, Levene's test resulted in a p-value of 0.342, indicating that the assumption of equal variances is True.\n",
      "\n",
      "Mauchly’s test of sphericity resulted in a p-value of 1.0, indicating that the assumption is True.\n",
      "\n",
      "The homogeneity of variance-covariance matrices formed by the between-subject factor for each level of the within-subject factor should be equal:\n",
      "For the level First Person, Box’s M test resulted in a p-value of 0.141, indicating that the assumption is True.\n",
      "For the level Hybrid, Box’s M test resulted in a p-value of 0.438, indicating that the assumption is True.\n",
      "\n",
      "A data point is called an outlier if it > 3 sd away from the mean.\n",
      "There are outliers! The outliers are the participants [59]\n",
      "     ID condition          mode  rating        factor_comb\n",
      "140  59      Blob  First Person       6  Blob-First Person\n"
     ]
    }
   ],
   "source": [
    "check_assumptions(area_one, 'rating', \"MS ratings Area 1\")"
   ]
  },
  {
   "cell_type": "code",
   "execution_count": 38,
   "id": "fc905116",
   "metadata": {},
   "outputs": [
    {
     "name": "stdout",
     "output_type": "stream",
     "text": [
      "Checking the assumptions for the dependent variable MS ratings Area 2...\n",
      "\n",
      "The residuals are NOT approximately normally distributed for each level of the within-subjects factor! (tested using the Shapiro-Wilks Test)\n",
      "\n",
      "There should be equal variance for every level of within-subject factor:\n",
      "For the level Hybrid, Levene's test resulted in a p-value of 0.577, indicating that the assumption of equal variances is True.\n",
      "For the level First Person, Levene's test resulted in a p-value of 0.041, indicating that the assumption of equal variances is False.\n",
      "\n",
      "Mauchly’s test of sphericity resulted in a p-value of 1.0, indicating that the assumption is True.\n",
      "\n",
      "The homogeneity of variance-covariance matrices formed by the between-subject factor for each level of the within-subject factor should be equal:\n",
      "For the level First Person, Box’s M test resulted in a p-value of 0.0, indicating that the assumption is False.\n",
      "For the level Hybrid, Box’s M test resulted in a p-value of 0.061, indicating that the assumption is True.\n",
      "\n",
      "A data point is called an outlier if it > 3 sd away from the mean.\n",
      "There are outliers! The outliers are the participants [59 63]\n",
      "     ID condition          mode  rating        factor_comb\n",
      "140  59      Blob  First Person       6  Blob-First Person\n",
      "144  63      Blob  First Person       5  Blob-First Person\n"
     ]
    }
   ],
   "source": [
    "check_assumptions(area_two, 'rating', \"MS ratings Area 2\")"
   ]
  },
  {
   "cell_type": "code",
   "execution_count": 39,
   "id": "1098baa8",
   "metadata": {},
   "outputs": [
    {
     "name": "stdout",
     "output_type": "stream",
     "text": [
      "Checking the assumptions for the dependent variable MS ratings Area 3...\n",
      "\n",
      "The residuals are NOT approximately normally distributed for each level of the within-subjects factor! (tested using the Shapiro-Wilks Test)\n",
      "\n",
      "There should be equal variance for every level of within-subject factor:\n",
      "For the level Hybrid, Levene's test resulted in a p-value of 0.639, indicating that the assumption of equal variances is True.\n",
      "For the level First Person, Levene's test resulted in a p-value of 0.569, indicating that the assumption of equal variances is True.\n",
      "\n",
      "Mauchly’s test of sphericity resulted in a p-value of 1.0, indicating that the assumption is True.\n",
      "\n",
      "The homogeneity of variance-covariance matrices formed by the between-subject factor for each level of the within-subject factor should be equal:\n",
      "For the level First Person, Box’s M test resulted in a p-value of 0.583, indicating that the assumption is True.\n",
      "For the level Hybrid, Box’s M test resulted in a p-value of 0.51, indicating that the assumption is True.\n",
      "\n",
      "A data point is called an outlier if it > 3 sd away from the mean.\n",
      "There are no outliers!\n"
     ]
    }
   ],
   "source": [
    "check_assumptions(area_three, 'rating', \"MS ratings Area 3\")"
   ]
  },
  {
   "cell_type": "code",
   "execution_count": 40,
   "id": "dea51f28",
   "metadata": {},
   "outputs": [
    {
     "name": "stdout",
     "output_type": "stream",
     "text": [
      "Checking the assumptions for the dependent variable MS ratings Area 4...\n",
      "\n",
      "The residuals are NOT approximately normally distributed for each level of the within-subjects factor! (tested using the Shapiro-Wilks Test)\n",
      "\n",
      "There should be equal variance for every level of within-subject factor:\n",
      "For the level Hybrid, Levene's test resulted in a p-value of 0.386, indicating that the assumption of equal variances is True.\n",
      "For the level First Person, Levene's test resulted in a p-value of 0.094, indicating that the assumption of equal variances is True.\n",
      "\n",
      "Mauchly’s test of sphericity resulted in a p-value of 1.0, indicating that the assumption is True.\n",
      "\n",
      "The homogeneity of variance-covariance matrices formed by the between-subject factor for each level of the within-subject factor should be equal:\n",
      "For the level First Person, Box’s M test resulted in a p-value of 0.005, indicating that the assumption is True.\n",
      "For the level Hybrid, Box’s M test resulted in a p-value of 0.555, indicating that the assumption is True.\n",
      "\n",
      "A data point is called an outlier if it > 3 sd away from the mean.\n",
      "There are outliers! The outliers are the participants [11 59]\n",
      "     ID condition          mode  rating        factor_comb\n",
      "93   11      Blob  First Person       6  Blob-First Person\n",
      "140  59      Blob  First Person       8  Blob-First Person\n"
     ]
    }
   ],
   "source": [
    "check_assumptions(area_four, 'rating', \"MS ratings Area 4\")"
   ]
  },
  {
   "cell_type": "code",
   "execution_count": 41,
   "id": "5d8b5f8e",
   "metadata": {
    "scrolled": false
   },
   "outputs": [
    {
     "name": "stdout",
     "output_type": "stream",
     "text": [
      "Checking the assumptions for the dependent variable SSQ Total Score...\n",
      "\n",
      "The residuals are NOT approximately normally distributed for each level of the within-subjects factor! (tested using the Shapiro-Wilks Test)\n",
      "\n",
      "There should be equal variance for every level of within-subject factor:\n",
      "For the level Hybrid, Levene's test resulted in a p-value of 0.134, indicating that the assumption of equal variances is True.\n",
      "For the level First Person, Levene's test resulted in a p-value of 0.009, indicating that the assumption of equal variances is False.\n",
      "\n",
      "Mauchly’s test of sphericity resulted in a p-value of 1.0, indicating that the assumption is True.\n",
      "\n",
      "The homogeneity of variance-covariance matrices formed by the between-subject factor for each level of the within-subject factor should be equal:\n",
      "For the level First Person, Box’s M test resulted in a p-value of 0.009, indicating that the assumption is True.\n",
      "For the level Hybrid, Box’s M test resulted in a p-value of 0.187, indicating that the assumption is True.\n",
      "\n",
      "A data point is called an outlier if it > 3 sd away from the mean.\n",
      "There are outliers! The outliers are the participants [53 65]\n",
      "     ID condition          mode     score        factor_comb\n",
      "134  53      Blob  First Person  1184.832  Blob-First Person\n",
      "146  65      Blob  First Person  1266.738  Blob-First Person\n"
     ]
    }
   ],
   "source": [
    "check_assumptions(ssq, 'score', \"SSQ Total Score\")"
   ]
  },
  {
   "cell_type": "markdown",
   "id": "4cee47fd",
   "metadata": {},
   "source": [
    "## Correlations of the motion sickness variables"
   ]
  },
  {
   "cell_type": "code",
   "execution_count": 42,
   "id": "8ef94317",
   "metadata": {},
   "outputs": [
    {
     "data": {
      "image/png": "[encoded data removed]",
      "text/plain": [
       "<Figure size 288x288 with 1 Axes>"
      ]
     },
     "metadata": {
      "needs_background": "light"
     },
     "output_type": "display_data"
    },
    {
     "name": "stdout",
     "output_type": "stream",
     "text": [
      "Effect size according to Cohen: medium\n"
     ]
    }
   ],
   "source": [
    "## THIS IS ALSO IN THE QUESTIONNAIRE DATA/ PLOTS NB\n",
    "fig, ax = plt.subplots(figsize=(4,4))\n",
    "x = df[[\"H_AVG_MS\", \"FP_AVG_MS\"]].mean(axis=1)\n",
    "y = df[\"SSQ_TS_AVG\"]\n",
    "corr = stats.pearsonr(x, y)\n",
    "sns.regplot(x=x, y=y, ax=ax, marker='o', color='navy')\n",
    "\n",
    "fig.suptitle(\"Correlation Between SSQ and MS Ratings\", fontsize=16, y=1.03)\n",
    "ax.set_title(\"Pearsonr = {}, p-val = {}\".format(corr[0].round(3), corr[1].round(3)), fontsize=13)\n",
    "ax.set_ylabel(\"SSQ average\",fontsize=16)\n",
    "ax.set_xlabel(\"In-game MS average\",fontsize=16)\n",
    "\n",
    "sns.despine()\n",
    "plt.show()\n",
    "\n",
    "eff = None\n",
    "if 0.1 <= corr[0] <= 0.3:\n",
    "    eff = \"small\"\n",
    "elif 0.3 < corr[0] <= 0.5:\n",
    "    eff = \"medium\"\n",
    "elif 0.5 < corr[0] <= 1.0:\n",
    "    eff = \"large\"\n",
    "\n",
    "if eff is not None:\n",
    "    print(\"Effect size according to Cohen: \" + eff)"
   ]
  },
  {
   "cell_type": "markdown",
   "id": "c66f9c1b",
   "metadata": {},
   "source": [
    "# Embodiment\n",
    "\n",
    "Subscales\n",
    "- Spatial Presence (SP)\n",
    " - environmental location (EL)\n",
    " - possible actions (PA)\n",
    "- Embodiment (EB)\n",
    " - self-location (SL)\n",
    " - agency (A)\n",
    " - ownership (O)\n",
    " \n",
    "-> We're only interested in the embodiment part"
   ]
  },
  {
   "cell_type": "markdown",
   "id": "99da3899",
   "metadata": {},
   "source": [
    "## Effect of condition and mode on EB (total score)"
   ]
  },
  {
   "cell_type": "code",
   "execution_count": 43,
   "id": "6f787f2f",
   "metadata": {},
   "outputs": [
    {
     "data": {
      "text/html": [
       "<div>\n",
       "<style scoped>\n",
       "    .dataframe tbody tr th:only-of-type {\n",
       "        vertical-align: middle;\n",
       "    }\n",
       "\n",
       "    .dataframe tbody tr th {\n",
       "        vertical-align: top;\n",
       "    }\n",
       "\n",
       "    .dataframe thead th {\n",
       "        text-align: right;\n",
       "    }\n",
       "</style>\n",
       "<table border=\"1\" class=\"dataframe\">\n",
       "  <thead>\n",
       "    <tr style=\"text-align: right;\">\n",
       "      <th></th>\n",
       "      <th>Source</th>\n",
       "      <th>SS</th>\n",
       "      <th>DF1</th>\n",
       "      <th>DF2</th>\n",
       "      <th>MS</th>\n",
       "      <th>F</th>\n",
       "      <th>p-unc</th>\n",
       "      <th>np2</th>\n",
       "      <th>eps</th>\n",
       "    </tr>\n",
       "  </thead>\n",
       "  <tbody>\n",
       "    <tr>\n",
       "      <th>0</th>\n",
       "      <td>condition</td>\n",
       "      <td>1.800536</td>\n",
       "      <td>1</td>\n",
       "      <td>81</td>\n",
       "      <td>1.800536</td>\n",
       "      <td>0.051285</td>\n",
       "      <td>0.821413</td>\n",
       "      <td>0.000633</td>\n",
       "      <td>NaN</td>\n",
       "    </tr>\n",
       "    <tr>\n",
       "      <th>1</th>\n",
       "      <td>mode</td>\n",
       "      <td>3.765060</td>\n",
       "      <td>1</td>\n",
       "      <td>81</td>\n",
       "      <td>3.765060</td>\n",
       "      <td>0.329506</td>\n",
       "      <td>0.567541</td>\n",
       "      <td>0.004051</td>\n",
       "      <td>1.0</td>\n",
       "    </tr>\n",
       "    <tr>\n",
       "      <th>2</th>\n",
       "      <td>Interaction</td>\n",
       "      <td>26.198603</td>\n",
       "      <td>1</td>\n",
       "      <td>81</td>\n",
       "      <td>26.198603</td>\n",
       "      <td>2.292818</td>\n",
       "      <td>0.133866</td>\n",
       "      <td>0.027527</td>\n",
       "      <td>NaN</td>\n",
       "    </tr>\n",
       "  </tbody>\n",
       "</table>\n",
       "</div>"
      ],
      "text/plain": [
       "        Source         SS  DF1  DF2         MS         F     p-unc       np2  \\\n",
       "0    condition   1.800536    1   81   1.800536  0.051285  0.821413  0.000633   \n",
       "1         mode   3.765060    1   81   3.765060  0.329506  0.567541  0.004051   \n",
       "2  Interaction  26.198603    1   81  26.198603  2.292818  0.133866  0.027527   \n",
       "\n",
       "   eps  \n",
       "0  NaN  \n",
       "1  1.0  \n",
       "2  NaN  "
      ]
     },
     "execution_count": 43,
     "metadata": {},
     "output_type": "execute_result"
    }
   ],
   "source": [
    "eb = pd.melt(df.reset_index(), id_vars=['ID', 'condition'], value_vars=['EB_EB_H', 'EB_EB_FP'])\n",
    "eb = eb.rename(columns={\"variable\" : 'mode', \"value\" : \"score\"})\n",
    "eb.replace({'mode': {'EB_EB_H': 'Hybrid', 'EB_EB_FP': 'First Person'},\n",
    "               'condition': {1: 'Blob', 0: 'Avatar'}}, inplace=True)\n",
    "\n",
    "eb_anova = pg.mixed_anova(dv='score', between='condition', within='mode', subject='ID', data=eb)\n",
    "eb_anova"
   ]
  },
  {
   "cell_type": "code",
   "execution_count": 44,
   "id": "e2c6d644",
   "metadata": {},
   "outputs": [
    {
     "data": {
      "text/html": [
       "<div>\n",
       "<style scoped>\n",
       "    .dataframe tbody tr th:only-of-type {\n",
       "        vertical-align: middle;\n",
       "    }\n",
       "\n",
       "    .dataframe tbody tr th {\n",
       "        vertical-align: top;\n",
       "    }\n",
       "\n",
       "    .dataframe thead th {\n",
       "        text-align: right;\n",
       "    }\n",
       "</style>\n",
       "<table border=\"1\" class=\"dataframe\">\n",
       "  <thead>\n",
       "    <tr style=\"text-align: right;\">\n",
       "      <th></th>\n",
       "      <th></th>\n",
       "      <th>count</th>\n",
       "      <th>mean</th>\n",
       "      <th>std</th>\n",
       "    </tr>\n",
       "    <tr>\n",
       "      <th>condition</th>\n",
       "      <th>mode</th>\n",
       "      <th></th>\n",
       "      <th></th>\n",
       "      <th></th>\n",
       "    </tr>\n",
       "  </thead>\n",
       "  <tbody>\n",
       "    <tr>\n",
       "      <th rowspan=\"2\" valign=\"top\">Avatar</th>\n",
       "      <th>First Person</th>\n",
       "      <td>43.0</td>\n",
       "      <td>26.953488</td>\n",
       "      <td>5.424607</td>\n",
       "    </tr>\n",
       "    <tr>\n",
       "      <th>Hybrid</th>\n",
       "      <td>43.0</td>\n",
       "      <td>26.488372</td>\n",
       "      <td>4.500646</td>\n",
       "    </tr>\n",
       "    <tr>\n",
       "      <th rowspan=\"2\" valign=\"top\">Blob</th>\n",
       "      <th>First Person</th>\n",
       "      <td>40.0</td>\n",
       "      <td>25.950000</td>\n",
       "      <td>4.882990</td>\n",
       "    </tr>\n",
       "    <tr>\n",
       "      <th>Hybrid</th>\n",
       "      <td>40.0</td>\n",
       "      <td>27.075000</td>\n",
       "      <td>4.393395</td>\n",
       "    </tr>\n",
       "  </tbody>\n",
       "</table>\n",
       "</div>"
      ],
      "text/plain": [
       "                        count       mean       std\n",
       "condition mode                                    \n",
       "Avatar    First Person   43.0  26.953488  5.424607\n",
       "          Hybrid         43.0  26.488372  4.500646\n",
       "Blob      First Person   40.0  25.950000  4.882990\n",
       "          Hybrid         40.0  27.075000  4.393395"
      ]
     },
     "execution_count": 44,
     "metadata": {},
     "output_type": "execute_result"
    }
   ],
   "source": [
    "summarize(eb, \"score\")"
   ]
  },
  {
   "cell_type": "code",
   "execution_count": 45,
   "id": "331b5de7",
   "metadata": {
    "scrolled": true
   },
   "outputs": [
    {
     "data": {
      "image/png": "[encoded data removed]",
      "text/plain": [
       "<Figure size 288x288 with 1 Axes>"
      ]
     },
     "metadata": {
      "needs_background": "light"
     },
     "output_type": "display_data"
    }
   ],
   "source": [
    "fig, ax = plt.subplots(figsize=(4,4))\n",
    "boxplot(eb, \"score\", \"EB total score\", ax)"
   ]
  },
  {
   "cell_type": "code",
   "execution_count": 46,
   "id": "7cd14d7a",
   "metadata": {},
   "outputs": [],
   "source": [
    "# if interaction is significant, create interaction plot\n",
    "if eb_anova[\"p-unc\"].tolist()[-1] < sig_level:\n",
    "    fig, ax = plt.subplots(figsize=(4,4))\n",
    "    interact_plot(eb, \"score\", \"Interaction Condition x Mode (on EB total score)\", ax=ax)"
   ]
  },
  {
   "cell_type": "markdown",
   "id": "edbda1f9",
   "metadata": {},
   "source": [
    "## Assumption Check Embodiment"
   ]
  },
  {
   "cell_type": "code",
   "execution_count": 47,
   "id": "a944c14c",
   "metadata": {},
   "outputs": [
    {
     "name": "stdout",
     "output_type": "stream",
     "text": [
      "Checking the assumptions for the dependent variable EB Total Score...\n",
      "\n",
      "The residuals are approximately normally distributed for each level of the within-subjects factor (tested using the Shapiro-Wilks Test)\n",
      "\n",
      "There should be equal variance for every level of within-subject factor:\n",
      "For the level Hybrid, Levene's test resulted in a p-value of 0.764, indicating that the assumption of equal variances is True.\n",
      "For the level First Person, Levene's test resulted in a p-value of 0.211, indicating that the assumption of equal variances is True.\n",
      "\n",
      "Mauchly’s test of sphericity resulted in a p-value of 1.0, indicating that the assumption is True.\n",
      "\n",
      "The homogeneity of variance-covariance matrices formed by the between-subject factor for each level of the within-subject factor should be equal:\n",
      "For the level First Person, Box’s M test resulted in a p-value of 0.507, indicating that the assumption is True.\n",
      "For the level Hybrid, Box’s M test resulted in a p-value of 0.879, indicating that the assumption is True.\n",
      "\n",
      "A data point is called an outlier if it > 3 sd away from the mean.\n",
      "There are no outliers!\n",
      "\n",
      "ALL ASSUMPTIONS ARE TRUE!\n"
     ]
    }
   ],
   "source": [
    "check_assumptions(eb, 'score', \"EB Total Score\")"
   ]
  }
 ],
 "metadata": {
  "kernelspec": {
   "display_name": "Python 3",
   "language": "python",
   "name": "python3"
  },
  "language_info": {
   "codemirror_mode": {
    "name": "ipython",
    "version": 3
   },
   "file_extension": ".py",
   "mimetype": "text/x-python",
   "name": "python",
   "nbconvert_exporter": "python",
   "pygments_lexer": "ipython3",
   "version": "3.8.8"
  }
 },
 "nbformat": 4,
 "nbformat_minor": 5
}
