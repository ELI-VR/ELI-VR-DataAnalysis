{
 "cells": [
  {
   "cell_type": "markdown",
   "id": "42d085f9",
   "metadata": {},
   "source": [
    "# Analysis of Motion Sickness and Embodiment Data\n",
    "\n",
    "Author: Zora Nolte\n",
    "\n",
    "Last updated: 12.02.2022"
   ]
  },
  {
   "cell_type": "code",
   "execution_count": 1,
   "id": "1eb8aeb8",
   "metadata": {},
   "outputs": [],
   "source": [
    "import os\n",
    "import pandas as pd\n",
    "import pingouin as pg\n",
    "import matplotlib.pyplot as plt\n",
    "import seaborn as sns\n",
    "from statsmodels.graphics.factorplots import interaction_plot\n",
    "import numpy as np\n",
    "from scipy import stats"
   ]
  },
  {
   "cell_type": "code",
   "execution_count": 2,
   "id": "dc446a2e",
   "metadata": {},
   "outputs": [],
   "source": [
    "# load the data\n",
    "search_path = os.getcwd() + '\\\\data\\\\' # location of the data files\n",
    "df = pd.read_csv(search_path + \"data_questionnaires_preprocessed.csv\", converters={'BE04_01':str, 'BE04_02':str, 'BE04_03':str})\n",
    "df = df.rename(columns={\"blob\" : 'condition'})"
   ]
  },
  {
   "cell_type": "code",
   "execution_count": 3,
   "id": "8476bbc1",
   "metadata": {},
   "outputs": [],
   "source": [
    "sig_level = 0.05 # p value to be used as threshold"
   ]
  },
  {
   "cell_type": "markdown",
   "id": "ecf9a3cf",
   "metadata": {},
   "source": [
    "## Notes on Mixed ANOVA"
   ]
  },
  {
   "cell_type": "markdown",
   "id": "2920a369",
   "metadata": {},
   "source": [
    "**Independent variables:** two categorical independent variables (factors)\n",
    "- one of which is between-subject (each subjects assigned only once to treatment): blob vs. avatar\n",
    "- the other is within-subject (each subject assigned multiple treatments): hybrid vs. first-person\n",
    "\n",
    "**Assumptions:**\n",
    "- The responses from subjects (dependent variable) should be continuous\n",
    "- Residuals (experimental error) are approximately normally distributed for each combination of between-subject and within-subject variable (Shapiro-Wilks Test or histogram)\n",
    "- Homogeneity of variances or homoscedasticity: There should be equal variance for every level of within-subject factor (Levene’s test)\n",
    "- Assumption of sphericity: the variances of differences in responses between any two levels of the independent variable (within-subjects factor) should be equal (Mauchly’s test of sphericity). This assumptionn is also known as homogeneity-of-variance-of-differences assumption.\n",
    "- Homogeneity of the variance-covariance matrices: the pattern of intercorrelation for each level of within-subject variable across between-subject variable should be equal. This is a multivariate version of the Homogeneity of variances. It can be tested using Box’s M test. Box’s M-test has little power and uses a lower alpha level such as 0.001 to assess the p value for significance.\n",
    "- There should be no significant outlier (this can be checked by boxplot)\n",
    " \n",
    "**Results:**\n",
    "- Two-way mixed ANOVA estimates the three effects - two main effects and one interaction effect - for statistical significance\n",
    "- Generally, it is not appropriate to interpret main effects when interaction is significant.\n",
    "\n",
    "(Source: https://www.reneshbedre.com/blog/mixed-anova.html)\n"
   ]
  },
  {
   "cell_type": "markdown",
   "id": "52997674",
   "metadata": {},
   "source": [
    "## Naming conventions\n",
    "\n",
    "- condition: blob vs. avatar (1: blob, 0: avatar)\n",
    "- mode: first-person vs. hybrid"
   ]
  },
  {
   "cell_type": "markdown",
   "id": "7b7fbdd8",
   "metadata": {},
   "source": [
    "## Important Note\n",
    "\n",
    "**p-values are not corrected for multiple analyses in this notebook!**"
   ]
  },
  {
   "cell_type": "markdown",
   "id": "f50205ab",
   "metadata": {},
   "source": [
    "## Functions"
   ]
  },
  {
   "cell_type": "code",
   "execution_count": 4,
   "id": "c9cda8fd",
   "metadata": {},
   "outputs": [],
   "source": [
    "def summarize(df, var):\n",
    "    '''\n",
    "    Groups the df by the independent factors, and prints the variable's count, mean, and std.\n",
    "    \n",
    "    df (pd.DataFrame)\n",
    "    var (str): the column to summarize\n",
    "    '''\n",
    "    return df.groupby([\"condition\", \"mode\"]).describe()[var][[\"count\", \"mean\", \"std\"]]"
   ]
  },
  {
   "cell_type": "code",
   "execution_count": 5,
   "id": "e4bd0764",
   "metadata": {},
   "outputs": [],
   "source": [
    "def boxplot(df, var, title, ax, legend=True):\n",
    "    '''\n",
    "    Creates a boxplot of the variable, separated by condition and mode.\n",
    "    \n",
    "    df (pd.DataFrame)\n",
    "    var (str): the column to plot\n",
    "    title (str): title of the boxplot\n",
    "    ax (plt.axis): ax to be plotted on\n",
    "    \n",
    "    '''\n",
    "    my_palette = sns.color_palette([sns.color_palette(\"tab10\")[1], sns.color_palette(\"tab10\")[0]])\n",
    "    \n",
    "    sns.boxplot(x='condition', y=var, hue='mode', data=df, ax=ax,\n",
    "                showmeans=True, meanprops={\"marker\":\"d\",\"markerfacecolor\":\"white\", \"markeredgecolor\":\"black\"},\n",
    "                palette=my_palette)\n",
    "    ax.set_title(title, fontsize=18)\n",
    "    if legend:\n",
    "        ax.legend(fontsize=13, title_fontsize=13, loc='upper left', bbox_to_anchor=(1, 1))\n",
    "    else:\n",
    "        ax.get_legend().remove()\n",
    "    \n",
    "    ax.xaxis.label.set_size(16)\n",
    "    ax.xaxis.labelpad = 10\n",
    "    ax.yaxis.label.set_size(16)\n",
    "    ax.yaxis.labelpad = 10\n",
    "    ax.tick_params(axis='both', which='major', labelsize=14)\n",
    "    sns.despine()\n"
   ]
  },
  {
   "cell_type": "code",
   "execution_count": 6,
   "id": "9d601530",
   "metadata": {},
   "outputs": [],
   "source": [
    "def interact_plot(df, var, title, ax):\n",
    "    '''\n",
    "    Plots the interaction of condition and mode for the variable.\n",
    "    \n",
    "    df (pd.DataFrame)\n",
    "    var (str):  dependent variable column name\n",
    "    title (str): title of the plot\n",
    "    '''\n",
    "    interaction_plot(x=df['condition'], trace=df['mode'], response=df[var], ax=ax,\n",
    "                     colors=[sns.color_palette(\"tab10\")[0], sns.color_palette(\"tab10\")[1]], \n",
    "                     markers=['D','^'])\n",
    "    ax.set_title(title, fontsize=18)\n",
    "    ax.legend(title=\"Mode\", fontsize=13, title_fontsize=13, loc='upper left', bbox_to_anchor=(1, 1))\n",
    "    ax.set_ylabel(\"Mean\")\n",
    "    ax.set_xlabel(\"Condition\")\n",
    "    \n",
    "    ax.xaxis.label.set_size(16)\n",
    "    ax.xaxis.labelpad = 10\n",
    "    ax.yaxis.label.set_size(16)\n",
    "    ax.yaxis.labelpad = 10\n",
    "    ax.tick_params(axis='both', which='major', labelsize=14)\n",
    " \n",
    "    sns.despine()\n",
    "    plt.show()"
   ]
  },
  {
   "cell_type": "code",
   "execution_count": 7,
   "id": "b212ffdf",
   "metadata": {},
   "outputs": [],
   "source": [
    "def check_assumptions(df, dv, dv_name):\n",
    "    '''\n",
    "    Checks the assumptions of a mixed ANOVA.\n",
    "    \n",
    "    df (pd.DataFrame)\n",
    "    dv (str): dependent variable column name\n",
    "    dv_name (str): name of the dependent variable (to be printed)\n",
    "    '''\n",
    "    \n",
    "    print(\"Checking the assumptions for the dependent variable {}...\\n\".format(dv_name))\n",
    "    all_assumptions = []\n",
    "    \n",
    "    # Assumption of the residuals being normally distributed\n",
    "    df['factor_comb'] = df[\"condition\"] + '-'+ df[\"mode\"]\n",
    "    normal = pg.normality(data=df, dv=dv, group='factor_comb')\n",
    "    if normal[\"normal\"].all():\n",
    "        print(\"The residuals are approximately normally distributed for each level of the within-subjects factor (tested using the Shapiro-Wilks Test)\")\n",
    "        all_assumptions.append(True)\n",
    "    else:\n",
    "        print(\"The residuals are NOT approximately normally distributed for each level of the within-subjects factor! (tested using the Shapiro-Wilks Test)\")\n",
    "        all_assumptions.append(False)\n",
    "    \n",
    "    print()\n",
    "    # Assumption of homoscedasticity\n",
    "    print(\"There should be equal variance for every level of within-subject factor:\")\n",
    "    hybrid = df[df[\"mode\"]==\"Hybrid\"].reset_index(drop=True)\n",
    "    homo_hybrid = pg.homoscedasticity(data=hybrid, dv=dv, group='condition')\n",
    "    all_assumptions.append(homo_hybrid[\"equal_var\"][0])\n",
    "    print(\"For the level Hybrid, Levene's test resulted in a p-value of {}, indicating that the assumption of equal variances is {}.\".format(homo_hybrid[\"pval\"][0].round(3), homo_hybrid[\"equal_var\"][0]))\n",
    "    \n",
    "    fp = df[df[\"mode\"]==\"First Person\"].reset_index(drop=True)\n",
    "    homo_fp = pg.homoscedasticity(data=fp, dv=dv, group='condition')\n",
    "    all_assumptions.append(homo_fp[\"equal_var\"][0])\n",
    "    print(\"For the level First Person, Levene's test resulted in a p-value of {}, indicating that the assumption of equal variances is {}.\".format(homo_fp[\"pval\"][0].round(3), homo_fp[\"equal_var\"][0]))\n",
    "    \n",
    "    print()    \n",
    "    # Assumption of sphericity\n",
    "    sphericity = pg.sphericity(data=df, dv=dv, subject='ID', within='condition')\n",
    "    all_assumptions.append(sphericity[0])\n",
    "    print(\"Mauchly’s test of sphericity resulted in a p-value of {}, indicating that the assumption is {}.\".format(sphericity[-1], sphericity[0]))\n",
    "    \n",
    "    print()\n",
    "    # Assumption of homogeneity of the variance-covariance matrices:\n",
    "    print(\"The homogeneity of variance-covariance matrices formed by the between-subject factor for each level of the within-subject factor should be equal:\")\n",
    "    box_fp = pg.box_m(data=fp, dvs=[dv], group='condition', alpha=0.001)\n",
    "    all_assumptions.append(box_fp[\"equal_cov\"][0])    \n",
    "    print(\"For the level First Person, Box’s M test resulted in a p-value of {}, indicating that the assumption is {}.\".format(box_fp[\"pval\"][0].round(3), box_fp[\"equal_cov\"][0]))\n",
    "    \n",
    "    box_hybrid = pg.box_m(data=hybrid, dvs=[dv], group='condition', alpha=0.001)\n",
    "    all_assumptions.append(box_hybrid[\"equal_cov\"][0])    \n",
    "    print(\"For the level Hybrid, Box’s M test resulted in a p-value of {}, indicating that the assumption is {}.\".format(box_hybrid[\"pval\"][0].round(3), box_hybrid[\"equal_cov\"][0]))\n",
    "\n",
    "    print()\n",
    "    # Assumption of no outliers\n",
    "    outliers = df[df[dv] > df[dv].mean() + 3 * df[dv].std()]\n",
    "    print(\"A data point is called an outlier if it > 3 sd away from the mean.\")\n",
    "    if outliers.empty:\n",
    "        print(\"There are no outliers!\")\n",
    "        all_assumptions.append(True)\n",
    "    else: \n",
    "        print(\"There are outliers! The outliers are the participants {}\".format(outliers[\"ID\"].values))\n",
    "        all_assumptions.append(False)\n",
    "    \n",
    "    \n",
    "    if all(x == True for x in all_assumptions):\n",
    "        print()\n",
    "        print(\"ALL ASSUMPTIONS ARE TRUE!\")"
   ]
  },
  {
   "cell_type": "markdown",
   "id": "02636a4b",
   "metadata": {},
   "source": [
    "# Motion Sickness\n",
    "\n",
    "## Effect of condition and mode on in-game MS ratings (total score)"
   ]
  },
  {
   "cell_type": "code",
   "execution_count": 8,
   "id": "a94fe369",
   "metadata": {},
   "outputs": [
    {
     "data": {
      "text/html": [
       "<div>\n",
       "<style scoped>\n",
       "    .dataframe tbody tr th:only-of-type {\n",
       "        vertical-align: middle;\n",
       "    }\n",
       "\n",
       "    .dataframe tbody tr th {\n",
       "        vertical-align: top;\n",
       "    }\n",
       "\n",
       "    .dataframe thead th {\n",
       "        text-align: right;\n",
       "    }\n",
       "</style>\n",
       "<table border=\"1\" class=\"dataframe\">\n",
       "  <thead>\n",
       "    <tr style=\"text-align: right;\">\n",
       "      <th></th>\n",
       "      <th>Source</th>\n",
       "      <th>SS</th>\n",
       "      <th>DF1</th>\n",
       "      <th>DF2</th>\n",
       "      <th>MS</th>\n",
       "      <th>F</th>\n",
       "      <th>p-unc</th>\n",
       "      <th>np2</th>\n",
       "      <th>eps</th>\n",
       "    </tr>\n",
       "  </thead>\n",
       "  <tbody>\n",
       "    <tr>\n",
       "      <th>0</th>\n",
       "      <td>condition</td>\n",
       "      <td>0.493479</td>\n",
       "      <td>1</td>\n",
       "      <td>22</td>\n",
       "      <td>0.493479</td>\n",
       "      <td>0.397690</td>\n",
       "      <td>0.534782</td>\n",
       "      <td>0.017756</td>\n",
       "      <td>NaN</td>\n",
       "    </tr>\n",
       "    <tr>\n",
       "      <th>1</th>\n",
       "      <td>mode</td>\n",
       "      <td>0.040833</td>\n",
       "      <td>1</td>\n",
       "      <td>22</td>\n",
       "      <td>0.040833</td>\n",
       "      <td>0.194568</td>\n",
       "      <td>0.663446</td>\n",
       "      <td>0.008766</td>\n",
       "      <td>1.0</td>\n",
       "    </tr>\n",
       "    <tr>\n",
       "      <th>2</th>\n",
       "      <td>Interaction</td>\n",
       "      <td>0.002104</td>\n",
       "      <td>1</td>\n",
       "      <td>22</td>\n",
       "      <td>0.002104</td>\n",
       "      <td>0.010024</td>\n",
       "      <td>0.921155</td>\n",
       "      <td>0.000455</td>\n",
       "      <td>NaN</td>\n",
       "    </tr>\n",
       "  </tbody>\n",
       "</table>\n",
       "</div>"
      ],
      "text/plain": [
       "        Source        SS  DF1  DF2        MS         F     p-unc       np2  \\\n",
       "0    condition  0.493479    1   22  0.493479  0.397690  0.534782  0.017756   \n",
       "1         mode  0.040833    1   22  0.040833  0.194568  0.663446  0.008766   \n",
       "2  Interaction  0.002104    1   22  0.002104  0.010024  0.921155  0.000455   \n",
       "\n",
       "   eps  \n",
       "0  NaN  \n",
       "1  1.0  \n",
       "2  NaN  "
      ]
     },
     "execution_count": 8,
     "metadata": {},
     "output_type": "execute_result"
    }
   ],
   "source": [
    "ms = pd.melt(df.reset_index(), id_vars=['ID', 'condition'], value_vars=['H_AVG_MS', 'FP_AVG_MS'])\n",
    "ms = ms.rename(columns={\"variable\" : 'mode', \"value\" : \"rating\"})\n",
    "ms.replace({'mode': {'H_AVG_MS': 'Hybrid', 'FP_AVG_MS': 'First Person'},\n",
    "               'condition': {1: 'Blob', 0: 'Avatar'}}, inplace=True)\n",
    "\n",
    "ms_anova = pg.mixed_anova(dv='rating', between='condition', within='mode', subject='ID', data=ms)\n",
    "ms_anova"
   ]
  },
  {
   "cell_type": "code",
   "execution_count": 9,
   "id": "07661225",
   "metadata": {},
   "outputs": [
    {
     "data": {
      "text/html": [
       "<div>\n",
       "<style scoped>\n",
       "    .dataframe tbody tr th:only-of-type {\n",
       "        vertical-align: middle;\n",
       "    }\n",
       "\n",
       "    .dataframe tbody tr th {\n",
       "        vertical-align: top;\n",
       "    }\n",
       "\n",
       "    .dataframe thead th {\n",
       "        text-align: right;\n",
       "    }\n",
       "</style>\n",
       "<table border=\"1\" class=\"dataframe\">\n",
       "  <thead>\n",
       "    <tr style=\"text-align: right;\">\n",
       "      <th></th>\n",
       "      <th></th>\n",
       "      <th>count</th>\n",
       "      <th>mean</th>\n",
       "      <th>std</th>\n",
       "    </tr>\n",
       "    <tr>\n",
       "      <th>condition</th>\n",
       "      <th>mode</th>\n",
       "      <th></th>\n",
       "      <th></th>\n",
       "      <th></th>\n",
       "    </tr>\n",
       "  </thead>\n",
       "  <tbody>\n",
       "    <tr>\n",
       "      <th rowspan=\"2\" valign=\"top\">Avatar</th>\n",
       "      <th>First Person</th>\n",
       "      <td>11.0</td>\n",
       "      <td>0.563636</td>\n",
       "      <td>0.680107</td>\n",
       "    </tr>\n",
       "    <tr>\n",
       "      <th>Hybrid</th>\n",
       "      <td>11.0</td>\n",
       "      <td>0.490909</td>\n",
       "      <td>0.891577</td>\n",
       "    </tr>\n",
       "    <tr>\n",
       "      <th rowspan=\"2\" valign=\"top\">Blob</th>\n",
       "      <th>First Person</th>\n",
       "      <td>13.0</td>\n",
       "      <td>0.753846</td>\n",
       "      <td>0.808925</td>\n",
       "    </tr>\n",
       "    <tr>\n",
       "      <th>Hybrid</th>\n",
       "      <td>13.0</td>\n",
       "      <td>0.707692</td>\n",
       "      <td>0.978487</td>\n",
       "    </tr>\n",
       "  </tbody>\n",
       "</table>\n",
       "</div>"
      ],
      "text/plain": [
       "                        count      mean       std\n",
       "condition mode                                   \n",
       "Avatar    First Person   11.0  0.563636  0.680107\n",
       "          Hybrid         11.0  0.490909  0.891577\n",
       "Blob      First Person   13.0  0.753846  0.808925\n",
       "          Hybrid         13.0  0.707692  0.978487"
      ]
     },
     "execution_count": 9,
     "metadata": {},
     "output_type": "execute_result"
    }
   ],
   "source": [
    "summarize(ms, \"rating\")"
   ]
  },
  {
   "cell_type": "code",
   "execution_count": 10,
   "id": "1e9eb1c3",
   "metadata": {
    "scrolled": false
   },
   "outputs": [
    {
     "data": {
      "image/png": "[encoded data removed]",
      "text/plain": [
       "<Figure size 288x288 with 1 Axes>"
      ]
     },
     "metadata": {
      "needs_background": "light"
     },
     "output_type": "display_data"
    }
   ],
   "source": [
    "fig, ax = plt.subplots(figsize=(4,4))\n",
    "boxplot(ms, \"rating\", \"MS total score\", ax)"
   ]
  },
  {
   "cell_type": "code",
   "execution_count": 11,
   "id": "0069411c",
   "metadata": {},
   "outputs": [],
   "source": [
    "# if interaction is significant, create interaction plot\n",
    "if ms_anova[\"p-unc\"].tolist()[-1] < sig_level:\n",
    "    fig, ax = plt.subplots(figsize=(4,4))\n",
    "    interact_plot(ms, \"rating\", \"MS Total Score\", ax=ax)"
   ]
  },
  {
   "cell_type": "markdown",
   "id": "2bb9432f",
   "metadata": {},
   "source": [
    "## Effect of condition and mode on in-game MS ratings (per area)"
   ]
  },
  {
   "cell_type": "markdown",
   "id": "de6404ef",
   "metadata": {},
   "source": [
    "### Area 1"
   ]
  },
  {
   "cell_type": "code",
   "execution_count": 12,
   "id": "2f65463c",
   "metadata": {},
   "outputs": [
    {
     "data": {
      "text/html": [
       "<div>\n",
       "<style scoped>\n",
       "    .dataframe tbody tr th:only-of-type {\n",
       "        vertical-align: middle;\n",
       "    }\n",
       "\n",
       "    .dataframe tbody tr th {\n",
       "        vertical-align: top;\n",
       "    }\n",
       "\n",
       "    .dataframe thead th {\n",
       "        text-align: right;\n",
       "    }\n",
       "</style>\n",
       "<table border=\"1\" class=\"dataframe\">\n",
       "  <thead>\n",
       "    <tr style=\"text-align: right;\">\n",
       "      <th></th>\n",
       "      <th>Source</th>\n",
       "      <th>SS</th>\n",
       "      <th>DF1</th>\n",
       "      <th>DF2</th>\n",
       "      <th>MS</th>\n",
       "      <th>F</th>\n",
       "      <th>p-unc</th>\n",
       "      <th>np2</th>\n",
       "      <th>eps</th>\n",
       "    </tr>\n",
       "  </thead>\n",
       "  <tbody>\n",
       "    <tr>\n",
       "      <th>0</th>\n",
       "      <td>condition</td>\n",
       "      <td>0.091055</td>\n",
       "      <td>1</td>\n",
       "      <td>22</td>\n",
       "      <td>0.091055</td>\n",
       "      <td>0.052872</td>\n",
       "      <td>0.820264</td>\n",
       "      <td>0.002397</td>\n",
       "      <td>NaN</td>\n",
       "    </tr>\n",
       "    <tr>\n",
       "      <th>1</th>\n",
       "      <td>mode</td>\n",
       "      <td>0.520833</td>\n",
       "      <td>1</td>\n",
       "      <td>22</td>\n",
       "      <td>0.520833</td>\n",
       "      <td>1.047661</td>\n",
       "      <td>0.317170</td>\n",
       "      <td>0.045456</td>\n",
       "      <td>1.0</td>\n",
       "    </tr>\n",
       "    <tr>\n",
       "      <th>2</th>\n",
       "      <td>Interaction</td>\n",
       "      <td>0.042104</td>\n",
       "      <td>1</td>\n",
       "      <td>22</td>\n",
       "      <td>0.042104</td>\n",
       "      <td>0.084692</td>\n",
       "      <td>0.773763</td>\n",
       "      <td>0.003835</td>\n",
       "      <td>NaN</td>\n",
       "    </tr>\n",
       "  </tbody>\n",
       "</table>\n",
       "</div>"
      ],
      "text/plain": [
       "        Source        SS  DF1  DF2        MS         F     p-unc       np2  \\\n",
       "0    condition  0.091055    1   22  0.091055  0.052872  0.820264  0.002397   \n",
       "1         mode  0.520833    1   22  0.520833  1.047661  0.317170  0.045456   \n",
       "2  Interaction  0.042104    1   22  0.042104  0.084692  0.773763  0.003835   \n",
       "\n",
       "   eps  \n",
       "0  NaN  \n",
       "1  1.0  \n",
       "2  NaN  "
      ]
     },
     "execution_count": 12,
     "metadata": {},
     "output_type": "execute_result"
    }
   ],
   "source": [
    "area_one = pd.melt(df.reset_index(), id_vars=['ID', 'condition'], value_vars=['H_1_MS', 'FP_1_MS'])\n",
    "area_one = area_one.rename(columns={\"variable\" : 'mode', \"value\" : \"rating\"})\n",
    "area_one.replace({'mode': {'H_1_MS': 'Hybrid', 'FP_1_MS': 'First Person'},\n",
    "               'condition': {1: 'Blob', 0: 'Avatar'}}, inplace=True)\n",
    "\n",
    "area_one_anova = pg.mixed_anova(dv='rating', between='condition', within='mode', subject='ID', data=area_one)\n",
    "area_one_anova"
   ]
  },
  {
   "cell_type": "code",
   "execution_count": 13,
   "id": "61c809b2",
   "metadata": {
    "scrolled": true
   },
   "outputs": [
    {
     "data": {
      "text/html": [
       "<div>\n",
       "<style scoped>\n",
       "    .dataframe tbody tr th:only-of-type {\n",
       "        vertical-align: middle;\n",
       "    }\n",
       "\n",
       "    .dataframe tbody tr th {\n",
       "        vertical-align: top;\n",
       "    }\n",
       "\n",
       "    .dataframe thead th {\n",
       "        text-align: right;\n",
       "    }\n",
       "</style>\n",
       "<table border=\"1\" class=\"dataframe\">\n",
       "  <thead>\n",
       "    <tr style=\"text-align: right;\">\n",
       "      <th></th>\n",
       "      <th></th>\n",
       "      <th>count</th>\n",
       "      <th>mean</th>\n",
       "      <th>std</th>\n",
       "    </tr>\n",
       "    <tr>\n",
       "      <th>condition</th>\n",
       "      <th>mode</th>\n",
       "      <th></th>\n",
       "      <th></th>\n",
       "      <th></th>\n",
       "    </tr>\n",
       "  </thead>\n",
       "  <tbody>\n",
       "    <tr>\n",
       "      <th rowspan=\"2\" valign=\"top\">Avatar</th>\n",
       "      <th>First Person</th>\n",
       "      <td>11.0</td>\n",
       "      <td>0.818182</td>\n",
       "      <td>1.167748</td>\n",
       "    </tr>\n",
       "    <tr>\n",
       "      <th>Hybrid</th>\n",
       "      <td>11.0</td>\n",
       "      <td>0.545455</td>\n",
       "      <td>1.035725</td>\n",
       "    </tr>\n",
       "    <tr>\n",
       "      <th rowspan=\"2\" valign=\"top\">Blob</th>\n",
       "      <th>First Person</th>\n",
       "      <td>13.0</td>\n",
       "      <td>0.846154</td>\n",
       "      <td>0.987096</td>\n",
       "    </tr>\n",
       "    <tr>\n",
       "      <th>Hybrid</th>\n",
       "      <td>13.0</td>\n",
       "      <td>0.692308</td>\n",
       "      <td>1.031553</td>\n",
       "    </tr>\n",
       "  </tbody>\n",
       "</table>\n",
       "</div>"
      ],
      "text/plain": [
       "                        count      mean       std\n",
       "condition mode                                   \n",
       "Avatar    First Person   11.0  0.818182  1.167748\n",
       "          Hybrid         11.0  0.545455  1.035725\n",
       "Blob      First Person   13.0  0.846154  0.987096\n",
       "          Hybrid         13.0  0.692308  1.031553"
      ]
     },
     "execution_count": 13,
     "metadata": {},
     "output_type": "execute_result"
    }
   ],
   "source": [
    "summarize(area_one, \"rating\")"
   ]
  },
  {
   "cell_type": "code",
   "execution_count": 14,
   "id": "eb7bacdd",
   "metadata": {},
   "outputs": [],
   "source": [
    "# if interaction is significant, create interaction plot\n",
    "if area_one_anova[\"p-unc\"].tolist()[-1] < sig_level:\n",
    "    fig, ax = plt.subplots(figsize=(4,4))\n",
    "    interact_plot(area_one, \"rating\", \"Interaction Condition x Mode (Area 1)\", ax=ax)"
   ]
  },
  {
   "cell_type": "markdown",
   "id": "0c384b0e",
   "metadata": {},
   "source": [
    "### Area 2"
   ]
  },
  {
   "cell_type": "code",
   "execution_count": 15,
   "id": "b9edd52d",
   "metadata": {},
   "outputs": [
    {
     "data": {
      "text/html": [
       "<div>\n",
       "<style scoped>\n",
       "    .dataframe tbody tr th:only-of-type {\n",
       "        vertical-align: middle;\n",
       "    }\n",
       "\n",
       "    .dataframe tbody tr th {\n",
       "        vertical-align: top;\n",
       "    }\n",
       "\n",
       "    .dataframe thead th {\n",
       "        text-align: right;\n",
       "    }\n",
       "</style>\n",
       "<table border=\"1\" class=\"dataframe\">\n",
       "  <thead>\n",
       "    <tr style=\"text-align: right;\">\n",
       "      <th></th>\n",
       "      <th>Source</th>\n",
       "      <th>SS</th>\n",
       "      <th>DF1</th>\n",
       "      <th>DF2</th>\n",
       "      <th>MS</th>\n",
       "      <th>F</th>\n",
       "      <th>p-unc</th>\n",
       "      <th>np2</th>\n",
       "      <th>eps</th>\n",
       "    </tr>\n",
       "  </thead>\n",
       "  <tbody>\n",
       "    <tr>\n",
       "      <th>0</th>\n",
       "      <td>condition</td>\n",
       "      <td>0.393939</td>\n",
       "      <td>1</td>\n",
       "      <td>22</td>\n",
       "      <td>0.393939</td>\n",
       "      <td>0.389116</td>\n",
       "      <td>0.539179</td>\n",
       "      <td>0.017380</td>\n",
       "      <td>NaN</td>\n",
       "    </tr>\n",
       "    <tr>\n",
       "      <th>1</th>\n",
       "      <td>mode</td>\n",
       "      <td>0.333333</td>\n",
       "      <td>1</td>\n",
       "      <td>22</td>\n",
       "      <td>0.333333</td>\n",
       "      <td>0.851882</td>\n",
       "      <td>0.366033</td>\n",
       "      <td>0.037278</td>\n",
       "      <td>1.0</td>\n",
       "    </tr>\n",
       "    <tr>\n",
       "      <th>2</th>\n",
       "      <td>Interaction</td>\n",
       "      <td>0.058275</td>\n",
       "      <td>1</td>\n",
       "      <td>22</td>\n",
       "      <td>0.058275</td>\n",
       "      <td>0.148930</td>\n",
       "      <td>0.703266</td>\n",
       "      <td>0.006724</td>\n",
       "      <td>NaN</td>\n",
       "    </tr>\n",
       "  </tbody>\n",
       "</table>\n",
       "</div>"
      ],
      "text/plain": [
       "        Source        SS  DF1  DF2        MS         F     p-unc       np2  \\\n",
       "0    condition  0.393939    1   22  0.393939  0.389116  0.539179  0.017380   \n",
       "1         mode  0.333333    1   22  0.333333  0.851882  0.366033  0.037278   \n",
       "2  Interaction  0.058275    1   22  0.058275  0.148930  0.703266  0.006724   \n",
       "\n",
       "   eps  \n",
       "0  NaN  \n",
       "1  1.0  \n",
       "2  NaN  "
      ]
     },
     "execution_count": 15,
     "metadata": {},
     "output_type": "execute_result"
    }
   ],
   "source": [
    "area_two = pd.melt(df.reset_index(), id_vars=['ID', 'condition'], value_vars=['H_2_MS', 'FP_2_MS'])\n",
    "area_two = area_two.rename(columns={\"variable\" : 'mode', \"value\" : \"rating\"})\n",
    "area_two.replace({'mode': {'H_2_MS': 'Hybrid', 'FP_2_MS': 'First Person'},\n",
    "               'condition': {1: 'Blob', 0: 'Avatar'}}, inplace=True)\n",
    "\n",
    "area_two_anova = pg.mixed_anova(dv='rating', between='condition', within='mode', subject='ID', data=area_two)\n",
    "area_two_anova"
   ]
  },
  {
   "cell_type": "code",
   "execution_count": 16,
   "id": "e83b0471",
   "metadata": {
    "scrolled": false
   },
   "outputs": [
    {
     "data": {
      "text/html": [
       "<div>\n",
       "<style scoped>\n",
       "    .dataframe tbody tr th:only-of-type {\n",
       "        vertical-align: middle;\n",
       "    }\n",
       "\n",
       "    .dataframe tbody tr th {\n",
       "        vertical-align: top;\n",
       "    }\n",
       "\n",
       "    .dataframe thead th {\n",
       "        text-align: right;\n",
       "    }\n",
       "</style>\n",
       "<table border=\"1\" class=\"dataframe\">\n",
       "  <thead>\n",
       "    <tr style=\"text-align: right;\">\n",
       "      <th></th>\n",
       "      <th></th>\n",
       "      <th>count</th>\n",
       "      <th>mean</th>\n",
       "      <th>std</th>\n",
       "    </tr>\n",
       "    <tr>\n",
       "      <th>condition</th>\n",
       "      <th>mode</th>\n",
       "      <th></th>\n",
       "      <th></th>\n",
       "      <th></th>\n",
       "    </tr>\n",
       "  </thead>\n",
       "  <tbody>\n",
       "    <tr>\n",
       "      <th rowspan=\"2\" valign=\"top\">Avatar</th>\n",
       "      <th>First Person</th>\n",
       "      <td>11.0</td>\n",
       "      <td>0.272727</td>\n",
       "      <td>0.467099</td>\n",
       "    </tr>\n",
       "    <tr>\n",
       "      <th>Hybrid</th>\n",
       "      <td>11.0</td>\n",
       "      <td>0.363636</td>\n",
       "      <td>0.924416</td>\n",
       "    </tr>\n",
       "    <tr>\n",
       "      <th rowspan=\"2\" valign=\"top\">Blob</th>\n",
       "      <th>First Person</th>\n",
       "      <td>13.0</td>\n",
       "      <td>0.384615</td>\n",
       "      <td>0.767948</td>\n",
       "    </tr>\n",
       "    <tr>\n",
       "      <th>Hybrid</th>\n",
       "      <td>13.0</td>\n",
       "      <td>0.615385</td>\n",
       "      <td>1.043908</td>\n",
       "    </tr>\n",
       "  </tbody>\n",
       "</table>\n",
       "</div>"
      ],
      "text/plain": [
       "                        count      mean       std\n",
       "condition mode                                   \n",
       "Avatar    First Person   11.0  0.272727  0.467099\n",
       "          Hybrid         11.0  0.363636  0.924416\n",
       "Blob      First Person   13.0  0.384615  0.767948\n",
       "          Hybrid         13.0  0.615385  1.043908"
      ]
     },
     "execution_count": 16,
     "metadata": {},
     "output_type": "execute_result"
    }
   ],
   "source": [
    "summarize(area_two, \"rating\")"
   ]
  },
  {
   "cell_type": "code",
   "execution_count": 17,
   "id": "262f15c1",
   "metadata": {},
   "outputs": [],
   "source": [
    "# if interaction is significant, create interaction plot\n",
    "if area_two_anova[\"p-unc\"].tolist()[-1] < sig_level:\n",
    "    fig, ax = plt.subplots(figsize=(4,4))\n",
    "    interact_plot(area_two, \"rating\", \"Interaction Condition x Mode (Area 2)\", ax=ax)"
   ]
  },
  {
   "cell_type": "markdown",
   "id": "c97bd9b8",
   "metadata": {},
   "source": [
    "### Area 3"
   ]
  },
  {
   "cell_type": "code",
   "execution_count": 18,
   "id": "9efecd62",
   "metadata": {},
   "outputs": [
    {
     "data": {
      "text/html": [
       "<div>\n",
       "<style scoped>\n",
       "    .dataframe tbody tr th:only-of-type {\n",
       "        vertical-align: middle;\n",
       "    }\n",
       "\n",
       "    .dataframe tbody tr th {\n",
       "        vertical-align: top;\n",
       "    }\n",
       "\n",
       "    .dataframe thead th {\n",
       "        text-align: right;\n",
       "    }\n",
       "</style>\n",
       "<table border=\"1\" class=\"dataframe\">\n",
       "  <thead>\n",
       "    <tr style=\"text-align: right;\">\n",
       "      <th></th>\n",
       "      <th>Source</th>\n",
       "      <th>SS</th>\n",
       "      <th>DF1</th>\n",
       "      <th>DF2</th>\n",
       "      <th>MS</th>\n",
       "      <th>F</th>\n",
       "      <th>p-unc</th>\n",
       "      <th>np2</th>\n",
       "      <th>eps</th>\n",
       "    </tr>\n",
       "  </thead>\n",
       "  <tbody>\n",
       "    <tr>\n",
       "      <th>0</th>\n",
       "      <td>condition</td>\n",
       "      <td>0.149184</td>\n",
       "      <td>1</td>\n",
       "      <td>22</td>\n",
       "      <td>0.149184</td>\n",
       "      <td>0.085209</td>\n",
       "      <td>0.773093</td>\n",
       "      <td>0.003858</td>\n",
       "      <td>NaN</td>\n",
       "    </tr>\n",
       "    <tr>\n",
       "      <th>1</th>\n",
       "      <td>mode</td>\n",
       "      <td>0.333333</td>\n",
       "      <td>1</td>\n",
       "      <td>22</td>\n",
       "      <td>0.333333</td>\n",
       "      <td>0.494654</td>\n",
       "      <td>0.489236</td>\n",
       "      <td>0.021990</td>\n",
       "      <td>1.0</td>\n",
       "    </tr>\n",
       "    <tr>\n",
       "      <th>2</th>\n",
       "      <td>Interaction</td>\n",
       "      <td>0.841492</td>\n",
       "      <td>1</td>\n",
       "      <td>22</td>\n",
       "      <td>0.841492</td>\n",
       "      <td>1.248742</td>\n",
       "      <td>0.275848</td>\n",
       "      <td>0.053712</td>\n",
       "      <td>NaN</td>\n",
       "    </tr>\n",
       "  </tbody>\n",
       "</table>\n",
       "</div>"
      ],
      "text/plain": [
       "        Source        SS  DF1  DF2        MS         F     p-unc       np2  \\\n",
       "0    condition  0.149184    1   22  0.149184  0.085209  0.773093  0.003858   \n",
       "1         mode  0.333333    1   22  0.333333  0.494654  0.489236  0.021990   \n",
       "2  Interaction  0.841492    1   22  0.841492  1.248742  0.275848  0.053712   \n",
       "\n",
       "   eps  \n",
       "0  NaN  \n",
       "1  1.0  \n",
       "2  NaN  "
      ]
     },
     "execution_count": 18,
     "metadata": {},
     "output_type": "execute_result"
    }
   ],
   "source": [
    "area_three = pd.melt(df.reset_index(), id_vars=['ID', 'condition'], value_vars=['H_3_MS', 'FP_3_MS'])\n",
    "area_three = area_three.rename(columns={\"variable\" : 'mode', \"value\" : \"rating\"})\n",
    "area_three.replace({'mode': {'H_3_MS': 'Hybrid', 'FP_3_MS': 'First Person'},\n",
    "               'condition': {1: 'Blob', 0: 'Avatar'}}, inplace=True)\n",
    "\n",
    "area_three_anova = pg.mixed_anova(dv='rating', between='condition', within='mode', subject='ID', data=area_three)\n",
    "area_three_anova"
   ]
  },
  {
   "cell_type": "code",
   "execution_count": 19,
   "id": "2c72b9f1",
   "metadata": {
    "scrolled": true
   },
   "outputs": [
    {
     "data": {
      "text/html": [
       "<div>\n",
       "<style scoped>\n",
       "    .dataframe tbody tr th:only-of-type {\n",
       "        vertical-align: middle;\n",
       "    }\n",
       "\n",
       "    .dataframe tbody tr th {\n",
       "        vertical-align: top;\n",
       "    }\n",
       "\n",
       "    .dataframe thead th {\n",
       "        text-align: right;\n",
       "    }\n",
       "</style>\n",
       "<table border=\"1\" class=\"dataframe\">\n",
       "  <thead>\n",
       "    <tr style=\"text-align: right;\">\n",
       "      <th></th>\n",
       "      <th></th>\n",
       "      <th>count</th>\n",
       "      <th>mean</th>\n",
       "      <th>std</th>\n",
       "    </tr>\n",
       "    <tr>\n",
       "      <th>condition</th>\n",
       "      <th>mode</th>\n",
       "      <th></th>\n",
       "      <th></th>\n",
       "      <th></th>\n",
       "    </tr>\n",
       "  </thead>\n",
       "  <tbody>\n",
       "    <tr>\n",
       "      <th rowspan=\"2\" valign=\"top\">Avatar</th>\n",
       "      <th>First Person</th>\n",
       "      <td>11.0</td>\n",
       "      <td>1.000000</td>\n",
       "      <td>1.183216</td>\n",
       "    </tr>\n",
       "    <tr>\n",
       "      <th>Hybrid</th>\n",
       "      <td>11.0</td>\n",
       "      <td>0.545455</td>\n",
       "      <td>0.934199</td>\n",
       "    </tr>\n",
       "    <tr>\n",
       "      <th rowspan=\"2\" valign=\"top\">Blob</th>\n",
       "      <th>First Person</th>\n",
       "      <td>13.0</td>\n",
       "      <td>0.846154</td>\n",
       "      <td>0.987096</td>\n",
       "    </tr>\n",
       "    <tr>\n",
       "      <th>Hybrid</th>\n",
       "      <td>13.0</td>\n",
       "      <td>0.923077</td>\n",
       "      <td>1.255756</td>\n",
       "    </tr>\n",
       "  </tbody>\n",
       "</table>\n",
       "</div>"
      ],
      "text/plain": [
       "                        count      mean       std\n",
       "condition mode                                   \n",
       "Avatar    First Person   11.0  1.000000  1.183216\n",
       "          Hybrid         11.0  0.545455  0.934199\n",
       "Blob      First Person   13.0  0.846154  0.987096\n",
       "          Hybrid         13.0  0.923077  1.255756"
      ]
     },
     "execution_count": 19,
     "metadata": {},
     "output_type": "execute_result"
    }
   ],
   "source": [
    "summarize(area_three, \"rating\")"
   ]
  },
  {
   "cell_type": "code",
   "execution_count": 20,
   "id": "5ee23c0a",
   "metadata": {},
   "outputs": [],
   "source": [
    "# if interaction is significant, create interaction plot\n",
    "if area_three_anova[\"p-unc\"].tolist()[-1] < sig_level:\n",
    "    fig, ax = plt.subplots(figsize=(4,4))\n",
    "    interact_plot(area_three, \"rating\", \"Interaction Condition x Mode (Area 3)\", ax=ax)"
   ]
  },
  {
   "cell_type": "markdown",
   "id": "eb3baaad",
   "metadata": {},
   "source": [
    "### Area 4"
   ]
  },
  {
   "cell_type": "code",
   "execution_count": 21,
   "id": "8700951f",
   "metadata": {},
   "outputs": [
    {
     "data": {
      "text/html": [
       "<div>\n",
       "<style scoped>\n",
       "    .dataframe tbody tr th:only-of-type {\n",
       "        vertical-align: middle;\n",
       "    }\n",
       "\n",
       "    .dataframe tbody tr th {\n",
       "        vertical-align: top;\n",
       "    }\n",
       "\n",
       "    .dataframe thead th {\n",
       "        text-align: right;\n",
       "    }\n",
       "</style>\n",
       "<table border=\"1\" class=\"dataframe\">\n",
       "  <thead>\n",
       "    <tr style=\"text-align: right;\">\n",
       "      <th></th>\n",
       "      <th>Source</th>\n",
       "      <th>SS</th>\n",
       "      <th>DF1</th>\n",
       "      <th>DF2</th>\n",
       "      <th>MS</th>\n",
       "      <th>F</th>\n",
       "      <th>p-unc</th>\n",
       "      <th>np2</th>\n",
       "      <th>eps</th>\n",
       "    </tr>\n",
       "  </thead>\n",
       "  <tbody>\n",
       "    <tr>\n",
       "      <th>0</th>\n",
       "      <td>condition</td>\n",
       "      <td>2.655157</td>\n",
       "      <td>1</td>\n",
       "      <td>22</td>\n",
       "      <td>2.655157</td>\n",
       "      <td>0.674074</td>\n",
       "      <td>0.420443</td>\n",
       "      <td>0.029729</td>\n",
       "      <td>NaN</td>\n",
       "    </tr>\n",
       "    <tr>\n",
       "      <th>1</th>\n",
       "      <td>mode</td>\n",
       "      <td>0.187500</td>\n",
       "      <td>1</td>\n",
       "      <td>22</td>\n",
       "      <td>0.187500</td>\n",
       "      <td>0.603144</td>\n",
       "      <td>0.445651</td>\n",
       "      <td>0.026684</td>\n",
       "      <td>1.0</td>\n",
       "    </tr>\n",
       "    <tr>\n",
       "      <th>2</th>\n",
       "      <td>Interaction</td>\n",
       "      <td>0.473339</td>\n",
       "      <td>1</td>\n",
       "      <td>22</td>\n",
       "      <td>0.473339</td>\n",
       "      <td>1.522623</td>\n",
       "      <td>0.230243</td>\n",
       "      <td>0.064730</td>\n",
       "      <td>NaN</td>\n",
       "    </tr>\n",
       "  </tbody>\n",
       "</table>\n",
       "</div>"
      ],
      "text/plain": [
       "        Source        SS  DF1  DF2        MS         F     p-unc       np2  \\\n",
       "0    condition  2.655157    1   22  2.655157  0.674074  0.420443  0.029729   \n",
       "1         mode  0.187500    1   22  0.187500  0.603144  0.445651  0.026684   \n",
       "2  Interaction  0.473339    1   22  0.473339  1.522623  0.230243  0.064730   \n",
       "\n",
       "   eps  \n",
       "0  NaN  \n",
       "1  1.0  \n",
       "2  NaN  "
      ]
     },
     "execution_count": 21,
     "metadata": {},
     "output_type": "execute_result"
    }
   ],
   "source": [
    "area_four = pd.melt(df.reset_index(), id_vars=['ID', 'condition'], value_vars=['H_4_MS', 'FP_4_MS'])\n",
    "area_four = area_four.rename(columns={\"variable\" : 'mode', \"value\" : \"rating\"})\n",
    "area_four.replace({'mode': {'H_4_MS': 'Hybrid', 'FP_4_MS': 'First Person'},\n",
    "               'condition': {1: 'Blob', 0: 'Avatar'}}, inplace=True)\n",
    "\n",
    "area_four_anova = pg.mixed_anova(dv='rating', between='condition', within='mode', subject='ID', data=area_four)\n",
    "area_four_anova"
   ]
  },
  {
   "cell_type": "code",
   "execution_count": 22,
   "id": "8ad7caa6",
   "metadata": {
    "scrolled": true
   },
   "outputs": [
    {
     "data": {
      "text/html": [
       "<div>\n",
       "<style scoped>\n",
       "    .dataframe tbody tr th:only-of-type {\n",
       "        vertical-align: middle;\n",
       "    }\n",
       "\n",
       "    .dataframe tbody tr th {\n",
       "        vertical-align: top;\n",
       "    }\n",
       "\n",
       "    .dataframe thead th {\n",
       "        text-align: right;\n",
       "    }\n",
       "</style>\n",
       "<table border=\"1\" class=\"dataframe\">\n",
       "  <thead>\n",
       "    <tr style=\"text-align: right;\">\n",
       "      <th></th>\n",
       "      <th></th>\n",
       "      <th>count</th>\n",
       "      <th>mean</th>\n",
       "      <th>std</th>\n",
       "    </tr>\n",
       "    <tr>\n",
       "      <th>condition</th>\n",
       "      <th>mode</th>\n",
       "      <th></th>\n",
       "      <th></th>\n",
       "      <th></th>\n",
       "    </tr>\n",
       "  </thead>\n",
       "  <tbody>\n",
       "    <tr>\n",
       "      <th rowspan=\"2\" valign=\"top\">Avatar</th>\n",
       "      <th>First Person</th>\n",
       "      <td>11.0</td>\n",
       "      <td>0.636364</td>\n",
       "      <td>1.026911</td>\n",
       "    </tr>\n",
       "    <tr>\n",
       "      <th>Hybrid</th>\n",
       "      <td>11.0</td>\n",
       "      <td>0.727273</td>\n",
       "      <td>1.420627</td>\n",
       "    </tr>\n",
       "    <tr>\n",
       "      <th rowspan=\"2\" valign=\"top\">Blob</th>\n",
       "      <th>First Person</th>\n",
       "      <td>13.0</td>\n",
       "      <td>1.307692</td>\n",
       "      <td>1.843213</td>\n",
       "    </tr>\n",
       "    <tr>\n",
       "      <th>Hybrid</th>\n",
       "      <td>13.0</td>\n",
       "      <td>1.000000</td>\n",
       "      <td>1.354006</td>\n",
       "    </tr>\n",
       "  </tbody>\n",
       "</table>\n",
       "</div>"
      ],
      "text/plain": [
       "                        count      mean       std\n",
       "condition mode                                   \n",
       "Avatar    First Person   11.0  0.636364  1.026911\n",
       "          Hybrid         11.0  0.727273  1.420627\n",
       "Blob      First Person   13.0  1.307692  1.843213\n",
       "          Hybrid         13.0  1.000000  1.354006"
      ]
     },
     "execution_count": 22,
     "metadata": {},
     "output_type": "execute_result"
    }
   ],
   "source": [
    "summarize(area_four, \"rating\")"
   ]
  },
  {
   "cell_type": "code",
   "execution_count": 23,
   "id": "795a5f53",
   "metadata": {},
   "outputs": [],
   "source": [
    "# if interaction is significant, create interaction plot\n",
    "if area_four_anova[\"p-unc\"].tolist()[-1] < sig_level:\n",
    "    fig, ax = plt.subplots(figsize=(4,4))\n",
    "    interact_plot(area_four, \"rating\", \"Interaction Condition x Mode (Area 4)\", ax=ax)"
   ]
  },
  {
   "cell_type": "markdown",
   "id": "312ef6f9",
   "metadata": {},
   "source": [
    "### Plot ratings for each area"
   ]
  },
  {
   "cell_type": "code",
   "execution_count": 24,
   "id": "021d0a51",
   "metadata": {},
   "outputs": [
    {
     "data": {
      "image/png": "[encoded data removed]",
      "text/plain": [
       "<Figure size 864x576 with 4 Axes>"
      ]
     },
     "metadata": {
      "needs_background": "light"
     },
     "output_type": "display_data"
    }
   ],
   "source": [
    "fig, ax = plt.subplots(nrows=2, ncols=2, figsize=(12,8), sharey=True)\n",
    "plt.subplots_adjust(hspace=0.4)\n",
    "fig.suptitle('Motion Sickness Ratings', fontsize=20)\n",
    "\n",
    "ax = ax.ravel()\n",
    "\n",
    "boxplot(area_one, \"rating\", \"Area 1\", ax[0], legend=False)\n",
    "boxplot(area_two, \"rating\", \"Area 2\", ax[1])\n",
    "boxplot(area_three, \"rating\", \"Area 3\", ax[2], legend=False)\n",
    "boxplot(area_four, \"rating\", \"Area 4\", ax[3], legend=False)\n",
    "\n",
    "ax[0].set_xlabel(\"\")\n",
    "ax[1].set_xlabel(\"\")\n",
    "ax[1].set_ylabel(\"\")\n",
    "ax[3].set_ylabel(\"\")\n",
    "\n",
    "plt.draw()"
   ]
  },
  {
   "cell_type": "markdown",
   "id": "3dfc32ec",
   "metadata": {},
   "source": [
    "## Simulator Sickness\n",
    "\n",
    "Subscales:\n",
    "- Oculomotor (O)\n",
    "- Disorientation (D)\n",
    "- Nausea (N)\n",
    "\n",
    "## Effect of condition and mode on SSQ (total score)"
   ]
  },
  {
   "cell_type": "code",
   "execution_count": 25,
   "id": "76d28b1f",
   "metadata": {},
   "outputs": [
    {
     "data": {
      "text/html": [
       "<div>\n",
       "<style scoped>\n",
       "    .dataframe tbody tr th:only-of-type {\n",
       "        vertical-align: middle;\n",
       "    }\n",
       "\n",
       "    .dataframe tbody tr th {\n",
       "        vertical-align: top;\n",
       "    }\n",
       "\n",
       "    .dataframe thead th {\n",
       "        text-align: right;\n",
       "    }\n",
       "</style>\n",
       "<table border=\"1\" class=\"dataframe\">\n",
       "  <thead>\n",
       "    <tr style=\"text-align: right;\">\n",
       "      <th></th>\n",
       "      <th>Source</th>\n",
       "      <th>SS</th>\n",
       "      <th>DF1</th>\n",
       "      <th>DF2</th>\n",
       "      <th>MS</th>\n",
       "      <th>F</th>\n",
       "      <th>p-unc</th>\n",
       "      <th>np2</th>\n",
       "      <th>eps</th>\n",
       "    </tr>\n",
       "  </thead>\n",
       "  <tbody>\n",
       "    <tr>\n",
       "      <th>0</th>\n",
       "      <td>condition</td>\n",
       "      <td>53319.292143</td>\n",
       "      <td>1</td>\n",
       "      <td>22</td>\n",
       "      <td>53319.292143</td>\n",
       "      <td>0.598020</td>\n",
       "      <td>0.447565</td>\n",
       "      <td>0.026463</td>\n",
       "      <td>NaN</td>\n",
       "    </tr>\n",
       "    <tr>\n",
       "      <th>1</th>\n",
       "      <td>mode</td>\n",
       "      <td>2970.302295</td>\n",
       "      <td>1</td>\n",
       "      <td>22</td>\n",
       "      <td>2970.302295</td>\n",
       "      <td>0.466857</td>\n",
       "      <td>0.501570</td>\n",
       "      <td>0.020780</td>\n",
       "      <td>1.0</td>\n",
       "    </tr>\n",
       "    <tr>\n",
       "      <th>2</th>\n",
       "      <td>Interaction</td>\n",
       "      <td>19826.788504</td>\n",
       "      <td>1</td>\n",
       "      <td>22</td>\n",
       "      <td>19826.788504</td>\n",
       "      <td>3.116271</td>\n",
       "      <td>0.091392</td>\n",
       "      <td>0.124074</td>\n",
       "      <td>NaN</td>\n",
       "    </tr>\n",
       "  </tbody>\n",
       "</table>\n",
       "</div>"
      ],
      "text/plain": [
       "        Source            SS  DF1  DF2            MS         F     p-unc  \\\n",
       "0    condition  53319.292143    1   22  53319.292143  0.598020  0.447565   \n",
       "1         mode   2970.302295    1   22   2970.302295  0.466857  0.501570   \n",
       "2  Interaction  19826.788504    1   22  19826.788504  3.116271  0.091392   \n",
       "\n",
       "        np2  eps  \n",
       "0  0.026463  NaN  \n",
       "1  0.020780  1.0  \n",
       "2  0.124074  NaN  "
      ]
     },
     "execution_count": 25,
     "metadata": {},
     "output_type": "execute_result"
    }
   ],
   "source": [
    "ssq = pd.melt(df.reset_index(), id_vars=['ID', 'condition'], value_vars=['SSQ_TS_H', 'SSQ_TS_FP'])\n",
    "ssq = ssq.rename(columns={\"variable\" : 'mode', \"value\" : \"score\"})\n",
    "ssq.replace({'mode': {'SSQ_TS_H': 'Hybrid', 'SSQ_TS_FP': 'First Person'},\n",
    "               'condition': {1: 'Blob', 0: 'Avatar'}}, inplace=True)\n",
    "\n",
    "ssq_anova = pg.mixed_anova(dv='score', between='condition', within='mode', subject='ID', data=ssq)\n",
    "ssq_anova"
   ]
  },
  {
   "cell_type": "code",
   "execution_count": 26,
   "id": "821a940a",
   "metadata": {},
   "outputs": [
    {
     "data": {
      "text/html": [
       "<div>\n",
       "<style scoped>\n",
       "    .dataframe tbody tr th:only-of-type {\n",
       "        vertical-align: middle;\n",
       "    }\n",
       "\n",
       "    .dataframe tbody tr th {\n",
       "        vertical-align: top;\n",
       "    }\n",
       "\n",
       "    .dataframe thead th {\n",
       "        text-align: right;\n",
       "    }\n",
       "</style>\n",
       "<table border=\"1\" class=\"dataframe\">\n",
       "  <thead>\n",
       "    <tr style=\"text-align: right;\">\n",
       "      <th></th>\n",
       "      <th></th>\n",
       "      <th>count</th>\n",
       "      <th>mean</th>\n",
       "      <th>std</th>\n",
       "    </tr>\n",
       "    <tr>\n",
       "      <th>condition</th>\n",
       "      <th>mode</th>\n",
       "      <th></th>\n",
       "      <th></th>\n",
       "      <th></th>\n",
       "    </tr>\n",
       "  </thead>\n",
       "  <tbody>\n",
       "    <tr>\n",
       "      <th rowspan=\"2\" valign=\"top\">Avatar</th>\n",
       "      <th>First Person</th>\n",
       "      <td>11.0</td>\n",
       "      <td>221.136000</td>\n",
       "      <td>151.217210</td>\n",
       "    </tr>\n",
       "    <tr>\n",
       "      <th>Hybrid</th>\n",
       "      <td>11.0</td>\n",
       "      <td>161.214400</td>\n",
       "      <td>127.958286</td>\n",
       "    </tr>\n",
       "    <tr>\n",
       "      <th rowspan=\"2\" valign=\"top\">Blob</th>\n",
       "      <th>First Person</th>\n",
       "      <td>13.0</td>\n",
       "      <td>247.237015</td>\n",
       "      <td>242.347562</td>\n",
       "    </tr>\n",
       "    <tr>\n",
       "      <th>Hybrid</th>\n",
       "      <td>13.0</td>\n",
       "      <td>268.894492</td>\n",
       "      <td>289.294909</td>\n",
       "    </tr>\n",
       "  </tbody>\n",
       "</table>\n",
       "</div>"
      ],
      "text/plain": [
       "                        count        mean         std\n",
       "condition mode                                       \n",
       "Avatar    First Person   11.0  221.136000  151.217210\n",
       "          Hybrid         11.0  161.214400  127.958286\n",
       "Blob      First Person   13.0  247.237015  242.347562\n",
       "          Hybrid         13.0  268.894492  289.294909"
      ]
     },
     "execution_count": 26,
     "metadata": {},
     "output_type": "execute_result"
    }
   ],
   "source": [
    "summarize(ssq, \"score\")"
   ]
  },
  {
   "cell_type": "code",
   "execution_count": 27,
   "id": "f67b3f18",
   "metadata": {
    "scrolled": true
   },
   "outputs": [
    {
     "data": {
      "image/png": "[encoded data removed]",
      "text/plain": [
       "<Figure size 288x288 with 1 Axes>"
      ]
     },
     "metadata": {
      "needs_background": "light"
     },
     "output_type": "display_data"
    }
   ],
   "source": [
    "fig, ax = plt.subplots(figsize=(4,4))\n",
    "boxplot(ssq, \"score\", \"SSQ total score\", ax)"
   ]
  },
  {
   "cell_type": "code",
   "execution_count": 28,
   "id": "ba24c40d",
   "metadata": {},
   "outputs": [],
   "source": [
    "# if interaction is significant, create interaction plot\n",
    "if ssq_anova[\"p-unc\"].tolist()[-1] < sig_level:\n",
    "    fig, ax = plt.subplots(figsize=(4,4))\n",
    "    interact_plot(ssq, \"score\", \"Interaction Condition x Mode (SSQ Total Score)\", ax=ax)"
   ]
  },
  {
   "cell_type": "markdown",
   "id": "37095a6d",
   "metadata": {},
   "source": [
    "## Assumption Check Motion Sickness"
   ]
  },
  {
   "cell_type": "code",
   "execution_count": 39,
   "id": "96c48c5a",
   "metadata": {},
   "outputs": [
    {
     "name": "stdout",
     "output_type": "stream",
     "text": [
      "Checking the assumptions for the dependent variable MS Total Score...\n",
      "\n",
      "The residuals are NOT approximately normally distributed for each level of the within-subjects factor! (tested using the Shapiro-Wilks Test)\n",
      "\n",
      "There should be equal variance for every level of within-subject factor:\n",
      "For the level Hybrid, Levene's test resulted in a p-value of 0.532, indicating that the assumption of equal variances is True.\n",
      "For the level First Person, Levene's test resulted in a p-value of 0.532, indicating that the assumption of equal variances is True.\n",
      "\n",
      "Mauchly’s test of sphericity resulted in a p-value of 1.0, indicating that the assumption is True.\n",
      "\n",
      "The homogeneity of variance-covariance matrices formed by the between-subject factor for each level of the within-subject factor should be equal:\n",
      "For the level First Person, Box’s M test resulted in a p-value of 0.579, indicating that the assumption is True.\n",
      "For the level Hybrid, Box’s M test resulted in a p-value of 0.765, indicating that the assumption is True.\n",
      "\n",
      "A data point is called an outlier if it > 3 sd away from the mean.\n",
      "There are no outliers!\n"
     ]
    }
   ],
   "source": [
    "check_assumptions(ms, 'rating', \"MS Total Score\")"
   ]
  },
  {
   "cell_type": "code",
   "execution_count": 40,
   "id": "2f24d88a",
   "metadata": {},
   "outputs": [
    {
     "name": "stdout",
     "output_type": "stream",
     "text": [
      "Checking the assumptions for the dependent variable MS ratings Area 1...\n",
      "\n",
      "The residuals are NOT approximately normally distributed for each level of the within-subjects factor! (tested using the Shapiro-Wilks Test)\n",
      "\n",
      "There should be equal variance for every level of within-subject factor:\n",
      "For the level Hybrid, Levene's test resulted in a p-value of 0.732, indicating that the assumption of equal variances is True.\n",
      "For the level First Person, Levene's test resulted in a p-value of 0.896, indicating that the assumption of equal variances is True.\n",
      "\n",
      "Mauchly’s test of sphericity resulted in a p-value of 1.0, indicating that the assumption is True.\n",
      "\n",
      "The homogeneity of variance-covariance matrices formed by the between-subject factor for each level of the within-subject factor should be equal:\n",
      "For the level First Person, Box’s M test resulted in a p-value of 0.587, indicating that the assumption is True.\n",
      "For the level Hybrid, Box’s M test resulted in a p-value of 0.99, indicating that the assumption is True.\n",
      "\n",
      "A data point is called an outlier if it > 3 sd away from the mean.\n",
      "There are no outliers!\n"
     ]
    }
   ],
   "source": [
    "check_assumptions(area_one, 'rating', \"MS ratings Area 1\")"
   ]
  },
  {
   "cell_type": "code",
   "execution_count": 41,
   "id": "fc905116",
   "metadata": {},
   "outputs": [
    {
     "name": "stdout",
     "output_type": "stream",
     "text": [
      "Checking the assumptions for the dependent variable MS ratings Area 2...\n",
      "\n",
      "The residuals are NOT approximately normally distributed for each level of the within-subjects factor! (tested using the Shapiro-Wilks Test)\n",
      "\n",
      "There should be equal variance for every level of within-subject factor:\n",
      "For the level Hybrid, Levene's test resulted in a p-value of 0.542, indicating that the assumption of equal variances is True.\n",
      "For the level First Person, Levene's test resulted in a p-value of 0.678, indicating that the assumption of equal variances is True.\n",
      "\n",
      "Mauchly’s test of sphericity resulted in a p-value of 1.0, indicating that the assumption is True.\n",
      "\n",
      "The homogeneity of variance-covariance matrices formed by the between-subject factor for each level of the within-subject factor should be equal:\n",
      "For the level First Person, Box’s M test resulted in a p-value of 0.121, indicating that the assumption is True.\n",
      "For the level Hybrid, Box’s M test resulted in a p-value of 0.696, indicating that the assumption is True.\n",
      "\n",
      "A data point is called an outlier if it > 3 sd away from the mean.\n",
      "There are outliers! The outliers are the participants [ 4 11]\n"
     ]
    }
   ],
   "source": [
    "check_assumptions(area_two, 'rating', \"MS ratings Area 2\")"
   ]
  },
  {
   "cell_type": "code",
   "execution_count": 42,
   "id": "1098baa8",
   "metadata": {},
   "outputs": [
    {
     "name": "stdout",
     "output_type": "stream",
     "text": [
      "Checking the assumptions for the dependent variable MS ratings Area 3...\n",
      "\n",
      "The residuals are NOT approximately normally distributed for each level of the within-subjects factor! (tested using the Shapiro-Wilks Test)\n",
      "\n",
      "There should be equal variance for every level of within-subject factor:\n",
      "For the level Hybrid, Levene's test resulted in a p-value of 0.42, indicating that the assumption of equal variances is True.\n",
      "For the level First Person, Levene's test resulted in a p-value of 0.603, indicating that the assumption of equal variances is True.\n",
      "\n",
      "Mauchly’s test of sphericity resulted in a p-value of 1.0, indicating that the assumption is True.\n",
      "\n",
      "The homogeneity of variance-covariance matrices formed by the between-subject factor for each level of the within-subject factor should be equal:\n",
      "For the level First Person, Box’s M test resulted in a p-value of 0.558, indicating that the assumption is True.\n",
      "For the level Hybrid, Box’s M test resulted in a p-value of 0.348, indicating that the assumption is True.\n",
      "\n",
      "A data point is called an outlier if it > 3 sd away from the mean.\n",
      "There are no outliers!\n"
     ]
    }
   ],
   "source": [
    "check_assumptions(area_three, 'rating', \"MS ratings Area 3\")"
   ]
  },
  {
   "cell_type": "code",
   "execution_count": 43,
   "id": "dea51f28",
   "metadata": {},
   "outputs": [
    {
     "name": "stdout",
     "output_type": "stream",
     "text": [
      "Checking the assumptions for the dependent variable MS ratings Area 4...\n",
      "\n",
      "The residuals are NOT approximately normally distributed for each level of the within-subjects factor! (tested using the Shapiro-Wilks Test)\n",
      "\n",
      "There should be equal variance for every level of within-subject factor:\n",
      "For the level Hybrid, Levene's test resulted in a p-value of 0.635, indicating that the assumption of equal variances is True.\n",
      "For the level First Person, Levene's test resulted in a p-value of 0.295, indicating that the assumption of equal variances is True.\n",
      "\n",
      "Mauchly’s test of sphericity resulted in a p-value of 1.0, indicating that the assumption is True.\n",
      "\n",
      "The homogeneity of variance-covariance matrices formed by the between-subject factor for each level of the within-subject factor should be equal:\n",
      "For the level First Person, Box’s M test resulted in a p-value of 0.071, indicating that the assumption is True.\n",
      "For the level Hybrid, Box’s M test resulted in a p-value of 0.877, indicating that the assumption is True.\n",
      "\n",
      "A data point is called an outlier if it > 3 sd away from the mean.\n",
      "There are outliers! The outliers are the participants [11]\n"
     ]
    }
   ],
   "source": [
    "check_assumptions(area_four, 'rating', \"MS ratings Area 4\")"
   ]
  },
  {
   "cell_type": "code",
   "execution_count": 44,
   "id": "5d8b5f8e",
   "metadata": {
    "scrolled": true
   },
   "outputs": [
    {
     "name": "stdout",
     "output_type": "stream",
     "text": [
      "Checking the assumptions for the dependent variable SSQ Total Score...\n",
      "\n",
      "The residuals are NOT approximately normally distributed for each level of the within-subjects factor! (tested using the Shapiro-Wilks Test)\n",
      "\n",
      "There should be equal variance for every level of within-subject factor:\n",
      "For the level Hybrid, Levene's test resulted in a p-value of 0.084, indicating that the assumption of equal variances is True.\n",
      "For the level First Person, Levene's test resulted in a p-value of 0.067, indicating that the assumption of equal variances is True.\n",
      "\n",
      "Mauchly’s test of sphericity resulted in a p-value of 1.0, indicating that the assumption is True.\n",
      "\n",
      "The homogeneity of variance-covariance matrices formed by the between-subject factor for each level of the within-subject factor should be equal:\n",
      "For the level First Person, Box’s M test resulted in a p-value of 0.14, indicating that the assumption is True.\n",
      "For the level Hybrid, Box’s M test resulted in a p-value of 0.014, indicating that the assumption is True.\n",
      "\n",
      "A data point is called an outlier if it > 3 sd away from the mean.\n",
      "There are outliers! The outliers are the participants [11]\n"
     ]
    }
   ],
   "source": [
    "check_assumptions(ssq, 'score', \"SSQ Total Score\")"
   ]
  },
  {
   "cell_type": "markdown",
   "id": "4cee47fd",
   "metadata": {},
   "source": [
    "## Correlations of the motion sickness variables"
   ]
  },
  {
   "cell_type": "code",
   "execution_count": 48,
   "id": "8ef94317",
   "metadata": {},
   "outputs": [
    {
     "data": {
      "image/png": "[encoded data removed]",
      "text/plain": [
       "<Figure size 288x288 with 1 Axes>"
      ]
     },
     "metadata": {
      "needs_background": "light"
     },
     "output_type": "display_data"
    },
    {
     "name": "stdout",
     "output_type": "stream",
     "text": [
      "Effect size according to Cohen: large\n"
     ]
    }
   ],
   "source": [
    "## THIS IS ALSO IN THE QUESTIONNAIRE DATA/ PLOTS NB\n",
    "fig, ax = plt.subplots(figsize=(4,4))\n",
    "x = df[[\"H_AVG_MS\", \"FP_AVG_MS\"]].mean(axis=1)\n",
    "y = df[\"SSQ_TS_AVG\"]\n",
    "corr = stats.pearsonr(x, y)\n",
    "sns.regplot(x=x, y=y, ax=ax, marker='o', color='navy')\n",
    "\n",
    "fig.suptitle(\"Correlation Between SSQ and MS Ratings\", fontsize=16, y=1.03)\n",
    "ax.set_title(\"Pearsonr = {}, p-val = {}\".format(corr[0].round(3), corr[1].round(3)), fontsize=13)\n",
    "ax.set_ylabel(\"SSQ average\",fontsize=16)\n",
    "ax.set_xlabel(\"In-game MS average\",fontsize=16)\n",
    "\n",
    "sns.despine()\n",
    "plt.show()\n",
    "\n",
    "eff = None\n",
    "if 0.1 <= corr[0] <= 0.3:\n",
    "    eff = \"small\"\n",
    "elif 0.3 < corr[0] <= 0.5:\n",
    "    eff = \"medium\"\n",
    "elif 0.5 < corr[0] <= 1.0:\n",
    "    eff = \"large\"\n",
    "\n",
    "if eff is not None:\n",
    "    print(\"Effect size according to Cohen: \" + eff)"
   ]
  },
  {
   "cell_type": "markdown",
   "id": "c66f9c1b",
   "metadata": {},
   "source": [
    "# Embodiment\n",
    "\n",
    "Subscales\n",
    "- Spatial Presence (SP)\n",
    " - environmental location (EL)\n",
    " - possible actions (PA)\n",
    "- Embodiment (EB)\n",
    " - self-location (SL)\n",
    " - agency (A)\n",
    " - ownership (O)\n",
    " \n",
    "-> We're only interested in the embodiment part"
   ]
  },
  {
   "cell_type": "markdown",
   "id": "99da3899",
   "metadata": {},
   "source": [
    "## Effect of condition and mode on EB (total score)"
   ]
  },
  {
   "cell_type": "code",
   "execution_count": 53,
   "id": "6f787f2f",
   "metadata": {},
   "outputs": [
    {
     "data": {
      "text/html": [
       "<div>\n",
       "<style scoped>\n",
       "    .dataframe tbody tr th:only-of-type {\n",
       "        vertical-align: middle;\n",
       "    }\n",
       "\n",
       "    .dataframe tbody tr th {\n",
       "        vertical-align: top;\n",
       "    }\n",
       "\n",
       "    .dataframe thead th {\n",
       "        text-align: right;\n",
       "    }\n",
       "</style>\n",
       "<table border=\"1\" class=\"dataframe\">\n",
       "  <thead>\n",
       "    <tr style=\"text-align: right;\">\n",
       "      <th></th>\n",
       "      <th>Source</th>\n",
       "      <th>SS</th>\n",
       "      <th>DF1</th>\n",
       "      <th>DF2</th>\n",
       "      <th>MS</th>\n",
       "      <th>F</th>\n",
       "      <th>p-unc</th>\n",
       "      <th>np2</th>\n",
       "      <th>eps</th>\n",
       "    </tr>\n",
       "  </thead>\n",
       "  <tbody>\n",
       "    <tr>\n",
       "      <th>0</th>\n",
       "      <td>condition</td>\n",
       "      <td>13.024621</td>\n",
       "      <td>1</td>\n",
       "      <td>22</td>\n",
       "      <td>13.024621</td>\n",
       "      <td>0.301796</td>\n",
       "      <td>0.588292</td>\n",
       "      <td>0.013532</td>\n",
       "      <td>NaN</td>\n",
       "    </tr>\n",
       "    <tr>\n",
       "      <th>1</th>\n",
       "      <td>mode</td>\n",
       "      <td>0.020833</td>\n",
       "      <td>1</td>\n",
       "      <td>22</td>\n",
       "      <td>0.020833</td>\n",
       "      <td>0.001759</td>\n",
       "      <td>0.966922</td>\n",
       "      <td>0.000080</td>\n",
       "      <td>1.0</td>\n",
       "    </tr>\n",
       "    <tr>\n",
       "      <th>2</th>\n",
       "      <td>Interaction</td>\n",
       "      <td>22.961684</td>\n",
       "      <td>1</td>\n",
       "      <td>22</td>\n",
       "      <td>22.961684</td>\n",
       "      <td>1.939052</td>\n",
       "      <td>0.177687</td>\n",
       "      <td>0.081000</td>\n",
       "      <td>NaN</td>\n",
       "    </tr>\n",
       "  </tbody>\n",
       "</table>\n",
       "</div>"
      ],
      "text/plain": [
       "        Source         SS  DF1  DF2         MS         F     p-unc       np2  \\\n",
       "0    condition  13.024621    1   22  13.024621  0.301796  0.588292  0.013532   \n",
       "1         mode   0.020833    1   22   0.020833  0.001759  0.966922  0.000080   \n",
       "2  Interaction  22.961684    1   22  22.961684  1.939052  0.177687  0.081000   \n",
       "\n",
       "   eps  \n",
       "0  NaN  \n",
       "1  1.0  \n",
       "2  NaN  "
      ]
     },
     "execution_count": 53,
     "metadata": {},
     "output_type": "execute_result"
    }
   ],
   "source": [
    "eb = pd.melt(df.reset_index(), id_vars=['ID', 'condition'], value_vars=['EB_EB_H', 'EB_EB_FP'])\n",
    "eb = eb.rename(columns={\"variable\" : 'mode', \"value\" : \"score\"})\n",
    "eb.replace({'mode': {'EB_EB_H': 'Hybrid', 'EB_EB_FP': 'First Person'},\n",
    "               'condition': {1: 'Blob', 0: 'Avatar'}}, inplace=True)\n",
    "\n",
    "eb_anova = pg.mixed_anova(dv='score', between='condition', within='mode', subject='ID', data=eb)\n",
    "eb_anova"
   ]
  },
  {
   "cell_type": "code",
   "execution_count": 54,
   "id": "e2c6d644",
   "metadata": {},
   "outputs": [
    {
     "data": {
      "text/html": [
       "<div>\n",
       "<style scoped>\n",
       "    .dataframe tbody tr th:only-of-type {\n",
       "        vertical-align: middle;\n",
       "    }\n",
       "\n",
       "    .dataframe tbody tr th {\n",
       "        vertical-align: top;\n",
       "    }\n",
       "\n",
       "    .dataframe thead th {\n",
       "        text-align: right;\n",
       "    }\n",
       "</style>\n",
       "<table border=\"1\" class=\"dataframe\">\n",
       "  <thead>\n",
       "    <tr style=\"text-align: right;\">\n",
       "      <th></th>\n",
       "      <th></th>\n",
       "      <th>count</th>\n",
       "      <th>mean</th>\n",
       "      <th>std</th>\n",
       "    </tr>\n",
       "    <tr>\n",
       "      <th>condition</th>\n",
       "      <th>mode</th>\n",
       "      <th></th>\n",
       "      <th></th>\n",
       "      <th></th>\n",
       "    </tr>\n",
       "  </thead>\n",
       "  <tbody>\n",
       "    <tr>\n",
       "      <th rowspan=\"2\" valign=\"top\">Avatar</th>\n",
       "      <th>First Person</th>\n",
       "      <td>11.0</td>\n",
       "      <td>28.818182</td>\n",
       "      <td>4.490394</td>\n",
       "    </tr>\n",
       "    <tr>\n",
       "      <th>Hybrid</th>\n",
       "      <td>11.0</td>\n",
       "      <td>27.272727</td>\n",
       "      <td>5.178627</td>\n",
       "    </tr>\n",
       "    <tr>\n",
       "      <th rowspan=\"2\" valign=\"top\">Blob</th>\n",
       "      <th>First Person</th>\n",
       "      <td>13.0</td>\n",
       "      <td>26.384615</td>\n",
       "      <td>5.620475</td>\n",
       "    </tr>\n",
       "    <tr>\n",
       "      <th>Hybrid</th>\n",
       "      <td>13.0</td>\n",
       "      <td>27.615385</td>\n",
       "      <td>5.485412</td>\n",
       "    </tr>\n",
       "  </tbody>\n",
       "</table>\n",
       "</div>"
      ],
      "text/plain": [
       "                        count       mean       std\n",
       "condition mode                                    \n",
       "Avatar    First Person   11.0  28.818182  4.490394\n",
       "          Hybrid         11.0  27.272727  5.178627\n",
       "Blob      First Person   13.0  26.384615  5.620475\n",
       "          Hybrid         13.0  27.615385  5.485412"
      ]
     },
     "execution_count": 54,
     "metadata": {},
     "output_type": "execute_result"
    }
   ],
   "source": [
    "summarize(eb, \"score\")"
   ]
  },
  {
   "cell_type": "code",
   "execution_count": 55,
   "id": "331b5de7",
   "metadata": {
    "scrolled": true
   },
   "outputs": [
    {
     "data": {
      "image/png": "[encoded data removed]",
      "text/plain": [
       "<Figure size 288x288 with 1 Axes>"
      ]
     },
     "metadata": {},
     "output_type": "display_data"
    }
   ],
   "source": [
    "fig, ax = plt.subplots(figsize=(4,4))\n",
    "boxplot(eb, \"score\", \"EB total score\", ax)"
   ]
  },
  {
   "cell_type": "code",
   "execution_count": 56,
   "id": "7cd14d7a",
   "metadata": {},
   "outputs": [],
   "source": [
    "# if interaction is significant, create interaction plot\n",
    "if eb_anova[\"p-unc\"].tolist()[-1] < sig_level:\n",
    "    fig, ax = plt.subplots(figsize=(4,4))\n",
    "    interact_plot(eb, \"score\", \"Interaction Condition x Mode (on EB total score)\", ax=ax)"
   ]
  },
  {
   "cell_type": "markdown",
   "id": "edbda1f9",
   "metadata": {},
   "source": [
    "## Assumption Check Embodiment"
   ]
  },
  {
   "cell_type": "code",
   "execution_count": 67,
   "id": "a944c14c",
   "metadata": {},
   "outputs": [
    {
     "name": "stdout",
     "output_type": "stream",
     "text": [
      "Checking the assumptions for the dependent variable EB Total Score...\n",
      "\n",
      "The residuals are approximately normally distributed for each level of the within-subjects factor (tested using the Shapiro-Wilks Test)\n",
      "\n",
      "There should be equal variance for every level of within-subject factor:\n",
      "For the level Hybrid, Levene's test resulted in a p-value of 0.904, indicating that the assumption of equal variances is True.\n",
      "For the level First Person, Levene's test resulted in a p-value of 0.7, indicating that the assumption of equal variances is True.\n",
      "\n",
      "Mauchly’s test of sphericity resulted in a p-value of 1.0, indicating that the assumption is True.\n",
      "\n",
      "The homogeneity of variance-covariance matrices formed by the between-subject factor for each level of the within-subject factor should be equal:\n",
      "For the level First Person, Box’s M test resulted in a p-value of 0.474, indicating that the assumption is True.\n",
      "For the level Hybrid, Box’s M test resulted in a p-value of 0.853, indicating that the assumption is True.\n",
      "\n",
      "A data point is called an outlier if it > 3 sd away from the mean.\n",
      "There are no outliers!\n",
      "\n",
      "ALL ASSUMPTIONS ARE TRUE!\n"
     ]
    }
   ],
   "source": [
    "check_assumptions(eb, 'score', \"EB Total Score\")"
   ]
  }
 ],
 "metadata": {
  "kernelspec": {
   "display_name": "Python 3",
   "language": "python",
   "name": "python3"
  },
  "language_info": {
   "codemirror_mode": {
    "name": "ipython",
    "version": 3
   },
   "file_extension": ".py",
   "mimetype": "text/x-python",
   "name": "python",
   "nbconvert_exporter": "python",
   "pygments_lexer": "ipython3",
   "version": "3.8.8"
  }
 },
 "nbformat": 4,
 "nbformat_minor": 5
}
