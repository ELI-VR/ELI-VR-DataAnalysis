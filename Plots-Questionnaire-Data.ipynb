{
 "cells": [
  {
   "cell_type": "code",
   "execution_count": null,
   "id": "c30e0f79",
   "metadata": {},
   "outputs": [],
   "source": [
    "import pandas as pd\n",
    "import matplotlib.pyplot as plt\n",
    "import matplotlib.ticker as ticker\n",
    "import seaborn as sns"
   ]
  },
  {
   "cell_type": "code",
   "execution_count": null,
   "id": "77697990",
   "metadata": {},
   "outputs": [],
   "source": [
    "df = pd.read_csv(\"data/data_questionnaires_preprocessed.csv\")"
   ]
  },
  {
   "cell_type": "code",
   "execution_count": null,
   "id": "3babd021",
   "metadata": {},
   "outputs": [],
   "source": [
    "print(\"In total, there were {} participants.\".format(len(df)))"
   ]
  },
  {
   "cell_type": "code",
   "execution_count": null,
   "id": "ea1f5fc4",
   "metadata": {
    "scrolled": true
   },
   "outputs": [],
   "source": [
    "print(\"{} participants were in the blob condition, {} in the avatar condition.\".format(df[\"blob\"].value_counts()[1], df[\"blob\"].value_counts()[0]))"
   ]
  },
  {
   "cell_type": "code",
   "execution_count": null,
   "id": "017b2fb8",
   "metadata": {},
   "outputs": [],
   "source": [
    "def createBoxplot(data, ax, title, labels=None, xlabel='', fontsize=12):\n",
    "    sns.boxplot(data=data, ax=ax)\n",
    "    if labels:\n",
    "        ax.set_xticks(range(len(labels)))\n",
    "        ax.set_xticklabels(labels) \n",
    "    ax.set_title(title, pad=20, fontsize=fontsize)\n",
    "    ax.set_xlabel(xlabel)\n",
    "    ax.set_ylabel('')"
   ]
  },
  {
   "cell_type": "code",
   "execution_count": null,
   "id": "70e4c317",
   "metadata": {},
   "outputs": [],
   "source": [
    "def secondXAxis(originalaxis, xticks, minorlocations, minorlabels):\n",
    "    # Second X-axis\n",
    "    ax2 = originalaxis.twiny()\n",
    "\n",
    "    ax2.spines[\"bottom\"].set_position((\"axes\", -0.1))\n",
    "    ax2.tick_params('both', length=0, width=0, which='minor')\n",
    "    ax2.tick_params('both', direction='in', which='major')\n",
    "    ax2.xaxis.set_ticks_position(\"bottom\")\n",
    "    ax2.xaxis.set_label_position(\"bottom\")\n",
    "\n",
    "    ax2.set_xticks(xticks)\n",
    "    ax2.xaxis.set_major_formatter(ticker.NullFormatter())\n",
    "    ax2.xaxis.set_minor_locator(ticker.FixedLocator(minorlocations))\n",
    "    ax2.xaxis.set_minor_formatter(ticker.FixedFormatter(minorlabels))"
   ]
  },
  {
   "cell_type": "code",
   "execution_count": null,
   "id": "3472168f",
   "metadata": {
    "scrolled": true
   },
   "outputs": [],
   "source": [
    "fig, axes = plt.subplots(nrows=1, ncols=3, figsize=(10,3))\n",
    "plt.subplots_adjust(wspace=0.4)\n",
    "fig.suptitle('Questionnaire data', fontsize=16, y=1.15)\n",
    "\n",
    "axes = axes.ravel()\n",
    "\n",
    "sns.set_palette(\"Set1\")\n",
    "\n",
    "createBoxplot(df[[\"SSQ_TS_FP\", \"SSQ_TS_H\"]], axes[0], \"Simulator Sickness\", [\"First Person\", \"Hybrid\"])\n",
    "createBoxplot(df[[\"EB_EB_FP\", \"EB_EB_H\"]], axes[1], \"Embodiment\", [\"First Person\", \"Hybrid\"])\n",
    "createBoxplot(df[[\"EB_SP_FP\", \"EB_SP_H\"]], axes[2], \"Presence\", [\"First Person\", \"Hybrid\"])\n",
    "\n",
    "sns.despine()"
   ]
  },
  {
   "cell_type": "code",
   "execution_count": null,
   "id": "afee9f89",
   "metadata": {
    "scrolled": false
   },
   "outputs": [],
   "source": [
    "fig, axes = plt.subplots(nrows=2, ncols=2, figsize=(20,15))\n",
    "fig.suptitle(\"Questionnaires - Subscales\", y=0.95, fontsize=20)\n",
    "plt.subplots_adjust(hspace=0.3)\n",
    "sns.set_palette(\"Paired\")\n",
    "axes = axes.ravel()\n",
    "\n",
    "createBoxplot(df[['SSQ_N_FP', 'SSQ_N_H', \n",
    "                  'SSQ_O_FP', 'SSQ_O_H',\n",
    "                  'SSQ_D_FP', 'SSQ_D_H']], \n",
    "              axes[0], \n",
    "              \"Simulator Sickness\",\n",
    "             [\"First Person\", \"Hybrid\"]*3,\n",
    "             fontsize=16)\n",
    "secondXAxis(axes[0], [0.0, 0.33, 0.66, 1.0], [0.15, 0.5, 0.85], ['Nausea', 'Oculomotor', 'Disorientation'])\n",
    "\n",
    "createBoxplot(df[['EB_SL_FP', 'EB_SL_H',\n",
    "                  'EB_A_FP', 'EB_A_H',\n",
    "                  'EB_O_FP', 'EB_O_H']], \n",
    "              axes[1], \n",
    "              \"Embodiments\",\n",
    "             [\"First Person\", \"Hybrid\"]*3,\n",
    "             fontsize=16)\n",
    "secondXAxis(axes[1], [0.0, 0.33, 0.66, 1.0], [0.15, 0.5, 0.85], ['Self-location', 'Agency', 'Ownership'])\n",
    "\n",
    "createBoxplot(df[['EB_EL_FP', 'EB_EL_H',\n",
    "                  'EB_PA_FP', 'EB_PA_H']], \n",
    "              axes[2], \n",
    "              \"Spatial Presence\",\n",
    "             [\"First Person\", \"Hybrid\"]*2,\n",
    "             fontsize=16)\n",
    "\n",
    "secondXAxis(axes[2], [0.0,0.5, 1.0], [0.25, 0.75], ['Environmental location', 'Possible Actions'])\n",
    "\n",
    "axes[3].axis(\"off\")\n",
    "              \n",
    "sns.despine()"
   ]
  },
  {
   "cell_type": "code",
   "execution_count": null,
   "id": "9abcfc8f",
   "metadata": {},
   "outputs": [],
   "source": [
    "fig, axes = plt.subplots(nrows=1, ncols=1, figsize=(12,5))\n",
    "sns.set_palette(\"Paired\")\n",
    "\n",
    "createBoxplot(df[[\"FP_0_MS\", \"H_0_MS\",\n",
    "                  \"FP_1_MS\", \"H_1_MS\", \n",
    "                  \"FP_2_MS\", \"H_2_MS\",\n",
    "                  \"FP_3_MS\", \"H_3_MS\",\n",
    "                  \"FP_4_MS\", \"H_4_MS\",]], \n",
    "              axes, \n",
    "              \"Motion Sickness Ratings per Area and Condition\", \n",
    "              [\"First Person\", \"Hybrid\"]*5)\n",
    "\n",
    "secondXAxis(axes, [0.0, 0.185, 0.385, 0.585, 0.785, 1.0], [0.1, 0.3, 0.5, 0.7, 0.9], ['Tutorial', 'Area 1', 'Area 2', 'Area 3', 'Area 4'])\n",
    "\n",
    "sns.despine()\n"
   ]
  },
  {
   "cell_type": "code",
   "execution_count": null,
   "id": "4e081ecd",
   "metadata": {},
   "outputs": [],
   "source": [
    "df[['SSQ_N_FP', 'SSQ_O_FP', 'SSQ_D_FP', 'SSQ_TS_FP','SSQ_N_H', 'SSQ_O_H', 'SSQ_D_H', 'SSQ_TS_H','SSQ_N_AVG', 'SSQ_O_AVG', 'SSQ_D_AVG', 'SSQ_TS_AVG']].describe().round(decimals=2)"
   ]
  },
  {
   "cell_type": "code",
   "execution_count": null,
   "id": "1d1abc75",
   "metadata": {},
   "outputs": [],
   "source": [
    "df[['P_FP', 'P_H', 'P_AVG']].describe().round(decimals=2).rename(columns={'P_FP': 'Presence First Person', 'P_H': 'Hybrid', 'P_AVG': 'Average'})"
   ]
  },
  {
   "cell_type": "code",
   "execution_count": null,
   "id": "283e9977",
   "metadata": {},
   "outputs": [],
   "source": [
    "# Embodiment subscales + total\n",
    "cols = {'EB_SL_FP': 'Self-Location First Person', 'EB_A_FP': 'Agency First Person', 'EB_O_FP': 'Ownership First Person',\n",
    "       'EB_SL_H': 'Self-Location Hybrid', 'EB_A_H': 'Agency Hybrid', 'EB_O_H': 'Ownership Hybrid',\n",
    "       'EB_EB_FP': 'Average First Person', 'EB_EB_H': 'Averagel Hybrid', 'EB_EB_AVG' : 'Total Average'}\n",
    "df[['EB_SL_FP', 'EB_A_FP', 'EB_O_FP', 'EB_EB_FP', 'EB_SL_H', 'EB_A_H', 'EB_O_H', 'EB_EB_H', 'EB_EB_AVG']].describe().round(decimals=2).rename(columns=cols)"
   ]
  },
  {
   "cell_type": "code",
   "execution_count": null,
   "id": "ee6656e6",
   "metadata": {
    "scrolled": true
   },
   "outputs": [],
   "source": [
    "# Spatial Presence subscales + total\n",
    "cols = {'EB_EL_FP': 'Environmental Location First Person', 'EB_PA_FP': 'Possible Actions First Person',\n",
    "       'EB_EL_H': 'Environmental Location Hybrid', 'EB_PA_H': 'Possible Actions Hybrid',\n",
    "       'EB_SP_FP': 'Average First Person', 'EB_SP_H': 'Averagel Hybrid', 'EB_SP_AVG' : 'Total Average'}\n",
    "\n",
    "df[['EB_EL_FP', 'EB_PA_FP', 'EB_SP_FP', 'EB_EL_H', 'EB_PA_H', 'EB_SP_H', 'EB_SP_AVG']].describe().round(decimals=2).rename(columns=cols)"
   ]
  }
 ],
 "metadata": {
  "kernelspec": {
   "display_name": "Python 3",
   "language": "python",
   "name": "python3"
  },
  "language_info": {
   "codemirror_mode": {
    "name": "ipython",
    "version": 3
   },
   "file_extension": ".py",
   "mimetype": "text/x-python",
   "name": "python",
   "nbconvert_exporter": "python",
   "pygments_lexer": "ipython3",
   "version": "3.8.8"
  }
 },
 "nbformat": 4,
 "nbformat_minor": 5
}
